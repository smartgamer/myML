{
 "cells": [
  {
   "cell_type": "markdown",
   "metadata": {},
   "source": [
    "# SimFin Tutorial 05 - Data Hubs\n",
    "\n",
    "[Original repository on GitHub](https://github.com/simfin/simfin-tutorials)\n",
    "\n",
    "This tutorial was originally written by [Hvass Labs](https://github.com/Hvass-Labs)\n",
    "\n",
    "----\n",
    "\n",
    "\"I just have to type Y instead of Y-E-S ... Hey Miss-didn't-find-me-attractive-sexually-anymore, I just tripled my productivity!\" &ndash; [The Simpsons](https://www.youtube.com/watch?v=R_rF4kcqLkI)"
   ]
  },
  {
   "cell_type": "markdown",
   "metadata": {},
   "source": [
    "## Introduction\n",
    "\n",
    "In the previous tutorials we saw how to download and load financial data from the SimFin server using the `sf.load` functions, how to resample and reindex the data using the `sf.resample` and `sf.reindex` functions, how to calculate growth-rates and stock-returns using the `sf.rel_change` and `sf.mean_log_change` functions, and finally how to combine all of this to calculate signals using functions like `sf.price_signals` and `sf.val_signals`.\n",
    "\n",
    "Because we have to go through all these basic steps every time we want to work on the financial data, and this mostly consists of copy-pasting our previous code, the simfin package provides what we call *Data Hubs* to do most of the work for us.\n",
    "\n",
    "The data-hub also uses disk-caching for its slow computations, so the results are automatically saved to disk and will be reloaded very quickly the next time the slow functions are called. The data-hub also ensures the disk-cache is updated whenever new datasets are downloaded from the SimFin server. The data-hub's functions are also RAM-cached, so the second time you call them, they return the results nearly instantly.\n",
    "\n",
    "Altogether, the data-hub makes it much easier and faster to work with the financial data.\n",
    "\n",
    "It is not strictly necessary for you to be familiar with the previous tutorials on the basics of simfin, but it is helpful because you would have a better understanding of what exactly the data-hub is doing."
   ]
  },
  {
   "cell_type": "markdown",
   "metadata": {},
   "source": [
    "## Imports"
   ]
  },
  {
   "cell_type": "code",
   "execution_count": 1,
   "metadata": {},
   "outputs": [],
   "source": [
    "%matplotlib inline\n",
    "import pandas as pd\n",
    "import seaborn as sns\n",
    "\n",
    "# Import the main functionality from the SimFin Python API.\n",
    "import simfin as sf\n",
    "\n",
    "# Import names used for easy access to SimFin's data-columns.\n",
    "from simfin.names import *"
   ]
  },
  {
   "cell_type": "code",
   "execution_count": 2,
   "metadata": {},
   "outputs": [
    {
     "data": {
      "text/plain": [
       "'0.8.3'"
      ]
     },
     "execution_count": 2,
     "metadata": {},
     "output_type": "execute_result"
    }
   ],
   "source": [
    "# Version of the SimFin Python API.\n",
    "sf.__version__"
   ]
  },
  {
   "cell_type": "markdown",
   "metadata": {},
   "source": [
    "## Config"
   ]
  },
  {
   "cell_type": "code",
   "execution_count": 3,
   "metadata": {},
   "outputs": [],
   "source": [
    "# SimFin data-directory.\n",
    "sf.set_data_dir('~/simfin_data/')"
   ]
  },
  {
   "cell_type": "code",
   "execution_count": 4,
   "metadata": {},
   "outputs": [],
   "source": [
    "# SimFin load API key or use free data.\n",
    "sf.load_api_key(path='~/simfin_api_key.txt', default_key='free')"
   ]
  },
  {
   "cell_type": "code",
   "execution_count": 5,
   "metadata": {},
   "outputs": [],
   "source": [
    "# Seaborn set plotting style.\n",
    "sns.set_style(\"whitegrid\")"
   ]
  },
  {
   "cell_type": "markdown",
   "metadata": {},
   "source": [
    "## Data Hub\n",
    "\n",
    "In these examples, we are interested in US stock-market data for the tickers AAPL, AMZN and MSFT. We want to add a 60-day offset to the dates of the financial reports, to simulate the delay between the date of a financial report and when it was actually made available to the public. And finally we want to download the datasets from the SimFin server every 30 days, except for the share-prices which should be downloaded every 10 days."
   ]
  },
  {
   "cell_type": "code",
   "execution_count": 6,
   "metadata": {},
   "outputs": [],
   "source": [
    "# We are interested in the US stock-market.\n",
    "market = 'us'\n",
    "\n",
    "# List of tickers we want. If None then all tickers are used.\n",
    "tickers = ['AAPL', 'AMZN', 'MSFT']\n",
    "\n",
    "# Add this date-offset to the fundamental data such as\n",
    "# Income Statements etc., because the REPORT_DATE is not\n",
    "# when it was actually made available to the public,\n",
    "# which can be 1, 2 or even 3 months after the Report Date.\n",
    "offset = pd.DateOffset(days=60)\n",
    "\n",
    "# Refresh the fundamental datasets (Income Statements etc.)\n",
    "# every 30 days.\n",
    "refresh_days = 30\n",
    "\n",
    "# Refresh the dataset with shareprices every 10 days.\n",
    "refresh_days_shareprices = 10"
   ]
  },
  {
   "cell_type": "markdown",
   "metadata": {},
   "source": [
    "Using these settings, we can then create the data-hub object. This basically just creates and configures the data-hub. It does not load any data or perform any calculations at this point, so it returns nearly instantly."
   ]
  },
  {
   "cell_type": "code",
   "execution_count": 7,
   "metadata": {},
   "outputs": [
    {
     "name": "stdout",
     "output_type": "stream",
     "text": [
      "CPU times: user 15 µs, sys: 3 µs, total: 18 µs\n",
      "Wall time: 19.6 µs\n"
     ]
    }
   ],
   "source": [
    "%%time\n",
    "hub = sf.StockHub(market=market, tickers=tickers, offset=offset,\n",
    "                  refresh_days=refresh_days,\n",
    "                  refresh_days_shareprices=refresh_days_shareprices)"
   ]
  },
  {
   "cell_type": "markdown",
   "metadata": {},
   "source": [
    "## Load Datasets\n",
    "\n",
    "We can now use the data-hub to load financial datasets. This is very similar to the `sf.load` functions, except that we don't have to set the market-argument because that is already known by the data-hub. This is how we load the dataset with share-prices:"
   ]
  },
  {
   "cell_type": "code",
   "execution_count": 8,
   "metadata": {},
   "outputs": [
    {
     "name": "stdout",
     "output_type": "stream",
     "text": [
      "Dataset \"us-shareprices-daily\" on disk (0 days old).\n",
      "- Loading from disk ... Done!\n",
      "CPU times: user 12.8 s, sys: 953 ms, total: 13.7 s\n",
      "Wall time: 13.9 s\n"
     ]
    }
   ],
   "source": [
    "%%time\n",
    "df_prices = hub.load_shareprices(variant='daily')"
   ]
  },
  {
   "cell_type": "code",
   "execution_count": 9,
   "metadata": {},
   "outputs": [
    {
     "data": {
      "text/html": [
       "<div>\n",
       "<style scoped>\n",
       "    .dataframe tbody tr th:only-of-type {\n",
       "        vertical-align: middle;\n",
       "    }\n",
       "\n",
       "    .dataframe tbody tr th {\n",
       "        vertical-align: top;\n",
       "    }\n",
       "\n",
       "    .dataframe thead th {\n",
       "        text-align: right;\n",
       "    }\n",
       "</style>\n",
       "<table border=\"1\" class=\"dataframe\">\n",
       "  <thead>\n",
       "    <tr style=\"text-align: right;\">\n",
       "      <th></th>\n",
       "      <th></th>\n",
       "      <th>SimFinId</th>\n",
       "      <th>Open</th>\n",
       "      <th>Low</th>\n",
       "      <th>High</th>\n",
       "      <th>Close</th>\n",
       "      <th>Adj. Close</th>\n",
       "      <th>Dividend</th>\n",
       "      <th>Volume</th>\n",
       "      <th>Shares Outstanding</th>\n",
       "    </tr>\n",
       "    <tr>\n",
       "      <th>Ticker</th>\n",
       "      <th>Date</th>\n",
       "      <th></th>\n",
       "      <th></th>\n",
       "      <th></th>\n",
       "      <th></th>\n",
       "      <th></th>\n",
       "      <th></th>\n",
       "      <th></th>\n",
       "      <th></th>\n",
       "      <th></th>\n",
       "    </tr>\n",
       "  </thead>\n",
       "  <tbody>\n",
       "    <tr>\n",
       "      <th rowspan=\"5\" valign=\"top\">AAPL</th>\n",
       "      <th>2007-01-03</th>\n",
       "      <td>111052</td>\n",
       "      <td>3.08</td>\n",
       "      <td>2.92</td>\n",
       "      <td>3.09</td>\n",
       "      <td>2.99</td>\n",
       "      <td>2.57</td>\n",
       "      <td>NaN</td>\n",
       "      <td>44225700</td>\n",
       "      <td>NaN</td>\n",
       "    </tr>\n",
       "    <tr>\n",
       "      <th>2007-01-04</th>\n",
       "      <td>111052</td>\n",
       "      <td>3.00</td>\n",
       "      <td>2.99</td>\n",
       "      <td>3.07</td>\n",
       "      <td>3.06</td>\n",
       "      <td>2.63</td>\n",
       "      <td>NaN</td>\n",
       "      <td>30259300</td>\n",
       "      <td>NaN</td>\n",
       "    </tr>\n",
       "    <tr>\n",
       "      <th>2007-01-05</th>\n",
       "      <td>111052</td>\n",
       "      <td>3.06</td>\n",
       "      <td>3.01</td>\n",
       "      <td>3.08</td>\n",
       "      <td>3.04</td>\n",
       "      <td>2.61</td>\n",
       "      <td>NaN</td>\n",
       "      <td>29812200</td>\n",
       "      <td>NaN</td>\n",
       "    </tr>\n",
       "    <tr>\n",
       "      <th>2007-01-08</th>\n",
       "      <td>111052</td>\n",
       "      <td>3.07</td>\n",
       "      <td>3.05</td>\n",
       "      <td>3.09</td>\n",
       "      <td>3.05</td>\n",
       "      <td>2.62</td>\n",
       "      <td>NaN</td>\n",
       "      <td>28468100</td>\n",
       "      <td>NaN</td>\n",
       "    </tr>\n",
       "    <tr>\n",
       "      <th>2007-01-09</th>\n",
       "      <td>111052</td>\n",
       "      <td>3.09</td>\n",
       "      <td>3.04</td>\n",
       "      <td>3.32</td>\n",
       "      <td>3.31</td>\n",
       "      <td>2.84</td>\n",
       "      <td>NaN</td>\n",
       "      <td>119617800</td>\n",
       "      <td>NaN</td>\n",
       "    </tr>\n",
       "  </tbody>\n",
       "</table>\n",
       "</div>"
      ],
      "text/plain": [
       "                   SimFinId  Open   Low  High  Close  Adj. Close  Dividend  \\\n",
       "Ticker Date                                                                  \n",
       "AAPL   2007-01-03    111052  3.08  2.92  3.09   2.99        2.57       NaN   \n",
       "       2007-01-04    111052  3.00  2.99  3.07   3.06        2.63       NaN   \n",
       "       2007-01-05    111052  3.06  3.01  3.08   3.04        2.61       NaN   \n",
       "       2007-01-08    111052  3.07  3.05  3.09   3.05        2.62       NaN   \n",
       "       2007-01-09    111052  3.09  3.04  3.32   3.31        2.84       NaN   \n",
       "\n",
       "                      Volume  Shares Outstanding  \n",
       "Ticker Date                                       \n",
       "AAPL   2007-01-03   44225700                 NaN  \n",
       "       2007-01-04   30259300                 NaN  \n",
       "       2007-01-05   29812200                 NaN  \n",
       "       2007-01-08   28468100                 NaN  \n",
       "       2007-01-09  119617800                 NaN  "
      ]
     },
     "execution_count": 9,
     "metadata": {},
     "output_type": "execute_result"
    }
   ],
   "source": [
    "df_prices.head()"
   ]
  },
  {
   "cell_type": "markdown",
   "metadata": {},
   "source": [
    "Note what happens if we call the exact same function again with the exact same argument - it returns the exact same result almost instantly. This is because the data-hub uses a RAM-cache for most of its functions, so the DataFrame is just taken from RAM instead of being reloaded from disk."
   ]
  },
  {
   "cell_type": "code",
   "execution_count": 10,
   "metadata": {},
   "outputs": [
    {
     "name": "stdout",
     "output_type": "stream",
     "text": [
      "CPU times: user 16 µs, sys: 1e+03 ns, total: 17 µs\n",
      "Wall time: 23.6 µs\n"
     ]
    }
   ],
   "source": [
    "%%time\n",
    "df_prices = hub.load_shareprices(variant='daily')"
   ]
  },
  {
   "cell_type": "markdown",
   "metadata": {},
   "source": [
    "We can also use the data-hub to load other datasets such as the TTM Income Statements:"
   ]
  },
  {
   "cell_type": "code",
   "execution_count": 11,
   "metadata": {},
   "outputs": [
    {
     "name": "stdout",
     "output_type": "stream",
     "text": [
      "Dataset \"us-income-ttm\" on disk (0 days old).\n",
      "- Loading from disk ... Done!\n",
      "CPU times: user 361 ms, sys: 0 ns, total: 361 ms\n",
      "Wall time: 358 ms\n"
     ]
    }
   ],
   "source": [
    "%%time\n",
    "df_income_ttm = hub.load_income(variant='ttm')"
   ]
  },
  {
   "cell_type": "code",
   "execution_count": 12,
   "metadata": {},
   "outputs": [
    {
     "data": {
      "text/html": [
       "<div>\n",
       "<style scoped>\n",
       "    .dataframe tbody tr th:only-of-type {\n",
       "        vertical-align: middle;\n",
       "    }\n",
       "\n",
       "    .dataframe tbody tr th {\n",
       "        vertical-align: top;\n",
       "    }\n",
       "\n",
       "    .dataframe thead th {\n",
       "        text-align: right;\n",
       "    }\n",
       "</style>\n",
       "<table border=\"1\" class=\"dataframe\">\n",
       "  <thead>\n",
       "    <tr style=\"text-align: right;\">\n",
       "      <th></th>\n",
       "      <th></th>\n",
       "      <th>SimFinId</th>\n",
       "      <th>Currency</th>\n",
       "      <th>Fiscal Year</th>\n",
       "      <th>Fiscal Period</th>\n",
       "      <th>Publish Date</th>\n",
       "      <th>Restated Date</th>\n",
       "      <th>Shares (Basic)</th>\n",
       "      <th>Shares (Diluted)</th>\n",
       "      <th>Revenue</th>\n",
       "      <th>Cost of Revenue</th>\n",
       "      <th>...</th>\n",
       "      <th>Non-Operating Income (Loss)</th>\n",
       "      <th>Interest Expense, Net</th>\n",
       "      <th>Pretax Income (Loss), Adj.</th>\n",
       "      <th>Abnormal Gains (Losses)</th>\n",
       "      <th>Pretax Income (Loss)</th>\n",
       "      <th>Income Tax (Expense) Benefit, Net</th>\n",
       "      <th>Income (Loss) from Continuing Operations</th>\n",
       "      <th>Net Extraordinary Gains (Losses)</th>\n",
       "      <th>Net Income</th>\n",
       "      <th>Net Income (Common)</th>\n",
       "    </tr>\n",
       "    <tr>\n",
       "      <th>Ticker</th>\n",
       "      <th>Report Date</th>\n",
       "      <th></th>\n",
       "      <th></th>\n",
       "      <th></th>\n",
       "      <th></th>\n",
       "      <th></th>\n",
       "      <th></th>\n",
       "      <th></th>\n",
       "      <th></th>\n",
       "      <th></th>\n",
       "      <th></th>\n",
       "      <th></th>\n",
       "      <th></th>\n",
       "      <th></th>\n",
       "      <th></th>\n",
       "      <th></th>\n",
       "      <th></th>\n",
       "      <th></th>\n",
       "      <th></th>\n",
       "      <th></th>\n",
       "      <th></th>\n",
       "      <th></th>\n",
       "    </tr>\n",
       "  </thead>\n",
       "  <tbody>\n",
       "    <tr>\n",
       "      <th rowspan=\"5\" valign=\"top\">AAPL</th>\n",
       "      <th>2001-03-31</th>\n",
       "      <td>111052</td>\n",
       "      <td>USD</td>\n",
       "      <td>2001</td>\n",
       "      <td>Q2</td>\n",
       "      <td>2001-05-12</td>\n",
       "      <td>2002-05-14</td>\n",
       "      <td>2.420866e+10</td>\n",
       "      <td>2.490018e+10</td>\n",
       "      <td>6.133000e+09</td>\n",
       "      <td>-4.759000e+09</td>\n",
       "      <td>...</td>\n",
       "      <td>246000000.0</td>\n",
       "      <td>NaN</td>\n",
       "      <td>70000000</td>\n",
       "      <td>196000000.0</td>\n",
       "      <td>266000000</td>\n",
       "      <td>-60000000.0</td>\n",
       "      <td>206000000</td>\n",
       "      <td>NaN</td>\n",
       "      <td>206000000</td>\n",
       "      <td>218000000</td>\n",
       "    </tr>\n",
       "    <tr>\n",
       "      <th>2001-06-30</th>\n",
       "      <td>111052</td>\n",
       "      <td>USD</td>\n",
       "      <td>2001</td>\n",
       "      <td>Q3</td>\n",
       "      <td>2001-08-13</td>\n",
       "      <td>2002-08-09</td>\n",
       "      <td>2.420866e+10</td>\n",
       "      <td>2.490018e+10</td>\n",
       "      <td>5.783000e+09</td>\n",
       "      <td>-4.518000e+09</td>\n",
       "      <td>...</td>\n",
       "      <td>239000000.0</td>\n",
       "      <td>NaN</td>\n",
       "      <td>-63000000</td>\n",
       "      <td>146000000.0</td>\n",
       "      <td>83000000</td>\n",
       "      <td>-16000000.0</td>\n",
       "      <td>67000000</td>\n",
       "      <td>NaN</td>\n",
       "      <td>67000000</td>\n",
       "      <td>79000000</td>\n",
       "    </tr>\n",
       "    <tr>\n",
       "      <th>2001-09-30</th>\n",
       "      <td>111052</td>\n",
       "      <td>USD</td>\n",
       "      <td>2001</td>\n",
       "      <td>Q4</td>\n",
       "      <td>2001-11-11</td>\n",
       "      <td>2003-12-19</td>\n",
       "      <td>2.420866e+10</td>\n",
       "      <td>2.490018e+10</td>\n",
       "      <td>5.363000e+09</td>\n",
       "      <td>-4.128000e+09</td>\n",
       "      <td>...</td>\n",
       "      <td>217000000.0</td>\n",
       "      <td>NaN</td>\n",
       "      <td>-116000000</td>\n",
       "      <td>64000000.0</td>\n",
       "      <td>-52000000</td>\n",
       "      <td>15000000.0</td>\n",
       "      <td>-37000000</td>\n",
       "      <td>NaN</td>\n",
       "      <td>-37000000</td>\n",
       "      <td>-25000000</td>\n",
       "    </tr>\n",
       "    <tr>\n",
       "      <th>2001-12-31</th>\n",
       "      <td>111052</td>\n",
       "      <td>USD</td>\n",
       "      <td>2002</td>\n",
       "      <td>Q1</td>\n",
       "      <td>2002-02-11</td>\n",
       "      <td>2003-02-10</td>\n",
       "      <td>2.420866e+10</td>\n",
       "      <td>2.490018e+10</td>\n",
       "      <td>5.731000e+09</td>\n",
       "      <td>-4.053000e+09</td>\n",
       "      <td>...</td>\n",
       "      <td>184000000.0</td>\n",
       "      <td>NaN</td>\n",
       "      <td>291000000</td>\n",
       "      <td>5000000.0</td>\n",
       "      <td>296000000</td>\n",
       "      <td>-88000000.0</td>\n",
       "      <td>208000000</td>\n",
       "      <td>NaN</td>\n",
       "      <td>208000000</td>\n",
       "      <td>208000000</td>\n",
       "    </tr>\n",
       "    <tr>\n",
       "      <th>2002-03-31</th>\n",
       "      <td>111052</td>\n",
       "      <td>USD</td>\n",
       "      <td>2002</td>\n",
       "      <td>Q2</td>\n",
       "      <td>2002-05-14</td>\n",
       "      <td>2003-05-13</td>\n",
       "      <td>2.420866e+10</td>\n",
       "      <td>2.490018e+10</td>\n",
       "      <td>5.795000e+09</td>\n",
       "      <td>-4.093000e+09</td>\n",
       "      <td>...</td>\n",
       "      <td>146000000.0</td>\n",
       "      <td>NaN</td>\n",
       "      <td>289000000</td>\n",
       "      <td>0.0</td>\n",
       "      <td>289000000</td>\n",
       "      <td>-84000000.0</td>\n",
       "      <td>205000000</td>\n",
       "      <td>NaN</td>\n",
       "      <td>205000000</td>\n",
       "      <td>205000000</td>\n",
       "    </tr>\n",
       "  </tbody>\n",
       "</table>\n",
       "<p>5 rows × 26 columns</p>\n",
       "</div>"
      ],
      "text/plain": [
       "                    SimFinId Currency  Fiscal Year Fiscal Period Publish Date  \\\n",
       "Ticker Report Date                                                              \n",
       "AAPL   2001-03-31     111052      USD         2001            Q2   2001-05-12   \n",
       "       2001-06-30     111052      USD         2001            Q3   2001-08-13   \n",
       "       2001-09-30     111052      USD         2001            Q4   2001-11-11   \n",
       "       2001-12-31     111052      USD         2002            Q1   2002-02-11   \n",
       "       2002-03-31     111052      USD         2002            Q2   2002-05-14   \n",
       "\n",
       "                   Restated Date  Shares (Basic)  Shares (Diluted)  \\\n",
       "Ticker Report Date                                                   \n",
       "AAPL   2001-03-31     2002-05-14    2.420866e+10      2.490018e+10   \n",
       "       2001-06-30     2002-08-09    2.420866e+10      2.490018e+10   \n",
       "       2001-09-30     2003-12-19    2.420866e+10      2.490018e+10   \n",
       "       2001-12-31     2003-02-10    2.420866e+10      2.490018e+10   \n",
       "       2002-03-31     2003-05-13    2.420866e+10      2.490018e+10   \n",
       "\n",
       "                         Revenue  Cost of Revenue  ...  \\\n",
       "Ticker Report Date                                 ...   \n",
       "AAPL   2001-03-31   6.133000e+09    -4.759000e+09  ...   \n",
       "       2001-06-30   5.783000e+09    -4.518000e+09  ...   \n",
       "       2001-09-30   5.363000e+09    -4.128000e+09  ...   \n",
       "       2001-12-31   5.731000e+09    -4.053000e+09  ...   \n",
       "       2002-03-31   5.795000e+09    -4.093000e+09  ...   \n",
       "\n",
       "                    Non-Operating Income (Loss)  Interest Expense, Net  \\\n",
       "Ticker Report Date                                                       \n",
       "AAPL   2001-03-31                   246000000.0                    NaN   \n",
       "       2001-06-30                   239000000.0                    NaN   \n",
       "       2001-09-30                   217000000.0                    NaN   \n",
       "       2001-12-31                   184000000.0                    NaN   \n",
       "       2002-03-31                   146000000.0                    NaN   \n",
       "\n",
       "                    Pretax Income (Loss), Adj.  Abnormal Gains (Losses)  \\\n",
       "Ticker Report Date                                                        \n",
       "AAPL   2001-03-31                     70000000              196000000.0   \n",
       "       2001-06-30                    -63000000              146000000.0   \n",
       "       2001-09-30                   -116000000               64000000.0   \n",
       "       2001-12-31                    291000000                5000000.0   \n",
       "       2002-03-31                    289000000                      0.0   \n",
       "\n",
       "                    Pretax Income (Loss)  Income Tax (Expense) Benefit, Net  \\\n",
       "Ticker Report Date                                                            \n",
       "AAPL   2001-03-31              266000000                        -60000000.0   \n",
       "       2001-06-30               83000000                        -16000000.0   \n",
       "       2001-09-30              -52000000                         15000000.0   \n",
       "       2001-12-31              296000000                        -88000000.0   \n",
       "       2002-03-31              289000000                        -84000000.0   \n",
       "\n",
       "                    Income (Loss) from Continuing Operations  \\\n",
       "Ticker Report Date                                             \n",
       "AAPL   2001-03-31                                  206000000   \n",
       "       2001-06-30                                   67000000   \n",
       "       2001-09-30                                  -37000000   \n",
       "       2001-12-31                                  208000000   \n",
       "       2002-03-31                                  205000000   \n",
       "\n",
       "                    Net Extraordinary Gains (Losses)  Net Income  \\\n",
       "Ticker Report Date                                                 \n",
       "AAPL   2001-03-31                                NaN   206000000   \n",
       "       2001-06-30                                NaN    67000000   \n",
       "       2001-09-30                                NaN   -37000000   \n",
       "       2001-12-31                                NaN   208000000   \n",
       "       2002-03-31                                NaN   205000000   \n",
       "\n",
       "                    Net Income (Common)  \n",
       "Ticker Report Date                       \n",
       "AAPL   2001-03-31             218000000  \n",
       "       2001-06-30              79000000  \n",
       "       2001-09-30             -25000000  \n",
       "       2001-12-31             208000000  \n",
       "       2002-03-31             205000000  \n",
       "\n",
       "[5 rows x 26 columns]"
      ]
     },
     "execution_count": 12,
     "metadata": {},
     "output_type": "execute_result"
    }
   ],
   "source": [
    "df_income_ttm.head()"
   ]
  },
  {
   "cell_type": "markdown",
   "metadata": {},
   "source": [
    "Again we see that the function returns nearly instantly when we call it the second time, provided the argument is exactly the same, because then the DataFrame is merely taken from the RAM-cache instead of being reloaded from disk:"
   ]
  },
  {
   "cell_type": "code",
   "execution_count": 13,
   "metadata": {},
   "outputs": [
    {
     "name": "stdout",
     "output_type": "stream",
     "text": [
      "CPU times: user 10 µs, sys: 1e+03 ns, total: 11 µs\n",
      "Wall time: 13.1 µs\n"
     ]
    }
   ],
   "source": [
    "%%time\n",
    "df_income_ttm = hub.load_income(variant='ttm')"
   ]
  },
  {
   "cell_type": "markdown",
   "metadata": {},
   "source": [
    "## RAM-Cache Warning\n",
    "\n",
    "Because the data-hub uses a RAM-cache for its functions, it means that you should **NEVER** modify the DataFrames returned by the data-hub's functions, because that would modify the DataFrames stored in the RAM-cache, which may interfere with the data-hubs' other functions that use the same data. If you want to modify the DataFrames returned by the data-hub, you should **ALWAYS** make a copy first!"
   ]
  },
  {
   "cell_type": "code",
   "execution_count": 14,
   "metadata": {},
   "outputs": [],
   "source": [
    "# Load the share-prices.\n",
    "df_prices = hub.load_shareprices(variant='daily')\n",
    "\n",
    "# Now we want to set the Closing share-prices to zero.\n",
    "\n",
    "# This is BAD because it changes the contents of the RAM-cache\n",
    "# inside the hub-object.\n",
    "# df_prices[CLOSE] = 0.0\n",
    "\n",
    "# This is fine because it only changes a copy of the data, so\n",
    "# the RAM-cache inside the hub-object remains unchanged.\n",
    "df_prices2 = df_prices.copy()\n",
    "df_prices2[CLOSE] = 0.0"
   ]
  },
  {
   "cell_type": "markdown",
   "metadata": {},
   "source": [
    "Although it is possible to clear the RAM-cache for the data-hubs' functions using the following command, it is recommended that you simply create a new data-hub and start over, if you accidentally modified any of the DataFrames returned by the data-hub."
   ]
  },
  {
   "cell_type": "code",
   "execution_count": 15,
   "metadata": {},
   "outputs": [],
   "source": [
    "# Clear the RAM-cache for the function.\n",
    "# hub.load_shareprices.cache_clear()"
   ]
  },
  {
   "cell_type": "markdown",
   "metadata": {},
   "source": [
    "## Calculate Signals\n",
    "\n",
    "The benefits of the data-hub are much greater for the functions that calculate signals such as valuation ratios, moving averages of the share-prices, sales and earnings growth, etc. The data-hub makes the syntax much simpler for these functions, because you only need to call a single function, which then loads the required datasets (or takes them from the RAM-cache if they have already been loaded), and then passes the datasets along with other relevant arguments to the lower-level functions that perform the actual computations.\n",
    "\n",
    "Furthermore, the data-hub also uses a disk-cache for its slow functions, so the results are automatically saved to a file on disk, which can be reloaded very quickly the next time you call the function. The cache-files are automatically updated by recomputing the slow functions, whenever the relevant datasets are downloaded again from the SimFin server.\n",
    "\n",
    "The disk-cache works in addition to the RAM-cache, so the data-hub uses two layers of caching to return the data as fast as possible, when the data does not have to be reloaded or calculated again.\n",
    "\n",
    "The filenames used by the disk-cache are automatically set from all the arguments to the data-hub and its functions, using a hashing-function that creates a short but nearly unique ID code, so the cache-files are kept separate when you call the same function but with different arguments."
   ]
  },
  {
   "cell_type": "markdown",
   "metadata": {},
   "source": [
    "### Price Signals\n",
    "\n",
    "This is how easily we may calculate price signals such as Moving Averages. Note that the function finished very quickly because we are only using data for 3 stocks, so there is no need for the disk-cache here. But if we had not specified a list of tickers when creating the data-hub object, this function would calculate the signals for thousands of stocks, which takes a while to compute, so the disk-cache is often very useful."
   ]
  },
  {
   "cell_type": "code",
   "execution_count": 16,
   "metadata": {},
   "outputs": [
    {
     "name": "stdout",
     "output_type": "stream",
     "text": [
      "Cache-file 'price_signals-d03458cf.pickle' not on disk.\n",
      "- Running function price_signals() ... Done!\n",
      "- Saving cache-file to disk ... Done!\n",
      "CPU times: user 60.3 ms, sys: 343 µs, total: 60.6 ms\n",
      "Wall time: 59.2 ms\n"
     ]
    }
   ],
   "source": [
    "%%time\n",
    "df_price_signals = hub.price_signals()"
   ]
  },
  {
   "cell_type": "code",
   "execution_count": 17,
   "metadata": {},
   "outputs": [
    {
     "data": {
      "text/html": [
       "<div>\n",
       "<style scoped>\n",
       "    .dataframe tbody tr th:only-of-type {\n",
       "        vertical-align: middle;\n",
       "    }\n",
       "\n",
       "    .dataframe tbody tr th {\n",
       "        vertical-align: top;\n",
       "    }\n",
       "\n",
       "    .dataframe thead th {\n",
       "        text-align: right;\n",
       "    }\n",
       "</style>\n",
       "<table border=\"1\" class=\"dataframe\">\n",
       "  <thead>\n",
       "    <tr style=\"text-align: right;\">\n",
       "      <th></th>\n",
       "      <th></th>\n",
       "      <th>EMA</th>\n",
       "      <th>MACD</th>\n",
       "      <th>MACD-EMA</th>\n",
       "      <th>MAVG 20</th>\n",
       "      <th>MAVG 200</th>\n",
       "    </tr>\n",
       "    <tr>\n",
       "      <th>Ticker</th>\n",
       "      <th>Date</th>\n",
       "      <th></th>\n",
       "      <th></th>\n",
       "      <th></th>\n",
       "      <th></th>\n",
       "      <th></th>\n",
       "    </tr>\n",
       "  </thead>\n",
       "  <tbody>\n",
       "    <tr>\n",
       "      <th rowspan=\"5\" valign=\"top\">AAPL</th>\n",
       "      <th>2007-01-03</th>\n",
       "      <td>2.990000</td>\n",
       "      <td>0.000000</td>\n",
       "      <td>0.000000</td>\n",
       "      <td>NaN</td>\n",
       "      <td>NaN</td>\n",
       "    </tr>\n",
       "    <tr>\n",
       "      <th>2007-01-04</th>\n",
       "      <td>3.026750</td>\n",
       "      <td>0.001571</td>\n",
       "      <td>0.000873</td>\n",
       "      <td>NaN</td>\n",
       "      <td>NaN</td>\n",
       "    </tr>\n",
       "    <tr>\n",
       "      <th>2007-01-05</th>\n",
       "      <td>3.031615</td>\n",
       "      <td>0.001381</td>\n",
       "      <td>0.001081</td>\n",
       "      <td>NaN</td>\n",
       "      <td>NaN</td>\n",
       "    </tr>\n",
       "    <tr>\n",
       "      <th>2007-01-08</th>\n",
       "      <td>3.036923</td>\n",
       "      <td>0.001622</td>\n",
       "      <td>0.001264</td>\n",
       "      <td>NaN</td>\n",
       "      <td>NaN</td>\n",
       "    </tr>\n",
       "    <tr>\n",
       "      <th>2007-01-09</th>\n",
       "      <td>3.102978</td>\n",
       "      <td>0.012065</td>\n",
       "      <td>0.004477</td>\n",
       "      <td>NaN</td>\n",
       "      <td>NaN</td>\n",
       "    </tr>\n",
       "  </tbody>\n",
       "</table>\n",
       "</div>"
      ],
      "text/plain": [
       "                        EMA      MACD  MACD-EMA  MAVG 20  MAVG 200\n",
       "Ticker Date                                                       \n",
       "AAPL   2007-01-03  2.990000  0.000000  0.000000      NaN       NaN\n",
       "       2007-01-04  3.026750  0.001571  0.000873      NaN       NaN\n",
       "       2007-01-05  3.031615  0.001381  0.001081      NaN       NaN\n",
       "       2007-01-08  3.036923  0.001622  0.001264      NaN       NaN\n",
       "       2007-01-09  3.102978  0.012065  0.004477      NaN       NaN"
      ]
     },
     "execution_count": 17,
     "metadata": {},
     "output_type": "execute_result"
    }
   ],
   "source": [
    "df_price_signals.head()"
   ]
  },
  {
   "cell_type": "markdown",
   "metadata": {},
   "source": [
    "### Volume Signals\n",
    "\n",
    "This is how easily we may calculate the volume signals:"
   ]
  },
  {
   "cell_type": "code",
   "execution_count": 18,
   "metadata": {
    "scrolled": true
   },
   "outputs": [
    {
     "name": "stdout",
     "output_type": "stream",
     "text": [
      "Cache-file 'volume_signals-f730379a.pickle' not on disk.\n",
      "- Running function volume_signals() ... Done!\n",
      "- Saving cache-file to disk ... Done!\n",
      "CPU times: user 94.5 ms, sys: 198 µs, total: 94.7 ms\n",
      "Wall time: 93.2 ms\n"
     ]
    }
   ],
   "source": [
    "%%time\n",
    "df_vol_signals = hub.volume_signals(window=20)"
   ]
  },
  {
   "cell_type": "markdown",
   "metadata": {},
   "source": [
    "If we call the same function with a different argument, then the data-hub automatically changes the cache-name so as to keep the different results in separate cache-files:"
   ]
  },
  {
   "cell_type": "code",
   "execution_count": 19,
   "metadata": {},
   "outputs": [
    {
     "name": "stdout",
     "output_type": "stream",
     "text": [
      "Cache-file 'volume_signals-5c7ced78.pickle' not on disk.\n",
      "- Running function volume_signals() ... Done!\n",
      "- Saving cache-file to disk ... Done!\n",
      "CPU times: user 72.7 ms, sys: 908 µs, total: 73.6 ms\n",
      "Wall time: 71.2 ms\n"
     ]
    }
   ],
   "source": [
    "%%time\n",
    "df_vol_signals2 = hub.volume_signals(window=30)"
   ]
  },
  {
   "cell_type": "code",
   "execution_count": 20,
   "metadata": {},
   "outputs": [
    {
     "data": {
      "text/html": [
       "<div>\n",
       "<style scoped>\n",
       "    .dataframe tbody tr th:only-of-type {\n",
       "        vertical-align: middle;\n",
       "    }\n",
       "\n",
       "    .dataframe tbody tr th {\n",
       "        vertical-align: top;\n",
       "    }\n",
       "\n",
       "    .dataframe thead th {\n",
       "        text-align: right;\n",
       "    }\n",
       "</style>\n",
       "<table border=\"1\" class=\"dataframe\">\n",
       "  <thead>\n",
       "    <tr style=\"text-align: right;\">\n",
       "      <th></th>\n",
       "      <th></th>\n",
       "      <th>Relative Volume</th>\n",
       "      <th>Volume Market-Cap</th>\n",
       "      <th>Volume Turnover</th>\n",
       "    </tr>\n",
       "    <tr>\n",
       "      <th>Ticker</th>\n",
       "      <th>Date</th>\n",
       "      <th></th>\n",
       "      <th></th>\n",
       "      <th></th>\n",
       "    </tr>\n",
       "  </thead>\n",
       "  <tbody>\n",
       "    <tr>\n",
       "      <th rowspan=\"5\" valign=\"top\">AAPL</th>\n",
       "      <th>2007-01-31</th>\n",
       "      <td>-0.463248</td>\n",
       "      <td>1.565959e+08</td>\n",
       "      <td>0.002007</td>\n",
       "    </tr>\n",
       "    <tr>\n",
       "      <th>2007-02-01</th>\n",
       "      <td>-0.695482</td>\n",
       "      <td>1.535787e+08</td>\n",
       "      <td>0.001965</td>\n",
       "    </tr>\n",
       "    <tr>\n",
       "      <th>2007-02-02</th>\n",
       "      <td>-0.753584</td>\n",
       "      <td>1.523119e+08</td>\n",
       "      <td>0.001948</td>\n",
       "    </tr>\n",
       "    <tr>\n",
       "      <th>2007-02-05</th>\n",
       "      <td>-0.814985</td>\n",
       "      <td>1.508815e+08</td>\n",
       "      <td>0.001929</td>\n",
       "    </tr>\n",
       "    <tr>\n",
       "      <th>2007-02-06</th>\n",
       "      <td>-0.416573</td>\n",
       "      <td>1.511862e+08</td>\n",
       "      <td>0.001934</td>\n",
       "    </tr>\n",
       "  </tbody>\n",
       "</table>\n",
       "</div>"
      ],
      "text/plain": [
       "                   Relative Volume  Volume Market-Cap  Volume Turnover\n",
       "Ticker Date                                                           \n",
       "AAPL   2007-01-31        -0.463248       1.565959e+08         0.002007\n",
       "       2007-02-01        -0.695482       1.535787e+08         0.001965\n",
       "       2007-02-02        -0.753584       1.523119e+08         0.001948\n",
       "       2007-02-05        -0.814985       1.508815e+08         0.001929\n",
       "       2007-02-06        -0.416573       1.511862e+08         0.001934"
      ]
     },
     "execution_count": 20,
     "metadata": {},
     "output_type": "execute_result"
    }
   ],
   "source": [
    "df_vol_signals.dropna(how='all').head()"
   ]
  },
  {
   "cell_type": "markdown",
   "metadata": {},
   "source": [
    "### Financial Signals\n",
    "\n",
    "The following shows how easily we may calculate financial signals such as Current Ratio, Debt Ratio, Net Profit Margin, etc. The function's argument `variant` determines the frequency of the resulting data-points:\n",
    "\n",
    "- `variant=daily` means the result has daily data-points for the same dates as the share-prices. By default this uses forward-filling with the last-known values, but this can be changed with the `fill_method` argument when constructing the data-hub.\n",
    "\n",
    "- `variant=latest` means the result only has data-points for the last date of the share-prices. This is much faster to compute than daily data-points.\n",
    "\n",
    "- `variant=quarterly` means the result has 4 data-points per year for the same dates as the company's quarterly financial reports (with the report date shifted if the `offset` argument was given when the data-hub object was created)."
   ]
  },
  {
   "cell_type": "code",
   "execution_count": 21,
   "metadata": {},
   "outputs": [
    {
     "name": "stdout",
     "output_type": "stream",
     "text": [
      "Dataset \"us-balance-ttm\" on disk (0 days old).\n",
      "- Loading from disk ... Done!\n",
      "Dataset \"us-cashflow-ttm\" on disk (0 days old).\n",
      "- Loading from disk ... Done!\n",
      "Cache-file 'fin_signals-c549b5bd.pickle' not on disk.\n",
      "- Running function fin_signals() ... Done!\n",
      "- Saving cache-file to disk ... Done!\n",
      "CPU times: user 735 ms, sys: 4.48 ms, total: 740 ms\n",
      "Wall time: 737 ms\n"
     ]
    }
   ],
   "source": [
    "%%time\n",
    "df_fin_signals_daily = hub.fin_signals(variant='daily')"
   ]
  },
  {
   "cell_type": "code",
   "execution_count": 22,
   "metadata": {},
   "outputs": [
    {
     "data": {
      "text/html": [
       "<div>\n",
       "<style scoped>\n",
       "    .dataframe tbody tr th:only-of-type {\n",
       "        vertical-align: middle;\n",
       "    }\n",
       "\n",
       "    .dataframe tbody tr th {\n",
       "        vertical-align: top;\n",
       "    }\n",
       "\n",
       "    .dataframe thead th {\n",
       "        text-align: right;\n",
       "    }\n",
       "</style>\n",
       "<table border=\"1\" class=\"dataframe\">\n",
       "  <thead>\n",
       "    <tr style=\"text-align: right;\">\n",
       "      <th></th>\n",
       "      <th></th>\n",
       "      <th>(Dividends + Share Buyback) / FCF</th>\n",
       "      <th>Asset Turnover</th>\n",
       "      <th>CapEx / (Depr + Amor)</th>\n",
       "      <th>Current Ratio</th>\n",
       "      <th>Debt Ratio</th>\n",
       "      <th>Dividends / FCF</th>\n",
       "      <th>Gross Profit Margin</th>\n",
       "      <th>Interest Coverage</th>\n",
       "      <th>Inventory Turnover</th>\n",
       "      <th>Log Revenue</th>\n",
       "      <th>Net Acquisitions / Total Assets</th>\n",
       "      <th>Net Profit Margin</th>\n",
       "      <th>Quick Ratio</th>\n",
       "      <th>R&amp;D / Gross Profit</th>\n",
       "      <th>R&amp;D / Revenue</th>\n",
       "      <th>Return on Assets</th>\n",
       "      <th>Return on Equity</th>\n",
       "      <th>Return on Research Capital</th>\n",
       "      <th>Share Buyback / FCF</th>\n",
       "    </tr>\n",
       "    <tr>\n",
       "      <th>Ticker</th>\n",
       "      <th>Date</th>\n",
       "      <th></th>\n",
       "      <th></th>\n",
       "      <th></th>\n",
       "      <th></th>\n",
       "      <th></th>\n",
       "      <th></th>\n",
       "      <th></th>\n",
       "      <th></th>\n",
       "      <th></th>\n",
       "      <th></th>\n",
       "      <th></th>\n",
       "      <th></th>\n",
       "      <th></th>\n",
       "      <th></th>\n",
       "      <th></th>\n",
       "      <th></th>\n",
       "      <th></th>\n",
       "      <th></th>\n",
       "      <th></th>\n",
       "    </tr>\n",
       "  </thead>\n",
       "  <tbody>\n",
       "    <tr>\n",
       "      <th rowspan=\"5\" valign=\"top\">AAPL</th>\n",
       "      <th>2007-01-03</th>\n",
       "      <td>0.024104</td>\n",
       "      <td>1.122639</td>\n",
       "      <td>3.044444</td>\n",
       "      <td>2.251901</td>\n",
       "      <td>NaN</td>\n",
       "      <td>-0.0</td>\n",
       "      <td>0.289827</td>\n",
       "      <td>NaN</td>\n",
       "      <td>71.537037</td>\n",
       "      <td>10.285895</td>\n",
       "      <td>-0.0</td>\n",
       "      <td>0.102977</td>\n",
       "      <td>1.763464</td>\n",
       "      <td>0.127188</td>\n",
       "      <td>0.036863</td>\n",
       "      <td>0.115606</td>\n",
       "      <td>0.199219</td>\n",
       "      <td>7.86236</td>\n",
       "      <td>0.024104</td>\n",
       "    </tr>\n",
       "    <tr>\n",
       "      <th>2007-01-04</th>\n",
       "      <td>0.024104</td>\n",
       "      <td>1.122639</td>\n",
       "      <td>3.044444</td>\n",
       "      <td>2.251901</td>\n",
       "      <td>NaN</td>\n",
       "      <td>-0.0</td>\n",
       "      <td>0.289827</td>\n",
       "      <td>NaN</td>\n",
       "      <td>71.537037</td>\n",
       "      <td>10.285895</td>\n",
       "      <td>-0.0</td>\n",
       "      <td>0.102977</td>\n",
       "      <td>1.763464</td>\n",
       "      <td>0.127188</td>\n",
       "      <td>0.036863</td>\n",
       "      <td>0.115606</td>\n",
       "      <td>0.199219</td>\n",
       "      <td>7.86236</td>\n",
       "      <td>0.024104</td>\n",
       "    </tr>\n",
       "    <tr>\n",
       "      <th>2007-01-05</th>\n",
       "      <td>0.024104</td>\n",
       "      <td>1.122639</td>\n",
       "      <td>3.044444</td>\n",
       "      <td>2.251901</td>\n",
       "      <td>NaN</td>\n",
       "      <td>-0.0</td>\n",
       "      <td>0.289827</td>\n",
       "      <td>NaN</td>\n",
       "      <td>71.537037</td>\n",
       "      <td>10.285895</td>\n",
       "      <td>-0.0</td>\n",
       "      <td>0.102977</td>\n",
       "      <td>1.763464</td>\n",
       "      <td>0.127188</td>\n",
       "      <td>0.036863</td>\n",
       "      <td>0.115606</td>\n",
       "      <td>0.199219</td>\n",
       "      <td>7.86236</td>\n",
       "      <td>0.024104</td>\n",
       "    </tr>\n",
       "    <tr>\n",
       "      <th>2007-01-08</th>\n",
       "      <td>0.024104</td>\n",
       "      <td>1.122639</td>\n",
       "      <td>3.044444</td>\n",
       "      <td>2.251901</td>\n",
       "      <td>NaN</td>\n",
       "      <td>-0.0</td>\n",
       "      <td>0.289827</td>\n",
       "      <td>NaN</td>\n",
       "      <td>71.537037</td>\n",
       "      <td>10.285895</td>\n",
       "      <td>-0.0</td>\n",
       "      <td>0.102977</td>\n",
       "      <td>1.763464</td>\n",
       "      <td>0.127188</td>\n",
       "      <td>0.036863</td>\n",
       "      <td>0.115606</td>\n",
       "      <td>0.199219</td>\n",
       "      <td>7.86236</td>\n",
       "      <td>0.024104</td>\n",
       "    </tr>\n",
       "    <tr>\n",
       "      <th>2007-01-09</th>\n",
       "      <td>0.024104</td>\n",
       "      <td>1.122639</td>\n",
       "      <td>3.044444</td>\n",
       "      <td>2.251901</td>\n",
       "      <td>NaN</td>\n",
       "      <td>-0.0</td>\n",
       "      <td>0.289827</td>\n",
       "      <td>NaN</td>\n",
       "      <td>71.537037</td>\n",
       "      <td>10.285895</td>\n",
       "      <td>-0.0</td>\n",
       "      <td>0.102977</td>\n",
       "      <td>1.763464</td>\n",
       "      <td>0.127188</td>\n",
       "      <td>0.036863</td>\n",
       "      <td>0.115606</td>\n",
       "      <td>0.199219</td>\n",
       "      <td>7.86236</td>\n",
       "      <td>0.024104</td>\n",
       "    </tr>\n",
       "  </tbody>\n",
       "</table>\n",
       "</div>"
      ],
      "text/plain": [
       "                   (Dividends + Share Buyback) / FCF  Asset Turnover  \\\n",
       "Ticker Date                                                            \n",
       "AAPL   2007-01-03                           0.024104        1.122639   \n",
       "       2007-01-04                           0.024104        1.122639   \n",
       "       2007-01-05                           0.024104        1.122639   \n",
       "       2007-01-08                           0.024104        1.122639   \n",
       "       2007-01-09                           0.024104        1.122639   \n",
       "\n",
       "                   CapEx / (Depr + Amor)  Current Ratio  Debt Ratio  \\\n",
       "Ticker Date                                                           \n",
       "AAPL   2007-01-03               3.044444       2.251901         NaN   \n",
       "       2007-01-04               3.044444       2.251901         NaN   \n",
       "       2007-01-05               3.044444       2.251901         NaN   \n",
       "       2007-01-08               3.044444       2.251901         NaN   \n",
       "       2007-01-09               3.044444       2.251901         NaN   \n",
       "\n",
       "                   Dividends / FCF  Gross Profit Margin  Interest Coverage  \\\n",
       "Ticker Date                                                                  \n",
       "AAPL   2007-01-03             -0.0             0.289827                NaN   \n",
       "       2007-01-04             -0.0             0.289827                NaN   \n",
       "       2007-01-05             -0.0             0.289827                NaN   \n",
       "       2007-01-08             -0.0             0.289827                NaN   \n",
       "       2007-01-09             -0.0             0.289827                NaN   \n",
       "\n",
       "                   Inventory Turnover  Log Revenue  \\\n",
       "Ticker Date                                          \n",
       "AAPL   2007-01-03           71.537037    10.285895   \n",
       "       2007-01-04           71.537037    10.285895   \n",
       "       2007-01-05           71.537037    10.285895   \n",
       "       2007-01-08           71.537037    10.285895   \n",
       "       2007-01-09           71.537037    10.285895   \n",
       "\n",
       "                   Net Acquisitions / Total Assets  Net Profit Margin  \\\n",
       "Ticker Date                                                             \n",
       "AAPL   2007-01-03                             -0.0           0.102977   \n",
       "       2007-01-04                             -0.0           0.102977   \n",
       "       2007-01-05                             -0.0           0.102977   \n",
       "       2007-01-08                             -0.0           0.102977   \n",
       "       2007-01-09                             -0.0           0.102977   \n",
       "\n",
       "                   Quick Ratio  R&D / Gross Profit  R&D / Revenue  \\\n",
       "Ticker Date                                                         \n",
       "AAPL   2007-01-03     1.763464            0.127188       0.036863   \n",
       "       2007-01-04     1.763464            0.127188       0.036863   \n",
       "       2007-01-05     1.763464            0.127188       0.036863   \n",
       "       2007-01-08     1.763464            0.127188       0.036863   \n",
       "       2007-01-09     1.763464            0.127188       0.036863   \n",
       "\n",
       "                   Return on Assets  Return on Equity  \\\n",
       "Ticker Date                                             \n",
       "AAPL   2007-01-03          0.115606          0.199219   \n",
       "       2007-01-04          0.115606          0.199219   \n",
       "       2007-01-05          0.115606          0.199219   \n",
       "       2007-01-08          0.115606          0.199219   \n",
       "       2007-01-09          0.115606          0.199219   \n",
       "\n",
       "                   Return on Research Capital  Share Buyback / FCF  \n",
       "Ticker Date                                                         \n",
       "AAPL   2007-01-03                     7.86236             0.024104  \n",
       "       2007-01-04                     7.86236             0.024104  \n",
       "       2007-01-05                     7.86236             0.024104  \n",
       "       2007-01-08                     7.86236             0.024104  \n",
       "       2007-01-09                     7.86236             0.024104  "
      ]
     },
     "execution_count": 22,
     "metadata": {},
     "output_type": "execute_result"
    }
   ],
   "source": [
    "df_fin_signals_daily.dropna(how='all').head()"
   ]
  },
  {
   "cell_type": "markdown",
   "metadata": {},
   "source": [
    "### Growth Signals\n",
    "\n",
    "The following shows how easily we may calculate growth-signals. This function also takes the argument `variant` which has the same meaning as for the `fin_signals` function above. For example, when `variant=quarterly` it creates 4 data-points per yer:"
   ]
  },
  {
   "cell_type": "code",
   "execution_count": 23,
   "metadata": {
    "scrolled": true
   },
   "outputs": [
    {
     "name": "stdout",
     "output_type": "stream",
     "text": [
      "Dataset \"us-income-quarterly\" on disk (0 days old).\n",
      "- Loading from disk ... Done!\n",
      "Dataset \"us-balance-quarterly\" on disk (0 days old).\n",
      "- Loading from disk ... Done!\n",
      "Dataset \"us-cashflow-quarterly\" on disk (0 days old).\n",
      "- Loading from disk ... Done!\n",
      "Cache-file 'growth_signals-70589cd4.pickle' not on disk.\n",
      "- Running function growth_signals() ... Done!\n",
      "- Saving cache-file to disk ... Done!\n",
      "CPU times: user 1.11 s, sys: 7.66 ms, total: 1.12 s\n",
      "Wall time: 1.12 s\n"
     ]
    }
   ],
   "source": [
    "%%time\n",
    "df_growth_signals_qrt = hub.growth_signals(variant='quarterly')"
   ]
  },
  {
   "cell_type": "code",
   "execution_count": 24,
   "metadata": {},
   "outputs": [
    {
     "data": {
      "text/html": [
       "<div>\n",
       "<style scoped>\n",
       "    .dataframe tbody tr th:only-of-type {\n",
       "        vertical-align: middle;\n",
       "    }\n",
       "\n",
       "    .dataframe tbody tr th {\n",
       "        vertical-align: top;\n",
       "    }\n",
       "\n",
       "    .dataframe thead th {\n",
       "        text-align: right;\n",
       "    }\n",
       "</style>\n",
       "<table border=\"1\" class=\"dataframe\">\n",
       "  <thead>\n",
       "    <tr style=\"text-align: right;\">\n",
       "      <th></th>\n",
       "      <th></th>\n",
       "      <th>Assets Growth</th>\n",
       "      <th>Assets Growth QOQ</th>\n",
       "      <th>Assets Growth YOY</th>\n",
       "      <th>Earnings Growth</th>\n",
       "      <th>Earnings Growth QOQ</th>\n",
       "      <th>Earnings Growth YOY</th>\n",
       "      <th>FCF Growth</th>\n",
       "      <th>FCF Growth QOQ</th>\n",
       "      <th>FCF Growth YOY</th>\n",
       "      <th>Sales Growth</th>\n",
       "      <th>Sales Growth QOQ</th>\n",
       "      <th>Sales Growth YOY</th>\n",
       "    </tr>\n",
       "    <tr>\n",
       "      <th>Ticker</th>\n",
       "      <th>Report Date</th>\n",
       "      <th></th>\n",
       "      <th></th>\n",
       "      <th></th>\n",
       "      <th></th>\n",
       "      <th></th>\n",
       "      <th></th>\n",
       "      <th></th>\n",
       "      <th></th>\n",
       "      <th></th>\n",
       "      <th></th>\n",
       "      <th></th>\n",
       "      <th></th>\n",
       "    </tr>\n",
       "  </thead>\n",
       "  <tbody>\n",
       "    <tr>\n",
       "      <th rowspan=\"5\" valign=\"top\">AAPL</th>\n",
       "      <th>2000-11-29</th>\n",
       "      <td>NaN</td>\n",
       "      <td>0.000000</td>\n",
       "      <td>NaN</td>\n",
       "      <td>NaN</td>\n",
       "      <td>-0.150000</td>\n",
       "      <td>NaN</td>\n",
       "      <td>NaN</td>\n",
       "      <td>-0.450893</td>\n",
       "      <td>NaN</td>\n",
       "      <td>NaN</td>\n",
       "      <td>0.024658</td>\n",
       "      <td>NaN</td>\n",
       "    </tr>\n",
       "    <tr>\n",
       "      <th>2001-03-01</th>\n",
       "      <td>NaN</td>\n",
       "      <td>-0.114949</td>\n",
       "      <td>NaN</td>\n",
       "      <td>NaN</td>\n",
       "      <td>-2.217647</td>\n",
       "      <td>NaN</td>\n",
       "      <td>NaN</td>\n",
       "      <td>-1.284553</td>\n",
       "      <td>NaN</td>\n",
       "      <td>NaN</td>\n",
       "      <td>-0.461497</td>\n",
       "      <td>NaN</td>\n",
       "    </tr>\n",
       "    <tr>\n",
       "      <th>2001-05-30</th>\n",
       "      <td>NaN</td>\n",
       "      <td>0.000000</td>\n",
       "      <td>NaN</td>\n",
       "      <td>NaN</td>\n",
       "      <td>-1.207729</td>\n",
       "      <td>NaN</td>\n",
       "      <td>NaN</td>\n",
       "      <td>0.742857</td>\n",
       "      <td>NaN</td>\n",
       "      <td>NaN</td>\n",
       "      <td>0.421053</td>\n",
       "      <td>NaN</td>\n",
       "    </tr>\n",
       "    <tr>\n",
       "      <th>2001-08-29</th>\n",
       "      <td>NaN</td>\n",
       "      <td>0.000000</td>\n",
       "      <td>-0.114949</td>\n",
       "      <td>NaN</td>\n",
       "      <td>0.418605</td>\n",
       "      <td>-0.695000</td>\n",
       "      <td>NaN</td>\n",
       "      <td>0.032787</td>\n",
       "      <td>-1.281250</td>\n",
       "      <td>NaN</td>\n",
       "      <td>0.030748</td>\n",
       "      <td>-0.191781</td>\n",
       "    </tr>\n",
       "    <tr>\n",
       "      <th>2001-11-29</th>\n",
       "      <td>NaN</td>\n",
       "      <td>0.000000</td>\n",
       "      <td>-0.114949</td>\n",
       "      <td>NaN</td>\n",
       "      <td>0.081967</td>\n",
       "      <td>-0.611765</td>\n",
       "      <td>NaN</td>\n",
       "      <td>-2.777778</td>\n",
       "      <td>-0.089431</td>\n",
       "      <td>NaN</td>\n",
       "      <td>-0.016949</td>\n",
       "      <td>-0.224599</td>\n",
       "    </tr>\n",
       "  </tbody>\n",
       "</table>\n",
       "</div>"
      ],
      "text/plain": [
       "                    Assets Growth  Assets Growth QOQ  Assets Growth YOY  \\\n",
       "Ticker Report Date                                                        \n",
       "AAPL   2000-11-29             NaN           0.000000                NaN   \n",
       "       2001-03-01             NaN          -0.114949                NaN   \n",
       "       2001-05-30             NaN           0.000000                NaN   \n",
       "       2001-08-29             NaN           0.000000          -0.114949   \n",
       "       2001-11-29             NaN           0.000000          -0.114949   \n",
       "\n",
       "                    Earnings Growth  Earnings Growth QOQ  Earnings Growth YOY  \\\n",
       "Ticker Report Date                                                              \n",
       "AAPL   2000-11-29               NaN            -0.150000                  NaN   \n",
       "       2001-03-01               NaN            -2.217647                  NaN   \n",
       "       2001-05-30               NaN            -1.207729                  NaN   \n",
       "       2001-08-29               NaN             0.418605            -0.695000   \n",
       "       2001-11-29               NaN             0.081967            -0.611765   \n",
       "\n",
       "                    FCF Growth  FCF Growth QOQ  FCF Growth YOY  Sales Growth  \\\n",
       "Ticker Report Date                                                             \n",
       "AAPL   2000-11-29          NaN       -0.450893             NaN           NaN   \n",
       "       2001-03-01          NaN       -1.284553             NaN           NaN   \n",
       "       2001-05-30          NaN        0.742857             NaN           NaN   \n",
       "       2001-08-29          NaN        0.032787       -1.281250           NaN   \n",
       "       2001-11-29          NaN       -2.777778       -0.089431           NaN   \n",
       "\n",
       "                    Sales Growth QOQ  Sales Growth YOY  \n",
       "Ticker Report Date                                      \n",
       "AAPL   2000-11-29           0.024658               NaN  \n",
       "       2001-03-01          -0.461497               NaN  \n",
       "       2001-05-30           0.421053               NaN  \n",
       "       2001-08-29           0.030748         -0.191781  \n",
       "       2001-11-29          -0.016949         -0.224599  "
      ]
     },
     "execution_count": 24,
     "metadata": {},
     "output_type": "execute_result"
    }
   ],
   "source": [
    "df_growth_signals_qrt.dropna(how='all').head()"
   ]
  },
  {
   "cell_type": "markdown",
   "metadata": {},
   "source": [
    "If we change the argument to `variant='daily'` then we get daily data-points where the growth-rates have been forward-filled from the last-known values (this may be changed by setting the argument `fill_method` when constructing the data-hub object). Note that the cache-filename is different to keep the files separate."
   ]
  },
  {
   "cell_type": "code",
   "execution_count": 25,
   "metadata": {},
   "outputs": [
    {
     "name": "stdout",
     "output_type": "stream",
     "text": [
      "Cache-file 'growth_signals-c549b5bd.pickle' not on disk.\n",
      "- Running function growth_signals() ... Done!\n",
      "- Saving cache-file to disk ... Done!\n",
      "CPU times: user 114 ms, sys: 143 µs, total: 114 ms\n",
      "Wall time: 111 ms\n"
     ]
    }
   ],
   "source": [
    "%%time\n",
    "df_growth_signals_daily = hub.growth_signals(variant='daily')"
   ]
  },
  {
   "cell_type": "code",
   "execution_count": 26,
   "metadata": {},
   "outputs": [
    {
     "data": {
      "text/html": [
       "<div>\n",
       "<style scoped>\n",
       "    .dataframe tbody tr th:only-of-type {\n",
       "        vertical-align: middle;\n",
       "    }\n",
       "\n",
       "    .dataframe tbody tr th {\n",
       "        vertical-align: top;\n",
       "    }\n",
       "\n",
       "    .dataframe thead th {\n",
       "        text-align: right;\n",
       "    }\n",
       "</style>\n",
       "<table border=\"1\" class=\"dataframe\">\n",
       "  <thead>\n",
       "    <tr style=\"text-align: right;\">\n",
       "      <th></th>\n",
       "      <th></th>\n",
       "      <th>Assets Growth</th>\n",
       "      <th>Assets Growth QOQ</th>\n",
       "      <th>Assets Growth YOY</th>\n",
       "      <th>Earnings Growth</th>\n",
       "      <th>Earnings Growth QOQ</th>\n",
       "      <th>Earnings Growth YOY</th>\n",
       "      <th>FCF Growth</th>\n",
       "      <th>FCF Growth QOQ</th>\n",
       "      <th>FCF Growth YOY</th>\n",
       "      <th>Sales Growth</th>\n",
       "      <th>Sales Growth QOQ</th>\n",
       "      <th>Sales Growth YOY</th>\n",
       "    </tr>\n",
       "    <tr>\n",
       "      <th>Ticker</th>\n",
       "      <th>Date</th>\n",
       "      <th></th>\n",
       "      <th></th>\n",
       "      <th></th>\n",
       "      <th></th>\n",
       "      <th></th>\n",
       "      <th></th>\n",
       "      <th></th>\n",
       "      <th></th>\n",
       "      <th></th>\n",
       "      <th></th>\n",
       "      <th></th>\n",
       "      <th></th>\n",
       "    </tr>\n",
       "  </thead>\n",
       "  <tbody>\n",
       "    <tr>\n",
       "      <th rowspan=\"5\" valign=\"top\">AAPL</th>\n",
       "      <th>2007-01-03</th>\n",
       "      <td>0.494008</td>\n",
       "      <td>0.0</td>\n",
       "      <td>0.494008</td>\n",
       "      <td>0.497741</td>\n",
       "      <td>0.148305</td>\n",
       "      <td>0.278302</td>\n",
       "      <td>-0.325275</td>\n",
       "      <td>0.145455</td>\n",
       "      <td>0.344512</td>\n",
       "      <td>0.386476</td>\n",
       "      <td>0.106865</td>\n",
       "      <td>0.315117</td>\n",
       "    </tr>\n",
       "    <tr>\n",
       "      <th>2007-01-04</th>\n",
       "      <td>0.494008</td>\n",
       "      <td>0.0</td>\n",
       "      <td>0.494008</td>\n",
       "      <td>0.497741</td>\n",
       "      <td>0.148305</td>\n",
       "      <td>0.278302</td>\n",
       "      <td>-0.325275</td>\n",
       "      <td>0.145455</td>\n",
       "      <td>0.344512</td>\n",
       "      <td>0.386476</td>\n",
       "      <td>0.106865</td>\n",
       "      <td>0.315117</td>\n",
       "    </tr>\n",
       "    <tr>\n",
       "      <th>2007-01-05</th>\n",
       "      <td>0.494008</td>\n",
       "      <td>0.0</td>\n",
       "      <td>0.494008</td>\n",
       "      <td>0.497741</td>\n",
       "      <td>0.148305</td>\n",
       "      <td>0.278302</td>\n",
       "      <td>-0.325275</td>\n",
       "      <td>0.145455</td>\n",
       "      <td>0.344512</td>\n",
       "      <td>0.386476</td>\n",
       "      <td>0.106865</td>\n",
       "      <td>0.315117</td>\n",
       "    </tr>\n",
       "    <tr>\n",
       "      <th>2007-01-08</th>\n",
       "      <td>0.494008</td>\n",
       "      <td>0.0</td>\n",
       "      <td>0.494008</td>\n",
       "      <td>0.497741</td>\n",
       "      <td>0.148305</td>\n",
       "      <td>0.278302</td>\n",
       "      <td>-0.325275</td>\n",
       "      <td>0.145455</td>\n",
       "      <td>0.344512</td>\n",
       "      <td>0.386476</td>\n",
       "      <td>0.106865</td>\n",
       "      <td>0.315117</td>\n",
       "    </tr>\n",
       "    <tr>\n",
       "      <th>2007-01-09</th>\n",
       "      <td>0.494008</td>\n",
       "      <td>0.0</td>\n",
       "      <td>0.494008</td>\n",
       "      <td>0.497741</td>\n",
       "      <td>0.148305</td>\n",
       "      <td>0.278302</td>\n",
       "      <td>-0.325275</td>\n",
       "      <td>0.145455</td>\n",
       "      <td>0.344512</td>\n",
       "      <td>0.386476</td>\n",
       "      <td>0.106865</td>\n",
       "      <td>0.315117</td>\n",
       "    </tr>\n",
       "  </tbody>\n",
       "</table>\n",
       "</div>"
      ],
      "text/plain": [
       "                   Assets Growth  Assets Growth QOQ  Assets Growth YOY  \\\n",
       "Ticker Date                                                              \n",
       "AAPL   2007-01-03       0.494008                0.0           0.494008   \n",
       "       2007-01-04       0.494008                0.0           0.494008   \n",
       "       2007-01-05       0.494008                0.0           0.494008   \n",
       "       2007-01-08       0.494008                0.0           0.494008   \n",
       "       2007-01-09       0.494008                0.0           0.494008   \n",
       "\n",
       "                   Earnings Growth  Earnings Growth QOQ  Earnings Growth YOY  \\\n",
       "Ticker Date                                                                    \n",
       "AAPL   2007-01-03         0.497741             0.148305             0.278302   \n",
       "       2007-01-04         0.497741             0.148305             0.278302   \n",
       "       2007-01-05         0.497741             0.148305             0.278302   \n",
       "       2007-01-08         0.497741             0.148305             0.278302   \n",
       "       2007-01-09         0.497741             0.148305             0.278302   \n",
       "\n",
       "                   FCF Growth  FCF Growth QOQ  FCF Growth YOY  Sales Growth  \\\n",
       "Ticker Date                                                                   \n",
       "AAPL   2007-01-03   -0.325275        0.145455        0.344512      0.386476   \n",
       "       2007-01-04   -0.325275        0.145455        0.344512      0.386476   \n",
       "       2007-01-05   -0.325275        0.145455        0.344512      0.386476   \n",
       "       2007-01-08   -0.325275        0.145455        0.344512      0.386476   \n",
       "       2007-01-09   -0.325275        0.145455        0.344512      0.386476   \n",
       "\n",
       "                   Sales Growth QOQ  Sales Growth YOY  \n",
       "Ticker Date                                            \n",
       "AAPL   2007-01-03          0.106865          0.315117  \n",
       "       2007-01-04          0.106865          0.315117  \n",
       "       2007-01-05          0.106865          0.315117  \n",
       "       2007-01-08          0.106865          0.315117  \n",
       "       2007-01-09          0.106865          0.315117  "
      ]
     },
     "execution_count": 26,
     "metadata": {},
     "output_type": "execute_result"
    }
   ],
   "source": [
    "df_growth_signals_daily.dropna(how='all').head()"
   ]
  },
  {
   "cell_type": "markdown",
   "metadata": {},
   "source": [
    "### Valuation Signals\n",
    "\n",
    "The following shows how easily we may calculate valuation signals such as P/E and P/Sales ratios. This requires several datasets, but most of them have already been loaded by the data-hub in the function-calls we ran above, so the datasets are merely taken from the RAM-cache instead of being loaded again.\n",
    "\n",
    "By setting `variant='latest'` we only calculate the valuation signals for the latest day of the share-prices. This is much faster than calculating the signals for daily data-points, and is useful e.g. when making a stock-screener:"
   ]
  },
  {
   "cell_type": "code",
   "execution_count": 27,
   "metadata": {},
   "outputs": [
    {
     "name": "stdout",
     "output_type": "stream",
     "text": [
      "Dataset \"us-shareprices-latest\" on disk (0 days old).\n",
      "- Loading from disk ... Done!\n",
      "Cache-file 'val_signals-cac8146c.pickle' not on disk.\n",
      "- Running function val_signals() ... Done!\n",
      "- Saving cache-file to disk ... Done!\n",
      "CPU times: user 58.6 ms, sys: 471 µs, total: 59.1 ms\n",
      "Wall time: 74.7 ms\n"
     ]
    }
   ],
   "source": [
    "%%time\n",
    "df_val_signals_latest = hub.val_signals(variant='latest')"
   ]
  },
  {
   "cell_type": "code",
   "execution_count": 28,
   "metadata": {},
   "outputs": [
    {
     "data": {
      "text/html": [
       "<div>\n",
       "<style scoped>\n",
       "    .dataframe tbody tr th:only-of-type {\n",
       "        vertical-align: middle;\n",
       "    }\n",
       "\n",
       "    .dataframe tbody tr th {\n",
       "        vertical-align: top;\n",
       "    }\n",
       "\n",
       "    .dataframe thead th {\n",
       "        text-align: right;\n",
       "    }\n",
       "</style>\n",
       "<table border=\"1\" class=\"dataframe\">\n",
       "  <thead>\n",
       "    <tr style=\"text-align: right;\">\n",
       "      <th></th>\n",
       "      <th></th>\n",
       "      <th>Dividend Yield</th>\n",
       "      <th>Earnings Yield</th>\n",
       "      <th>FCF Yield</th>\n",
       "      <th>Market-Cap</th>\n",
       "      <th>P/Cash</th>\n",
       "      <th>P/E</th>\n",
       "      <th>P/FCF</th>\n",
       "      <th>P/NCAV</th>\n",
       "      <th>P/NetNet</th>\n",
       "      <th>P/Sales</th>\n",
       "      <th>Price to Book Value</th>\n",
       "    </tr>\n",
       "    <tr>\n",
       "      <th>Ticker</th>\n",
       "      <th>Date</th>\n",
       "      <th></th>\n",
       "      <th></th>\n",
       "      <th></th>\n",
       "      <th></th>\n",
       "      <th></th>\n",
       "      <th></th>\n",
       "      <th></th>\n",
       "      <th></th>\n",
       "      <th></th>\n",
       "      <th></th>\n",
       "      <th></th>\n",
       "    </tr>\n",
       "  </thead>\n",
       "  <tbody>\n",
       "    <tr>\n",
       "      <th>AAPL</th>\n",
       "      <th>2021-09-17</th>\n",
       "      <td>0.005424</td>\n",
       "      <td>0.022555</td>\n",
       "      <td>0.027683</td>\n",
       "      <td>2.590295e+12</td>\n",
       "      <td>27.845147</td>\n",
       "      <td>44.336143</td>\n",
       "      <td>36.123822</td>\n",
       "      <td>-24.670179</td>\n",
       "      <td>-18.957561</td>\n",
       "      <td>9.458567</td>\n",
       "      <td>35.835959</td>\n",
       "    </tr>\n",
       "    <tr>\n",
       "      <th>AMZN</th>\n",
       "      <th>2021-09-17</th>\n",
       "      <td>NaN</td>\n",
       "      <td>0.007515</td>\n",
       "      <td>-0.003068</td>\n",
       "      <td>1.753766e+12</td>\n",
       "      <td>24.565651</td>\n",
       "      <td>133.062700</td>\n",
       "      <td>-325.978881</td>\n",
       "      <td>-23.803121</td>\n",
       "      <td>-16.961728</td>\n",
       "      <td>5.450169</td>\n",
       "      <td>23.786979</td>\n",
       "    </tr>\n",
       "    <tr>\n",
       "      <th>MSFT</th>\n",
       "      <th>2021-09-17</th>\n",
       "      <td>0.006570</td>\n",
       "      <td>0.019220</td>\n",
       "      <td>0.019634</td>\n",
       "      <td>2.303901e+12</td>\n",
       "      <td>16.875059</td>\n",
       "      <td>52.029114</td>\n",
       "      <td>50.932953</td>\n",
       "      <td>-2109.799643</td>\n",
       "      <td>-107.037468</td>\n",
       "      <td>16.109507</td>\n",
       "      <td>19.474415</td>\n",
       "    </tr>\n",
       "  </tbody>\n",
       "</table>\n",
       "</div>"
      ],
      "text/plain": [
       "                   Dividend Yield  Earnings Yield  FCF Yield    Market-Cap  \\\n",
       "Ticker Date                                                                  \n",
       "AAPL   2021-09-17        0.005424        0.022555   0.027683  2.590295e+12   \n",
       "AMZN   2021-09-17             NaN        0.007515  -0.003068  1.753766e+12   \n",
       "MSFT   2021-09-17        0.006570        0.019220   0.019634  2.303901e+12   \n",
       "\n",
       "                      P/Cash         P/E       P/FCF       P/NCAV    P/NetNet  \\\n",
       "Ticker Date                                                                     \n",
       "AAPL   2021-09-17  27.845147   44.336143   36.123822   -24.670179  -18.957561   \n",
       "AMZN   2021-09-17  24.565651  133.062700 -325.978881   -23.803121  -16.961728   \n",
       "MSFT   2021-09-17  16.875059   52.029114   50.932953 -2109.799643 -107.037468   \n",
       "\n",
       "                     P/Sales  Price to Book Value  \n",
       "Ticker Date                                        \n",
       "AAPL   2021-09-17   9.458567            35.835959  \n",
       "AMZN   2021-09-17   5.450169            23.786979  \n",
       "MSFT   2021-09-17  16.109507            19.474415  "
      ]
     },
     "execution_count": 28,
     "metadata": {},
     "output_type": "execute_result"
    }
   ],
   "source": [
    "df_val_signals_latest.head()"
   ]
  },
  {
   "cell_type": "markdown",
   "metadata": {},
   "source": [
    "We may also calculate the valuation signals for daily data-points, simply by setting the argument `variant='daily'`:"
   ]
  },
  {
   "cell_type": "code",
   "execution_count": 29,
   "metadata": {},
   "outputs": [
    {
     "name": "stdout",
     "output_type": "stream",
     "text": [
      "Cache-file 'val_signals-a6127cfd.pickle' not on disk.\n",
      "- Running function val_signals() ... Done!\n",
      "- Saving cache-file to disk ... Done!\n",
      "CPU times: user 163 ms, sys: 4.46 ms, total: 167 ms\n",
      "Wall time: 159 ms\n"
     ]
    }
   ],
   "source": [
    "%%time\n",
    "df_val_signals_daily = hub.val_signals(variant='daily')"
   ]
  },
  {
   "cell_type": "code",
   "execution_count": 30,
   "metadata": {},
   "outputs": [
    {
     "data": {
      "text/html": [
       "<div>\n",
       "<style scoped>\n",
       "    .dataframe tbody tr th:only-of-type {\n",
       "        vertical-align: middle;\n",
       "    }\n",
       "\n",
       "    .dataframe tbody tr th {\n",
       "        vertical-align: top;\n",
       "    }\n",
       "\n",
       "    .dataframe thead th {\n",
       "        text-align: right;\n",
       "    }\n",
       "</style>\n",
       "<table border=\"1\" class=\"dataframe\">\n",
       "  <thead>\n",
       "    <tr style=\"text-align: right;\">\n",
       "      <th></th>\n",
       "      <th></th>\n",
       "      <th>Dividend Yield</th>\n",
       "      <th>Earnings Yield</th>\n",
       "      <th>FCF Yield</th>\n",
       "      <th>Market-Cap</th>\n",
       "      <th>P/Cash</th>\n",
       "      <th>P/E</th>\n",
       "      <th>P/FCF</th>\n",
       "      <th>P/NCAV</th>\n",
       "      <th>P/NetNet</th>\n",
       "      <th>P/Sales</th>\n",
       "      <th>Price to Book Value</th>\n",
       "    </tr>\n",
       "    <tr>\n",
       "      <th>Ticker</th>\n",
       "      <th>Date</th>\n",
       "      <th></th>\n",
       "      <th></th>\n",
       "      <th></th>\n",
       "      <th></th>\n",
       "      <th></th>\n",
       "      <th></th>\n",
       "      <th></th>\n",
       "      <th></th>\n",
       "      <th></th>\n",
       "      <th></th>\n",
       "      <th></th>\n",
       "    </tr>\n",
       "  </thead>\n",
       "  <tbody>\n",
       "    <tr>\n",
       "      <th rowspan=\"5\" valign=\"top\">AAPL</th>\n",
       "      <th>2007-01-03</th>\n",
       "      <td>NaN</td>\n",
       "      <td>0.026715</td>\n",
       "      <td>0.020617</td>\n",
       "      <td>7.445153e+10</td>\n",
       "      <td>7.364147</td>\n",
       "      <td>37.431637</td>\n",
       "      <td>48.502623</td>\n",
       "      <td>10.215632</td>\n",
       "      <td>18.786658</td>\n",
       "      <td>3.854596</td>\n",
       "      <td>7.457084</td>\n",
       "    </tr>\n",
       "    <tr>\n",
       "      <th>2007-01-04</th>\n",
       "      <td>NaN</td>\n",
       "      <td>0.026104</td>\n",
       "      <td>0.020146</td>\n",
       "      <td>7.619454e+10</td>\n",
       "      <td>7.536552</td>\n",
       "      <td>38.307963</td>\n",
       "      <td>49.638136</td>\n",
       "      <td>10.454794</td>\n",
       "      <td>19.226480</td>\n",
       "      <td>3.944838</td>\n",
       "      <td>7.631665</td>\n",
       "    </tr>\n",
       "    <tr>\n",
       "      <th>2007-01-05</th>\n",
       "      <td>NaN</td>\n",
       "      <td>0.026276</td>\n",
       "      <td>0.020278</td>\n",
       "      <td>7.569654e+10</td>\n",
       "      <td>7.487293</td>\n",
       "      <td>38.057584</td>\n",
       "      <td>49.313704</td>\n",
       "      <td>10.386462</td>\n",
       "      <td>19.100816</td>\n",
       "      <td>3.919054</td>\n",
       "      <td>7.581784</td>\n",
       "    </tr>\n",
       "    <tr>\n",
       "      <th>2007-01-08</th>\n",
       "      <td>NaN</td>\n",
       "      <td>0.026190</td>\n",
       "      <td>0.020212</td>\n",
       "      <td>7.594554e+10</td>\n",
       "      <td>7.511923</td>\n",
       "      <td>38.182774</td>\n",
       "      <td>49.475920</td>\n",
       "      <td>10.420628</td>\n",
       "      <td>19.163648</td>\n",
       "      <td>3.931946</td>\n",
       "      <td>7.606724</td>\n",
       "    </tr>\n",
       "    <tr>\n",
       "      <th>2007-01-09</th>\n",
       "      <td>NaN</td>\n",
       "      <td>0.024133</td>\n",
       "      <td>0.018624</td>\n",
       "      <td>8.241958e+10</td>\n",
       "      <td>8.152283</td>\n",
       "      <td>41.437699</td>\n",
       "      <td>53.693539</td>\n",
       "      <td>11.308944</td>\n",
       "      <td>20.797270</td>\n",
       "      <td>4.267128</td>\n",
       "      <td>8.255167</td>\n",
       "    </tr>\n",
       "  </tbody>\n",
       "</table>\n",
       "</div>"
      ],
      "text/plain": [
       "                   Dividend Yield  Earnings Yield  FCF Yield    Market-Cap  \\\n",
       "Ticker Date                                                                  \n",
       "AAPL   2007-01-03             NaN        0.026715   0.020617  7.445153e+10   \n",
       "       2007-01-04             NaN        0.026104   0.020146  7.619454e+10   \n",
       "       2007-01-05             NaN        0.026276   0.020278  7.569654e+10   \n",
       "       2007-01-08             NaN        0.026190   0.020212  7.594554e+10   \n",
       "       2007-01-09             NaN        0.024133   0.018624  8.241958e+10   \n",
       "\n",
       "                     P/Cash        P/E      P/FCF     P/NCAV   P/NetNet  \\\n",
       "Ticker Date                                                               \n",
       "AAPL   2007-01-03  7.364147  37.431637  48.502623  10.215632  18.786658   \n",
       "       2007-01-04  7.536552  38.307963  49.638136  10.454794  19.226480   \n",
       "       2007-01-05  7.487293  38.057584  49.313704  10.386462  19.100816   \n",
       "       2007-01-08  7.511923  38.182774  49.475920  10.420628  19.163648   \n",
       "       2007-01-09  8.152283  41.437699  53.693539  11.308944  20.797270   \n",
       "\n",
       "                    P/Sales  Price to Book Value  \n",
       "Ticker Date                                       \n",
       "AAPL   2007-01-03  3.854596             7.457084  \n",
       "       2007-01-04  3.944838             7.631665  \n",
       "       2007-01-05  3.919054             7.581784  \n",
       "       2007-01-08  3.931946             7.606724  \n",
       "       2007-01-09  4.267128             8.255167  "
      ]
     },
     "execution_count": 30,
     "metadata": {},
     "output_type": "execute_result"
    }
   ],
   "source": [
    "df_val_signals_daily.dropna(how='all').head()"
   ]
  },
  {
   "cell_type": "markdown",
   "metadata": {},
   "source": [
    "## Calculate Returns\n",
    "\n",
    "The data-hub also provides functions for easily calculating stock-returns for different investment durations. Let us first calculate the annualized future stock-returns for all 3-year investment periods."
   ]
  },
  {
   "cell_type": "code",
   "execution_count": 31,
   "metadata": {},
   "outputs": [],
   "source": [
    "# Name of the new Pandas Series with the stock-returns.\n",
    "TOTAL_RETURN_3Y = 'Total Return 3-Year'"
   ]
  },
  {
   "cell_type": "code",
   "execution_count": 32,
   "metadata": {},
   "outputs": [
    {
     "name": "stdout",
     "output_type": "stream",
     "text": [
      "Cache-file 'rel_change-2ab9d7a6.pickle' not on disk.\n",
      "- Running function rel_change() ... Done!\n",
      "- Saving cache-file to disk ... Done!\n",
      "CPU times: user 8.3 ms, sys: 20 µs, total: 8.32 ms\n",
      "Wall time: 6.7 ms\n"
     ]
    }
   ],
   "source": [
    "%%time\n",
    "df_returns_3y = hub.returns(name=TOTAL_RETURN_3Y, years=3,\n",
    "                            future=True, annualized=True)"
   ]
  },
  {
   "cell_type": "markdown",
   "metadata": {},
   "source": [
    "For example, the calculated return for AAPL on 2007-01-03 is 0.359641, which means that between 2007-01-03 and 2010-01-03 (or the closest trading-day), the annualized return was about 35.96% per year. This is the so-called Total Return which assumes dividends are reinvested without having to pay any taxes."
   ]
  },
  {
   "cell_type": "code",
   "execution_count": 33,
   "metadata": {},
   "outputs": [
    {
     "data": {
      "text/plain": [
       "Date\n",
       "2007-01-03    0.359674\n",
       "2007-01-04    0.356181\n",
       "2007-01-05    0.360327\n",
       "2007-01-08    0.351666\n",
       "2007-01-09    0.315143\n",
       "Name: Total Return 3-Year, dtype: float64"
      ]
     },
     "execution_count": 33,
     "metadata": {},
     "output_type": "execute_result"
    }
   ],
   "source": [
    "df_returns_3y.loc['AAPL']['2007-01-03':'2007-01-09']"
   ]
  },
  {
   "cell_type": "markdown",
   "metadata": {},
   "source": [
    "We can also plot these 3-year annualized returns for the AAPL stock:"
   ]
  },
  {
   "cell_type": "code",
   "execution_count": 34,
   "metadata": {},
   "outputs": [
    {
     "data": {
      "text/plain": [
       "<matplotlib.axes._subplots.AxesSubplot at 0x7fbdcf539ad0>"
      ]
     },
     "execution_count": 34,
     "metadata": {},
     "output_type": "execute_result"
    },
    {
     "data": {
      "image/png": "[encoded data removed]",
      "text/plain": [
       "<Figure size 432x288 with 1 Axes>"
      ]
     },
     "metadata": {},
     "output_type": "display_data"
    }
   ],
   "source": [
    "df_returns_3y.loc['AAPL'].dropna().plot(grid=True)"
   ]
  },
  {
   "cell_type": "markdown",
   "metadata": {},
   "source": [
    "### Mean-Log Returns\n",
    "\n",
    "It is often useful to consider the average returns e.g. over 1-3 year periods. It is much faster to compute the mean-log returns, and the results are close to the mean returns."
   ]
  },
  {
   "cell_type": "code",
   "execution_count": 35,
   "metadata": {},
   "outputs": [],
   "source": [
    "# Name of the new Pandas Series with the stock-returns.\n",
    "TOTAL_RETURN_1_3Y = 'Total Return 1-3 Years'"
   ]
  },
  {
   "cell_type": "code",
   "execution_count": 36,
   "metadata": {},
   "outputs": [
    {
     "name": "stdout",
     "output_type": "stream",
     "text": [
      "Cache-file 'mean_log_change-257ab99e.pickle' not on disk.\n",
      "- Running function mean_log_change() ... Done!\n",
      "- Saving cache-file to disk ... Done!\n",
      "CPU times: user 53.4 ms, sys: 87 µs, total: 53.5 ms\n",
      "Wall time: 52.4 ms\n"
     ]
    }
   ],
   "source": [
    "%%time\n",
    "df_returns_1_3y = \\\n",
    "    hub.mean_log_returns(name=TOTAL_RETURN_1_3Y,\n",
    "                         min_years=1, max_years=3,\n",
    "                         future=True, annualized=True)"
   ]
  },
  {
   "cell_type": "markdown",
   "metadata": {},
   "source": [
    "For ticker AAPL, the mean-log return was 0.277523 for all 1-3 year investment periods between 2007-01-03 and 2010-01-03. This means that if you had bought AAPL stock on 2007-01-03 and sold them somewhere between 2008-01-03 and 2010-01-03, then on average you would have made roughly 28% per year, depending on exactly when you had sold the stocks in this 1-3 year period. Note that the mean-log return corresponds roughly to the (non-log) mean returns for values in this range."
   ]
  },
  {
   "cell_type": "code",
   "execution_count": 37,
   "metadata": {},
   "outputs": [
    {
     "data": {
      "text/plain": [
       "Date\n",
       "2007-01-03    0.277665\n",
       "2007-01-04    0.264770\n",
       "2007-01-05    0.268767\n",
       "2007-01-08    0.266535\n",
       "2007-01-09    0.222022\n",
       "Name: Total Return 1-3 Years, dtype: float64"
      ]
     },
     "execution_count": 37,
     "metadata": {},
     "output_type": "execute_result"
    }
   ],
   "source": [
    "df_returns_1_3y.loc['AAPL']['2007-01-03':'2007-01-09']"
   ]
  },
  {
   "cell_type": "markdown",
   "metadata": {},
   "source": [
    "We can also plot the mean-log returns for 1-3 year investment periods for the AAPL stock:"
   ]
  },
  {
   "cell_type": "code",
   "execution_count": 38,
   "metadata": {},
   "outputs": [
    {
     "data": {
      "text/plain": [
       "<matplotlib.axes._subplots.AxesSubplot at 0x7fbdbf2b1ad0>"
      ]
     },
     "execution_count": 38,
     "metadata": {},
     "output_type": "execute_result"
    },
    {
     "data": {
      "image/png": "[encoded data removed]",
      "text/plain": [
       "<Figure size 432x288 with 1 Axes>"
      ]
     },
     "metadata": {},
     "output_type": "display_data"
    }
   ],
   "source": [
    "df_returns_1_3y.loc['AAPL'].dropna().plot(grid=True)"
   ]
  },
  {
   "cell_type": "markdown",
   "metadata": {},
   "source": [
    "## Combine Signals and Returns\n",
    "\n",
    "Let us now combine the stock-returns and the signals we are interested in, into a single DataFrame that is easier to work with:"
   ]
  },
  {
   "cell_type": "code",
   "execution_count": 39,
   "metadata": {},
   "outputs": [],
   "source": [
    "# List of all the DataFrames with different signals.\n",
    "dfs = [df_price_signals, df_fin_signals_daily,\n",
    "       df_growth_signals_daily, df_val_signals_daily]\n",
    "\n",
    "# Combine all the signal DataFrames into a single DataFrame.\n",
    "df_all_signals = pd.concat(dfs, axis=1)\n",
    "\n",
    "# DataFrame with the signals we are interested in, for example.\n",
    "signals = [PE, PSALES, CURRENT_RATIO, MAVG_20]\n",
    "df_signals = df_all_signals[signals]\n",
    "\n",
    "# DataFrame with the signals and stock-returns.\n",
    "dfs = [df_signals, df_returns_3y, df_returns_1_3y]\n",
    "df_combined = pd.concat(dfs, axis=1)\n",
    "\n",
    "# Remove rows with any NaN values.\n",
    "df_combined = df_combined.dropna(how='any')"
   ]
  },
  {
   "cell_type": "code",
   "execution_count": 40,
   "metadata": {},
   "outputs": [
    {
     "data": {
      "text/html": [
       "<div>\n",
       "<style scoped>\n",
       "    .dataframe tbody tr th:only-of-type {\n",
       "        vertical-align: middle;\n",
       "    }\n",
       "\n",
       "    .dataframe tbody tr th {\n",
       "        vertical-align: top;\n",
       "    }\n",
       "\n",
       "    .dataframe thead th {\n",
       "        text-align: right;\n",
       "    }\n",
       "</style>\n",
       "<table border=\"1\" class=\"dataframe\">\n",
       "  <thead>\n",
       "    <tr style=\"text-align: right;\">\n",
       "      <th></th>\n",
       "      <th></th>\n",
       "      <th>P/E</th>\n",
       "      <th>P/Sales</th>\n",
       "      <th>Current Ratio</th>\n",
       "      <th>MAVG 20</th>\n",
       "      <th>Total Return 3-Year</th>\n",
       "      <th>Total Return 1-3 Years</th>\n",
       "    </tr>\n",
       "    <tr>\n",
       "      <th>Ticker</th>\n",
       "      <th>Date</th>\n",
       "      <th></th>\n",
       "      <th></th>\n",
       "      <th></th>\n",
       "      <th></th>\n",
       "      <th></th>\n",
       "      <th></th>\n",
       "    </tr>\n",
       "  </thead>\n",
       "  <tbody>\n",
       "    <tr>\n",
       "      <th rowspan=\"5\" valign=\"top\">AAPL</th>\n",
       "      <th>2007-01-31</th>\n",
       "      <td>38.307963</td>\n",
       "      <td>3.944838</td>\n",
       "      <td>2.251901</td>\n",
       "      <td>3.1745</td>\n",
       "      <td>0.308342</td>\n",
       "      <td>0.265802</td>\n",
       "    </tr>\n",
       "    <tr>\n",
       "      <th>2007-02-01</th>\n",
       "      <td>37.932395</td>\n",
       "      <td>3.906163</td>\n",
       "      <td>2.251901</td>\n",
       "      <td>3.1765</td>\n",
       "      <td>0.319275</td>\n",
       "      <td>0.272405</td>\n",
       "    </tr>\n",
       "    <tr>\n",
       "      <th>2007-02-02</th>\n",
       "      <td>37.932395</td>\n",
       "      <td>3.906163</td>\n",
       "      <td>2.251901</td>\n",
       "      <td>3.1750</td>\n",
       "      <td>0.322215</td>\n",
       "      <td>0.272741</td>\n",
       "    </tr>\n",
       "    <tr>\n",
       "      <th>2007-02-05</th>\n",
       "      <td>37.556827</td>\n",
       "      <td>3.867488</td>\n",
       "      <td>2.251901</td>\n",
       "      <td>3.1730</td>\n",
       "      <td>0.334661</td>\n",
       "      <td>0.279497</td>\n",
       "    </tr>\n",
       "    <tr>\n",
       "      <th>2007-02-06</th>\n",
       "      <td>37.682016</td>\n",
       "      <td>3.880379</td>\n",
       "      <td>2.251901</td>\n",
       "      <td>3.1710</td>\n",
       "      <td>0.316740</td>\n",
       "      <td>0.277842</td>\n",
       "    </tr>\n",
       "  </tbody>\n",
       "</table>\n",
       "</div>"
      ],
      "text/plain": [
       "                         P/E   P/Sales  Current Ratio  MAVG 20  \\\n",
       "Ticker Date                                                      \n",
       "AAPL   2007-01-31  38.307963  3.944838       2.251901   3.1745   \n",
       "       2007-02-01  37.932395  3.906163       2.251901   3.1765   \n",
       "       2007-02-02  37.932395  3.906163       2.251901   3.1750   \n",
       "       2007-02-05  37.556827  3.867488       2.251901   3.1730   \n",
       "       2007-02-06  37.682016  3.880379       2.251901   3.1710   \n",
       "\n",
       "                   Total Return 3-Year  Total Return 1-3 Years  \n",
       "Ticker Date                                                     \n",
       "AAPL   2007-01-31             0.308342                0.265802  \n",
       "       2007-02-01             0.319275                0.272405  \n",
       "       2007-02-02             0.322215                0.272741  \n",
       "       2007-02-05             0.334661                0.279497  \n",
       "       2007-02-06             0.316740                0.277842  "
      ]
     },
     "execution_count": 40,
     "metadata": {},
     "output_type": "execute_result"
    }
   ],
   "source": [
    "df_combined.head()"
   ]
  },
  {
   "cell_type": "markdown",
   "metadata": {},
   "source": [
    "We can then plot e.g. the P/Sales ratios versus the future 1-3 year stock-returns:"
   ]
  },
  {
   "cell_type": "code",
   "execution_count": 41,
   "metadata": {},
   "outputs": [
    {
     "data": {
      "text/plain": [
       "<matplotlib.axes._subplots.AxesSubplot at 0x7fbdbea97050>"
      ]
     },
     "execution_count": 41,
     "metadata": {},
     "output_type": "execute_result"
    },
    {
     "data": {
      "image/png": "[encoded data removed]",
      "text/plain": [
       "<Figure size 432x288 with 1 Axes>"
      ]
     },
     "metadata": {},
     "output_type": "display_data"
    }
   ],
   "source": [
    "sns.scatterplot(x=PSALES, y=TOTAL_RETURN_1_3Y, hue=TICKER,\n",
    "                data=df_combined.reset_index())"
   ]
  },
  {
   "cell_type": "markdown",
   "metadata": {},
   "source": [
    "### NumPy Arrays\n",
    "\n",
    "If you want to use the signals and stock-returns with functions that accept NumPy arrays instead of Pandas DataFrames, it is very easy to convert from Pandas to NumPy, because Pandas uses NumPy internally:"
   ]
  },
  {
   "cell_type": "code",
   "execution_count": 42,
   "metadata": {},
   "outputs": [],
   "source": [
    "# Get the numpy array with the signals and stock-returns\n",
    "# from the Pandas DataFrame.\n",
    "arr = df_combined.values\n",
    "\n",
    "# Number of signals in the DataFrame.\n",
    "num_signals = 4\n",
    "\n",
    "# Numpy array with the signals.\n",
    "arr_signals = arr[:, :num_signals]\n",
    "\n",
    "# Numpy array with the returns.\n",
    "arr_returns = arr[:, num_signals:]"
   ]
  },
  {
   "cell_type": "markdown",
   "metadata": {},
   "source": [
    "This is the NumPy array with the signals that we are interested in:"
   ]
  },
  {
   "cell_type": "code",
   "execution_count": 43,
   "metadata": {},
   "outputs": [
    {
     "data": {
      "text/plain": [
       "array([[38.30796308,  3.94483762,  2.25190129,  3.1745    ],\n",
       "       [37.93239481,  3.90616274,  2.25190129,  3.1765    ],\n",
       "       [37.93239481,  3.90616274,  2.25190129,  3.175     ],\n",
       "       ...,\n",
       "       [23.14048884,  6.10771267,  2.91857566, 73.7345    ],\n",
       "       [23.09439837,  6.09554752,  2.91857566, 73.868     ],\n",
       "       [23.18043391,  6.11825579,  2.91857566, 74.0325    ]])"
      ]
     },
     "execution_count": 43,
     "metadata": {},
     "output_type": "execute_result"
    }
   ],
   "source": [
    "arr_signals"
   ]
  },
  {
   "cell_type": "code",
   "execution_count": 44,
   "metadata": {},
   "outputs": [
    {
     "data": {
      "text/plain": [
       "(8037, 4)"
      ]
     },
     "execution_count": 44,
     "metadata": {},
     "output_type": "execute_result"
    }
   ],
   "source": [
    "arr_signals.shape"
   ]
  },
  {
   "cell_type": "markdown",
   "metadata": {},
   "source": [
    "This is the NumPy array with the two kinds of stock-returns that we calculated:"
   ]
  },
  {
   "cell_type": "code",
   "execution_count": 45,
   "metadata": {},
   "outputs": [
    {
     "data": {
      "text/plain": [
       "array([[0.30834234, 0.26580234],\n",
       "       [0.31927476, 0.27240481],\n",
       "       [0.3222147 , 0.27274053],\n",
       "       ...,\n",
       "       [0.41741709, 0.33174322],\n",
       "       [0.41346118, 0.333458  ],\n",
       "       [0.4058035 , 0.33195754]])"
      ]
     },
     "execution_count": 45,
     "metadata": {},
     "output_type": "execute_result"
    }
   ],
   "source": [
    "arr_returns"
   ]
  },
  {
   "cell_type": "code",
   "execution_count": 46,
   "metadata": {},
   "outputs": [
    {
     "data": {
      "text/plain": [
       "(8037, 2)"
      ]
     },
     "execution_count": 46,
     "metadata": {},
     "output_type": "execute_result"
    }
   ],
   "source": [
    "arr_returns.shape"
   ]
  },
  {
   "cell_type": "markdown",
   "metadata": {},
   "source": [
    "Because the two NumPy arrays have the same number of rows, they can easily be fed into different Machine Learning libraries, which we might do in a future tutorial."
   ]
  },
  {
   "cell_type": "markdown",
   "metadata": {},
   "source": [
    "## License (MIT)\n",
    "\n",
    "This is published under the\n",
    "[MIT License](https://github.com/simfin/simfin-tutorials/blob/master/LICENSE.txt)\n",
    "which allows very broad use for both academic and commercial purposes.\n",
    "\n",
    "You are very welcome to modify and use this source-code in your own project. Please keep a link to the [original repository](https://github.com/simfin/simfin-tutorials).\n"
   ]
  }
 ],
 "metadata": {
  "kernelspec": {
   "display_name": "Python 3",
   "language": "python",
   "name": "python3"
  },
  "language_info": {
   "codemirror_mode": {
    "name": "ipython",
    "version": 3
   },
   "file_extension": ".py",
   "mimetype": "text/x-python",
   "name": "python",
   "nbconvert_exporter": "python",
   "pygments_lexer": "ipython3",
   "version": "3.7.8"
  }
 },
 "nbformat": 4,
 "nbformat_minor": 2
}
