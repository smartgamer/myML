{
 "cells": [
  {
   "cell_type": "markdown",
   "metadata": {},
   "source": [
    "# SimFin Tutorial 09 - Machine Learning\n",
    "\n",
    "[Original repository on GitHub](https://github.com/simfin/simfin-tutorials)\n",
    "\n",
    "This tutorial was originally written by [Hvass Labs](https://github.com/Hvass-Labs)\n",
    "\n",
    "----\n",
    "\n",
    "\"I hate these bloody automated machines. I'm not a machine, I'm a human being! It's remarkable the technology these days, it says it's not a machine, it says it's a human being!\"\n",
    "&ndash; [Fonejacker](https://www.youtube.com/watch?v=MFqxdvggAxM)"
   ]
  },
  {
   "cell_type": "markdown",
   "metadata": {},
   "source": [
    "## Introduction\n",
    "\n",
    "In the previous tutorial on Statistical Analysis, we tried to find a linear relation between signals and future stock-returns for all 1-3 year investment periods. But it was clear from the scatter-plots in that tutorial, that the relations were not linear as assumed by the statistical model. Although it is possible to use non-linear statistical models, we would need to provide the exact mathematical formula, which we often do not know.\n",
    "\n",
    "In this tutorial we will try and use so-called Machine Learning (ML) to automatically try and discover the non-linear relations between signals and stock-returns. Machine Learning has become a fashionable buzz-word, that people sometimes think is a super-intelligent robot that can solve any problem. In reality, ML models are more or less flexible algorithms that can map from some input x (e.g. signals) to some output y (e.g. stock-returns). The ML model may change parts of its algorithm and/or tune its parameters to the dataset, to achieve a good mapping between input x and output y. There are pro's and con's to different ML models, and each ML model may work on some problems but not on others.\n",
    "\n",
    "This tutorial shows how to use financial data from SimFin with the scikit-learn library for doing the Machine Learning. It is assumed you are already familiar with both."
   ]
  },
  {
   "cell_type": "markdown",
   "metadata": {},
   "source": [
    "## Imports"
   ]
  },
  {
   "cell_type": "code",
   "execution_count": 1,
   "metadata": {},
   "outputs": [],
   "source": [
    "%matplotlib inline\n",
    "import pandas as pd\n",
    "import numpy as np\n",
    "import seaborn as sns\n",
    "\n",
    "# Scikit-learn imports.\n",
    "from sklearn.ensemble import RandomForestRegressor\n",
    "from sklearn.ensemble import RandomForestClassifier\n",
    "from sklearn.model_selection import train_test_split\n",
    "from sklearn.tree import export_text\n",
    "from sklearn.metrics import confusion_matrix\n",
    "from sklearn.metrics import r2_score, accuracy_score\n",
    "\n",
    "# Import the main functionality from the SimFin Python API.\n",
    "import simfin as sf\n",
    "\n",
    "# Import names used for easy access to SimFin's data-columns.\n",
    "from simfin.names import *"
   ]
  },
  {
   "cell_type": "code",
   "execution_count": 2,
   "metadata": {},
   "outputs": [
    {
     "data": {
      "text/plain": [
       "'0.8.3'"
      ]
     },
     "execution_count": 2,
     "metadata": {},
     "output_type": "execute_result"
    }
   ],
   "source": [
    "# Version of the SimFin Python API.\n",
    "sf.__version__"
   ]
  },
  {
   "cell_type": "markdown",
   "metadata": {},
   "source": [
    "## SimFin Config"
   ]
  },
  {
   "cell_type": "code",
   "execution_count": 3,
   "metadata": {},
   "outputs": [],
   "source": [
    "# SimFin data-directory.\n",
    "sf.set_data_dir('~/simfin_data/')"
   ]
  },
  {
   "cell_type": "code",
   "execution_count": 4,
   "metadata": {},
   "outputs": [],
   "source": [
    "# SimFin load API key or use free data.\n",
    "sf.load_api_key(path='~/simfin_api_key.txt', default_key='free')"
   ]
  },
  {
   "cell_type": "code",
   "execution_count": 5,
   "metadata": {},
   "outputs": [],
   "source": [
    "# Seaborn set plotting style.\n",
    "sns.set_style(\"whitegrid\")"
   ]
  },
  {
   "cell_type": "markdown",
   "metadata": {},
   "source": [
    "## Data Hub\n",
    "\n",
    "We use a `StockHub` object to easily load and process financial data with these settings:"
   ]
  },
  {
   "cell_type": "code",
   "execution_count": 6,
   "metadata": {},
   "outputs": [],
   "source": [
    "# We are interested in the US stock-market.\n",
    "market = 'us'\n",
    "\n",
    "# Add this date-offset to the fundamental data such as\n",
    "# Income Statements etc., because the REPORT_DATE is not\n",
    "# when it was actually made available to the public,\n",
    "# which can be 1, 2 or even 3 months after the Report Date.\n",
    "offset = pd.DateOffset(days=60)\n",
    "\n",
    "# Refresh the fundamental datasets (Income Statements etc.)\n",
    "# every 30 days.\n",
    "refresh_days = 30\n",
    "\n",
    "# Refresh the dataset with shareprices every 10 days.\n",
    "refresh_days_shareprices = 10"
   ]
  },
  {
   "cell_type": "code",
   "execution_count": 7,
   "metadata": {},
   "outputs": [
    {
     "name": "stdout",
     "output_type": "stream",
     "text": [
      "CPU times: user 12 µs, sys: 0 ns, total: 12 µs\n",
      "Wall time: 13.8 µs\n"
     ]
    }
   ],
   "source": [
    "%%time\n",
    "hub = sf.StockHub(market=market, offset=offset,\n",
    "                  refresh_days=refresh_days,\n",
    "                  refresh_days_shareprices=refresh_days_shareprices)"
   ]
  },
  {
   "cell_type": "markdown",
   "metadata": {},
   "source": [
    "## Signals\n",
    "\n",
    "First we calculate financial signals for the stocks, such as the Current Ratio, Debt Ratio, Net Profit Margin, Return on Assets, etc. These are calculated using data from the financial reports: Income Statements, Balance Sheets and Cash-Flow Statements, which are automatically downloaded and loaded by the data-hub."
   ]
  },
  {
   "cell_type": "code",
   "execution_count": 8,
   "metadata": {},
   "outputs": [
    {
     "name": "stdout",
     "output_type": "stream",
     "text": [
      "Dataset \"us-income-ttm\" on disk (0 days old).\n",
      "- Loading from disk ... Done!\n",
      "Dataset \"us-balance-ttm\" not on disk.\n",
      "- Downloading ... 100.0%\n",
      "- Extracting zip-file ... Done!\n",
      "- Loading from disk ... Done!\n",
      "Dataset \"us-cashflow-ttm\" not on disk.\n",
      "- Downloading ... 100.0%\n",
      "- Extracting zip-file ... Done!\n",
      "- Loading from disk ... Done!\n",
      "Dataset \"us-shareprices-daily\" on disk (0 days old).\n",
      "- Loading from disk ... Done!\n",
      "Cache-file 'fin_signals-2a38bb7d.pickle' not on disk.\n",
      "- Running function fin_signals() ... "
     ]
    },
    {
     "name": "stderr",
     "output_type": "stream",
     "text": [
      "/home/upsman/anaconda3/envs/tf2/lib/python3.7/site-packages/pandas/core/series.py:726: RuntimeWarning: divide by zero encountered in log10\n",
      "  result = getattr(ufunc, method)(*inputs, **kwargs)\n",
      "/home/upsman/anaconda3/envs/tf2/lib/python3.7/site-packages/pandas/core/series.py:726: RuntimeWarning: invalid value encountered in log10\n",
      "  result = getattr(ufunc, method)(*inputs, **kwargs)\n"
     ]
    },
    {
     "name": "stdout",
     "output_type": "stream",
     "text": [
      "Done!\n",
      "- Saving cache-file to disk ... Done!\n",
      "CPU times: user 1min 48s, sys: 5.1 s, total: 1min 53s\n",
      "Wall time: 3min 1s\n"
     ]
    }
   ],
   "source": [
    "%%time\n",
    "df_fin_signals = hub.fin_signals(variant='daily')"
   ]
  },
  {
   "cell_type": "markdown",
   "metadata": {},
   "source": [
    "Now we calculate growth signals for the stocks, such as Earnings Growth, FCF Growth, Sales Growth, etc. These are also calculated using data from the financial reports: Income Statements, Balance Sheets and Cash-Flow Statements, which are automatically downloaded and loaded by the data-hub."
   ]
  },
  {
   "cell_type": "code",
   "execution_count": 9,
   "metadata": {},
   "outputs": [
    {
     "name": "stdout",
     "output_type": "stream",
     "text": [
      "Dataset \"us-income-quarterly\" not on disk.\n",
      "- Downloading ... 100.0%\n",
      "- Extracting zip-file ... Done!\n",
      "- Loading from disk ... Done!\n",
      "Dataset \"us-balance-quarterly\" not on disk.\n",
      "- Downloading ... 100.0%\n",
      "- Extracting zip-file ... Done!\n",
      "- Loading from disk ... Done!\n",
      "Dataset \"us-cashflow-quarterly\" not on disk.\n",
      "- Downloading ... 100.0%\n",
      "- Extracting zip-file ... Done!\n",
      "- Loading from disk ... Done!\n",
      "Cache-file 'growth_signals-2a38bb7d.pickle' not on disk.\n",
      "- Running function growth_signals() ... Done!\n",
      "- Saving cache-file to disk ... Done!\n",
      "CPU times: user 58 s, sys: 2.51 s, total: 1min\n",
      "Wall time: 1min 15s\n"
     ]
    }
   ],
   "source": [
    "%%time\n",
    "df_growth_signals = hub.growth_signals(variant='daily')"
   ]
  },
  {
   "cell_type": "markdown",
   "metadata": {},
   "source": [
    "Now we calculate valuation signals for the stocks, such as P/E, P/Sales, etc. These are calculated from the share-prices and data from the financial reports. Because the data-hub has already loaded the required datasets in the function-calls above, the data is merely reused here, and the data-hub can proceed directly to computing the signals."
   ]
  },
  {
   "cell_type": "code",
   "execution_count": 10,
   "metadata": {},
   "outputs": [
    {
     "name": "stdout",
     "output_type": "stream",
     "text": [
      "Cache-file 'val_signals-739b68a6.pickle' not on disk.\n",
      "- Running function val_signals() ... Done!\n",
      "- Saving cache-file to disk ... Done!\n",
      "CPU times: user 1min 32s, sys: 3.46 s, total: 1min 36s\n",
      "Wall time: 1min 35s\n"
     ]
    }
   ],
   "source": [
    "%%time\n",
    "df_val_signals = hub.val_signals(variant='daily')"
   ]
  },
  {
   "cell_type": "markdown",
   "metadata": {},
   "source": [
    "We now combine all the signals into a single DataFrame:"
   ]
  },
  {
   "cell_type": "code",
   "execution_count": 11,
   "metadata": {},
   "outputs": [
    {
     "name": "stdout",
     "output_type": "stream",
     "text": [
      "CPU times: user 1.27 s, sys: 160 ms, total: 1.43 s\n",
      "Wall time: 1.43 s\n"
     ]
    }
   ],
   "source": [
    "%%time\n",
    "# Combine the DataFrames.\n",
    "dfs = [df_fin_signals, df_growth_signals, df_val_signals]\n",
    "df_signals = pd.concat(dfs, axis=1)"
   ]
  },
  {
   "cell_type": "markdown",
   "metadata": {},
   "source": [
    "We can then show the results:"
   ]
  },
  {
   "cell_type": "code",
   "execution_count": 12,
   "metadata": {
    "scrolled": true
   },
   "outputs": [
    {
     "data": {
      "text/html": [
       "<div>\n",
       "<style scoped>\n",
       "    .dataframe tbody tr th:only-of-type {\n",
       "        vertical-align: middle;\n",
       "    }\n",
       "\n",
       "    .dataframe tbody tr th {\n",
       "        vertical-align: top;\n",
       "    }\n",
       "\n",
       "    .dataframe thead th {\n",
       "        text-align: right;\n",
       "    }\n",
       "</style>\n",
       "<table border=\"1\" class=\"dataframe\">\n",
       "  <thead>\n",
       "    <tr style=\"text-align: right;\">\n",
       "      <th></th>\n",
       "      <th></th>\n",
       "      <th>(Dividends + Share Buyback) / FCF</th>\n",
       "      <th>Asset Turnover</th>\n",
       "      <th>CapEx / (Depr + Amor)</th>\n",
       "      <th>Current Ratio</th>\n",
       "      <th>Debt Ratio</th>\n",
       "      <th>Dividends / FCF</th>\n",
       "      <th>Gross Profit Margin</th>\n",
       "      <th>Interest Coverage</th>\n",
       "      <th>Inventory Turnover</th>\n",
       "      <th>Log Revenue</th>\n",
       "      <th>...</th>\n",
       "      <th>Earnings Yield</th>\n",
       "      <th>FCF Yield</th>\n",
       "      <th>Market-Cap</th>\n",
       "      <th>P/Cash</th>\n",
       "      <th>P/E</th>\n",
       "      <th>P/FCF</th>\n",
       "      <th>P/NCAV</th>\n",
       "      <th>P/NetNet</th>\n",
       "      <th>P/Sales</th>\n",
       "      <th>Price to Book Value</th>\n",
       "    </tr>\n",
       "    <tr>\n",
       "      <th>Ticker</th>\n",
       "      <th>Date</th>\n",
       "      <th></th>\n",
       "      <th></th>\n",
       "      <th></th>\n",
       "      <th></th>\n",
       "      <th></th>\n",
       "      <th></th>\n",
       "      <th></th>\n",
       "      <th></th>\n",
       "      <th></th>\n",
       "      <th></th>\n",
       "      <th></th>\n",
       "      <th></th>\n",
       "      <th></th>\n",
       "      <th></th>\n",
       "      <th></th>\n",
       "      <th></th>\n",
       "      <th></th>\n",
       "      <th></th>\n",
       "      <th></th>\n",
       "      <th></th>\n",
       "      <th></th>\n",
       "    </tr>\n",
       "  </thead>\n",
       "  <tbody>\n",
       "    <tr>\n",
       "      <th rowspan=\"5\" valign=\"top\">A</th>\n",
       "      <th>2010-09-29</th>\n",
       "      <td>0.171492</td>\n",
       "      <td>0.553297</td>\n",
       "      <td>0.622857</td>\n",
       "      <td>1.966061</td>\n",
       "      <td>0.404176</td>\n",
       "      <td>-0.0</td>\n",
       "      <td>0.542205</td>\n",
       "      <td>5.636364</td>\n",
       "      <td>7.318314</td>\n",
       "      <td>9.701999</td>\n",
       "      <td>...</td>\n",
       "      <td>0.036491</td>\n",
       "      <td>0.039291</td>\n",
       "      <td>1.142744e+10</td>\n",
       "      <td>4.931996</td>\n",
       "      <td>27.403921</td>\n",
       "      <td>25.450857</td>\n",
       "      <td>-20.589973</td>\n",
       "      <td>-3.763357</td>\n",
       "      <td>2.269600</td>\n",
       "      <td>4.066703</td>\n",
       "    </tr>\n",
       "    <tr>\n",
       "      <th>2010-09-30</th>\n",
       "      <td>0.171492</td>\n",
       "      <td>0.553297</td>\n",
       "      <td>0.622857</td>\n",
       "      <td>1.966061</td>\n",
       "      <td>0.404176</td>\n",
       "      <td>-0.0</td>\n",
       "      <td>0.542205</td>\n",
       "      <td>5.636364</td>\n",
       "      <td>7.318314</td>\n",
       "      <td>9.701999</td>\n",
       "      <td>...</td>\n",
       "      <td>0.035627</td>\n",
       "      <td>0.038361</td>\n",
       "      <td>1.170453e+10</td>\n",
       "      <td>5.051587</td>\n",
       "      <td>28.068411</td>\n",
       "      <td>26.067990</td>\n",
       "      <td>-21.089239</td>\n",
       "      <td>-3.854611</td>\n",
       "      <td>2.324633</td>\n",
       "      <td>4.165312</td>\n",
       "    </tr>\n",
       "    <tr>\n",
       "      <th>2010-10-01</th>\n",
       "      <td>0.171492</td>\n",
       "      <td>0.553297</td>\n",
       "      <td>0.622857</td>\n",
       "      <td>1.966061</td>\n",
       "      <td>0.404176</td>\n",
       "      <td>-0.0</td>\n",
       "      <td>0.542205</td>\n",
       "      <td>5.636364</td>\n",
       "      <td>7.318314</td>\n",
       "      <td>9.701999</td>\n",
       "      <td>...</td>\n",
       "      <td>0.035247</td>\n",
       "      <td>0.037952</td>\n",
       "      <td>1.183080e+10</td>\n",
       "      <td>5.106084</td>\n",
       "      <td>28.371217</td>\n",
       "      <td>26.349215</td>\n",
       "      <td>-21.316752</td>\n",
       "      <td>-3.896195</td>\n",
       "      <td>2.349712</td>\n",
       "      <td>4.210248</td>\n",
       "    </tr>\n",
       "    <tr>\n",
       "      <th>2010-10-04</th>\n",
       "      <td>0.171492</td>\n",
       "      <td>0.553297</td>\n",
       "      <td>0.622857</td>\n",
       "      <td>1.966061</td>\n",
       "      <td>0.404176</td>\n",
       "      <td>-0.0</td>\n",
       "      <td>0.542205</td>\n",
       "      <td>5.636364</td>\n",
       "      <td>7.318314</td>\n",
       "      <td>9.701999</td>\n",
       "      <td>...</td>\n",
       "      <td>0.036480</td>\n",
       "      <td>0.039279</td>\n",
       "      <td>1.143094e+10</td>\n",
       "      <td>4.933510</td>\n",
       "      <td>27.412332</td>\n",
       "      <td>25.458669</td>\n",
       "      <td>-20.596293</td>\n",
       "      <td>-3.764513</td>\n",
       "      <td>2.270296</td>\n",
       "      <td>4.067951</td>\n",
       "    </tr>\n",
       "    <tr>\n",
       "      <th>2010-10-05</th>\n",
       "      <td>0.171492</td>\n",
       "      <td>0.553297</td>\n",
       "      <td>0.622857</td>\n",
       "      <td>1.966061</td>\n",
       "      <td>0.404176</td>\n",
       "      <td>-0.0</td>\n",
       "      <td>0.542205</td>\n",
       "      <td>5.636364</td>\n",
       "      <td>7.318314</td>\n",
       "      <td>9.701999</td>\n",
       "      <td>...</td>\n",
       "      <td>0.035983</td>\n",
       "      <td>0.038744</td>\n",
       "      <td>1.158878e+10</td>\n",
       "      <td>5.001631</td>\n",
       "      <td>27.790839</td>\n",
       "      <td>25.810200</td>\n",
       "      <td>-20.880685</td>\n",
       "      <td>-3.816493</td>\n",
       "      <td>2.301644</td>\n",
       "      <td>4.124121</td>\n",
       "    </tr>\n",
       "  </tbody>\n",
       "</table>\n",
       "<p>5 rows × 42 columns</p>\n",
       "</div>"
      ],
      "text/plain": [
       "                   (Dividends + Share Buyback) / FCF  Asset Turnover  \\\n",
       "Ticker Date                                                            \n",
       "A      2010-09-29                           0.171492        0.553297   \n",
       "       2010-09-30                           0.171492        0.553297   \n",
       "       2010-10-01                           0.171492        0.553297   \n",
       "       2010-10-04                           0.171492        0.553297   \n",
       "       2010-10-05                           0.171492        0.553297   \n",
       "\n",
       "                   CapEx / (Depr + Amor)  Current Ratio  Debt Ratio  \\\n",
       "Ticker Date                                                           \n",
       "A      2010-09-29               0.622857       1.966061    0.404176   \n",
       "       2010-09-30               0.622857       1.966061    0.404176   \n",
       "       2010-10-01               0.622857       1.966061    0.404176   \n",
       "       2010-10-04               0.622857       1.966061    0.404176   \n",
       "       2010-10-05               0.622857       1.966061    0.404176   \n",
       "\n",
       "                   Dividends / FCF  Gross Profit Margin  Interest Coverage  \\\n",
       "Ticker Date                                                                  \n",
       "A      2010-09-29             -0.0             0.542205           5.636364   \n",
       "       2010-09-30             -0.0             0.542205           5.636364   \n",
       "       2010-10-01             -0.0             0.542205           5.636364   \n",
       "       2010-10-04             -0.0             0.542205           5.636364   \n",
       "       2010-10-05             -0.0             0.542205           5.636364   \n",
       "\n",
       "                   Inventory Turnover  Log Revenue  ...  Earnings Yield  \\\n",
       "Ticker Date                                         ...                   \n",
       "A      2010-09-29            7.318314     9.701999  ...        0.036491   \n",
       "       2010-09-30            7.318314     9.701999  ...        0.035627   \n",
       "       2010-10-01            7.318314     9.701999  ...        0.035247   \n",
       "       2010-10-04            7.318314     9.701999  ...        0.036480   \n",
       "       2010-10-05            7.318314     9.701999  ...        0.035983   \n",
       "\n",
       "                   FCF Yield    Market-Cap    P/Cash        P/E      P/FCF  \\\n",
       "Ticker Date                                                                  \n",
       "A      2010-09-29   0.039291  1.142744e+10  4.931996  27.403921  25.450857   \n",
       "       2010-09-30   0.038361  1.170453e+10  5.051587  28.068411  26.067990   \n",
       "       2010-10-01   0.037952  1.183080e+10  5.106084  28.371217  26.349215   \n",
       "       2010-10-04   0.039279  1.143094e+10  4.933510  27.412332  25.458669   \n",
       "       2010-10-05   0.038744  1.158878e+10  5.001631  27.790839  25.810200   \n",
       "\n",
       "                      P/NCAV  P/NetNet   P/Sales  Price to Book Value  \n",
       "Ticker Date                                                            \n",
       "A      2010-09-29 -20.589973 -3.763357  2.269600             4.066703  \n",
       "       2010-09-30 -21.089239 -3.854611  2.324633             4.165312  \n",
       "       2010-10-01 -21.316752 -3.896195  2.349712             4.210248  \n",
       "       2010-10-04 -20.596293 -3.764513  2.270296             4.067951  \n",
       "       2010-10-05 -20.880685 -3.816493  2.301644             4.124121  \n",
       "\n",
       "[5 rows x 42 columns]"
      ]
     },
     "execution_count": 12,
     "metadata": {},
     "output_type": "execute_result"
    }
   ],
   "source": [
    "df_signals.dropna(how='all').head()"
   ]
  },
  {
   "cell_type": "markdown",
   "metadata": {},
   "source": [
    "## Missing Data\n",
    "\n",
    "Some of the signals have a lot of missing data which cannot be handled by scikit-learn. Let us first see the fraction of each signal-column that is missing:"
   ]
  },
  {
   "cell_type": "code",
   "execution_count": 13,
   "metadata": {},
   "outputs": [
    {
     "data": {
      "text/plain": [
       "R&D / Gross Profit                   0.649276\n",
       "Return on Research Capital           0.649276\n",
       "R&D / Revenue                        0.614202\n",
       "Dividend Yield                       0.438901\n",
       "Inventory Turnover                   0.290166\n",
       "Debt Ratio                           0.262063\n",
       "Net Acquisitions / Total Assets      0.257896\n",
       "Sales Growth                         0.147292\n",
       "Sales Growth YOY                     0.144781\n",
       "FCF Growth                           0.135264\n",
       "Assets Growth                        0.135264\n",
       "Earnings Growth                      0.135264\n",
       "FCF Growth YOY                       0.133461\n",
       "Earnings Growth YOY                  0.133446\n",
       "Assets Growth YOY                    0.133446\n",
       "Interest Coverage                    0.097272\n",
       "Gross Profit Margin                  0.094301\n",
       "Sales Growth QOQ                     0.053825\n",
       "FCF Growth QOQ                       0.040359\n",
       "Earnings Growth QOQ                  0.040359\n",
       "Assets Growth QOQ                    0.040359\n",
       "CapEx / (Depr + Amor)                0.038557\n",
       "P/Sales                              0.028200\n",
       "Log Revenue                          0.020019\n",
       "Asset Turnover                       0.019926\n",
       "Net Profit Margin                    0.019926\n",
       "P/Cash                               0.019259\n",
       "Price to Book Value                  0.018029\n",
       "Earnings Yield                       0.018029\n",
       "FCF Yield                            0.018029\n",
       "Market-Cap                           0.018029\n",
       "P/E                                  0.018029\n",
       "P/FCF                                0.018029\n",
       "P/NCAV                               0.018029\n",
       "P/NetNet                             0.018029\n",
       "Quick Ratio                          0.010978\n",
       "Return on Assets                     0.009747\n",
       "Return on Equity                     0.009747\n",
       "Share Buyback / FCF                  0.009747\n",
       "Dividends / FCF                      0.009747\n",
       "Current Ratio                        0.009747\n",
       "(Dividends + Share Buyback) / FCF    0.009747\n",
       "dtype: float64"
      ]
     },
     "execution_count": 13,
     "metadata": {},
     "output_type": "execute_result"
    }
   ],
   "source": [
    "# Remove all rows with only NaN values.\n",
    "df = df_signals.dropna(how='all').reset_index(drop=True)\n",
    "\n",
    "# For each column, show the fraction of the rows that are NaN.\n",
    "(df.isnull().sum() / len(df)).sort_values(ascending=False)"
   ]
  },
  {
   "cell_type": "markdown",
   "metadata": {},
   "source": [
    "Let us remove all signals that have more than 25% missing data:"
   ]
  },
  {
   "cell_type": "code",
   "execution_count": 14,
   "metadata": {},
   "outputs": [
    {
     "data": {
      "text/plain": [
       "Index(['Debt Ratio', 'Dividend Yield', 'Inventory Turnover',\n",
       "       'Net Acquisitions / Total Assets', 'R&D / Gross Profit',\n",
       "       'R&D / Revenue', 'Return on Research Capital'],\n",
       "      dtype='object')"
      ]
     },
     "execution_count": 14,
     "metadata": {},
     "output_type": "execute_result"
    }
   ],
   "source": [
    "# List of the columns before removing any.\n",
    "columns_before = df_signals.columns\n",
    "\n",
    "# Threshold for the number of rows that must be NaN for each column.\n",
    "thresh = 0.75 * len(df_signals.dropna(how='all'))\n",
    "\n",
    "# Remove all columns which don't have sufficient data.\n",
    "df_signals = df_signals.dropna(axis='columns', thresh=thresh)\n",
    "\n",
    "# List of the columns after the removal.\n",
    "columns_after = df_signals.columns\n",
    "\n",
    "# Show the columns that were removed.\n",
    "columns_before.difference(columns_after)"
   ]
  },
  {
   "cell_type": "markdown",
   "metadata": {},
   "source": [
    "## 1-3 Year Returns\n",
    "\n",
    "We want to try and predict the average 1-3 year returns. We will actually consider the mean log-returns, because that is easier to calculate, but the result is nearly the same as the non-log mean returns."
   ]
  },
  {
   "cell_type": "code",
   "execution_count": 15,
   "metadata": {},
   "outputs": [],
   "source": [
    "# Name of the new column for the returns.\n",
    "TOTAL_RETURN_1_3Y = 'Total Return 1-3 Years'"
   ]
  },
  {
   "cell_type": "code",
   "execution_count": 16,
   "metadata": {},
   "outputs": [
    {
     "name": "stdout",
     "output_type": "stream",
     "text": [
      "Cache-file 'mean_log_change-5cec82bd.pickle' not on disk.\n",
      "- Running function mean_log_change() ... Done!\n",
      "- Saving cache-file to disk ... Done!\n",
      "CPU times: user 30.6 s, sys: 81.6 ms, total: 30.7 s\n",
      "Wall time: 30.7 s\n"
     ]
    }
   ],
   "source": [
    "%%time\n",
    "# Calculate the mean log-returns for all 1-3 year periods.\n",
    "df_returns_1_3y = \\\n",
    "    hub.mean_log_returns(name=TOTAL_RETURN_1_3Y,\n",
    "                         future=True, annualized=True,\n",
    "                         min_years=1, max_years=3)"
   ]
  },
  {
   "cell_type": "markdown",
   "metadata": {},
   "source": [
    "## Combine Signals & Returns\n",
    "\n",
    "We then combine the signals and returns into a single DataFrame to align the data."
   ]
  },
  {
   "cell_type": "code",
   "execution_count": 17,
   "metadata": {},
   "outputs": [
    {
     "name": "stdout",
     "output_type": "stream",
     "text": [
      "CPU times: user 1.27 s, sys: 938 ms, total: 2.2 s\n",
      "Wall time: 2.21 s\n"
     ]
    }
   ],
   "source": [
    "%%time\n",
    "dfs = [df_signals, df_returns_1_3y]\n",
    "df_sig_rets = pd.concat(dfs, axis=1)"
   ]
  },
  {
   "cell_type": "markdown",
   "metadata": {},
   "source": [
    "## Data Cleaning\n",
    "\n",
    "The data also contains outliers and still has missing values, so let us fix that now. A common method for removing outliers is so-called *Winsorization* of the data. It basically just limits or clips the data between e.g. the 5% and 95% quantiles of the data. We will Winsorize both the stock-returns and all the signals. After that, we will remove all rows with missing values, because scikit-learn cannot handle that. Finally we will remove tickers that have less than 200 rows of data.\n",
    "\n",
    "There are more than 5 million data-rows before this cleaning:"
   ]
  },
  {
   "cell_type": "code",
   "execution_count": 18,
   "metadata": {
    "scrolled": true
   },
   "outputs": [
    {
     "data": {
      "text/plain": [
       "(7113810, 36)"
      ]
     },
     "execution_count": 18,
     "metadata": {},
     "output_type": "execute_result"
    }
   ],
   "source": [
    "df_sig_rets.shape"
   ]
  },
  {
   "cell_type": "code",
   "execution_count": 19,
   "metadata": {},
   "outputs": [
    {
     "name": "stdout",
     "output_type": "stream",
     "text": [
      "CPU times: user 13.7 s, sys: 9.99 s, total: 23.7 s\n",
      "Wall time: 17.1 s\n"
     ]
    }
   ],
   "source": [
    "%%time\n",
    "\n",
    "# Clip the signals and returns at their 5% and 95% quantiles.\n",
    "# We do not set them to NaN because it would remove too much data.\n",
    "df_sig_rets = sf.winsorize(df_sig_rets)\n",
    "\n",
    "# Remove all rows with missing values (NaN)\n",
    "# because scikit-learn cannot handle that.\n",
    "df_sig_rets = df_sig_rets.dropna(how='any')\n",
    "\n",
    "# Remove all tickers which have less than 200 data-rows.\n",
    "df_sig_rets = df_sig_rets.groupby(TICKER) \\\n",
    "                .filter(lambda df: len(df)>200)"
   ]
  },
  {
   "cell_type": "markdown",
   "metadata": {},
   "source": [
    "This data-cleaning has removed about 80% of the rows, which is a lot:"
   ]
  },
  {
   "cell_type": "code",
   "execution_count": 20,
   "metadata": {},
   "outputs": [
    {
     "data": {
      "text/plain": [
       "(1739795, 36)"
      ]
     },
     "execution_count": 20,
     "metadata": {},
     "output_type": "execute_result"
    }
   ],
   "source": [
    "df_sig_rets.shape"
   ]
  },
  {
   "cell_type": "markdown",
   "metadata": {},
   "source": [
    "The reason that so many rows have been removed, is that scikit-learn cannot handle rows with missing values (NaN). Some missing values could be set to a default value, e.g. the Dividend Yield could be set to 0. Other columns could be omitted because they don't have any predictive power anyway. Or you could try another Machine Learning library that can handle missing values, such as [XGBoost](https://xgboost.readthedocs.io/en/latest/)."
   ]
  },
  {
   "cell_type": "markdown",
   "metadata": {},
   "source": [
    "## Correlation: Signals vs. Return\n",
    "\n",
    "Linear correlation (aka. Pearson correlation) is a simple statistical measure of how two variables change together. The linear correlation between the signals and stock-returns can be used to assess which signals might be the best predictors for stock-returns.\n",
    "\n",
    "A correlation value of +1 means the two variables are perfectly correlated, so they always increase and decrease together in a linear way. Conversely, a correlation value of -1 means the two variables are perfectly inversely correlated, so they always increase and decrease in the opposite direction of each other. A correlation value of zero means that there is no linear relation between the signal and stock-returns, but there may still be a strong non-linear relation (see examples [here](https://en.wikipedia.org/wiki/Correlation_and_dependence)).\n",
    "\n",
    "We use the Winsorized data when studying the correlation, because data-outliers may falsely indicate a strong overall correlation, when in fact there is no correlation for the majority of the data.\n",
    "\n",
    "The following calculates the correlation between all the signals and the 1-3 year average stock-returns, sorted according to the absolute correlation strength:"
   ]
  },
  {
   "cell_type": "code",
   "execution_count": 21,
   "metadata": {
    "scrolled": true
   },
   "outputs": [
    {
     "data": {
      "text/plain": [
       "Net Profit Margin                    0.136758\n",
       "Return on Assets                     0.127182\n",
       "Earnings Yield                       0.123482\n",
       "FCF Yield                            0.099279\n",
       "Return on Equity                     0.093227\n",
       "Log Revenue                          0.080528\n",
       "P/E                                  0.053466\n",
       "P/FCF                                0.044057\n",
       "Price to Book Value                  0.039567\n",
       "Gross Profit Margin                  0.039186\n",
       "Market-Cap                           0.038540\n",
       "Dividends / FCF                      0.036941\n",
       "(Dividends + Share Buyback) / FCF    0.034548\n",
       "CapEx / (Depr + Amor)                0.033415\n",
       "P/Cash                               0.030735\n",
       "Share Buyback / FCF                  0.029156\n",
       "FCF Growth YOY                       0.028904\n",
       "Earnings Growth                      0.027040\n",
       "FCF Growth                           0.026847\n",
       "Earnings Growth QOQ                  0.023394\n",
       "P/NCAV                               0.023057\n",
       "Earnings Growth YOY                  0.022794\n",
       "FCF Growth QOQ                       0.020252\n",
       "Sales Growth QOQ                     0.017625\n",
       "Assets Growth QOQ                    0.016015\n",
       "P/NetNet                             0.015345\n",
       "Current Ratio                        0.015132\n",
       "Assets Growth                        0.013653\n",
       "Assets Growth YOY                    0.013625\n",
       "Quick Ratio                          0.012878\n",
       "Asset Turnover                       0.012430\n",
       "Sales Growth                         0.011927\n",
       "P/Sales                              0.011282\n",
       "Interest Coverage                    0.010712\n",
       "Sales Growth YOY                     0.008482\n",
       "Name: Return Correlation, dtype: float64"
      ]
     },
     "execution_count": 21,
     "metadata": {},
     "output_type": "execute_result"
    }
   ],
   "source": [
    "# New column-name for correlation between signals and returns.\n",
    "RETURN_CORR = 'Return Correlation'\n",
    "\n",
    "# Calculate the correlation between all data-columns.\n",
    "df_corr = df_sig_rets.corr()\n",
    "\n",
    "# Correlation between signals and returns.\n",
    "# Sorted to show the strongest absolute correlations first.\n",
    "df_corr_returns = df_corr[TOTAL_RETURN_1_3Y] \\\n",
    "                    .abs() \\\n",
    "                    .drop(TOTAL_RETURN_1_3Y) \\\n",
    "                    .sort_values(ascending=False) \\\n",
    "                    .rename(RETURN_CORR)\n",
    "\n",
    "# Show the correlations between signals and returns.\n",
    "df_corr_returns"
   ]
  },
  {
   "cell_type": "markdown",
   "metadata": {},
   "source": [
    "## Split Training / Test-Sets\n",
    "\n",
    "When training a Machine Learning model, we typically split the dataset into training- and test-sets. Only the training-set is used to train the model, after which the model is used on the test-set, to assess how the model performs on data it has not seen during training.\n",
    "\n",
    "If we randomly divide all the data-rows into training- and test-sets, we would most likely get data for every stock-ticker in both the training- and test-sets, which would probably make them highly correlated. To avoid this, we split the dataset according to stock-tickers, so a ticker belongs to either the training- or test-set, but not both. We use 80% of all the tickers in the training-set, and 20% in the test-set."
   ]
  },
  {
   "cell_type": "code",
   "execution_count": 22,
   "metadata": {},
   "outputs": [],
   "source": [
    "# List of all unique stock-tickers in the dataset.\n",
    "tickers = df_sig_rets.reset_index()[TICKER].unique()\n",
    "\n",
    "# Split the tickers into training- and test-sets.\n",
    "tickers_train, tickers_test = \\\n",
    "    train_test_split(tickers, train_size=0.8, random_state=1234)"
   ]
  },
  {
   "cell_type": "markdown",
   "metadata": {},
   "source": [
    "Now that we have lists of tickers for the training- and test-sets, we can select those rows from the DataFrame with signals and stock-returns:"
   ]
  },
  {
   "cell_type": "code",
   "execution_count": 23,
   "metadata": {
    "scrolled": true
   },
   "outputs": [
    {
     "name": "stdout",
     "output_type": "stream",
     "text": [
      "CPU times: user 129 ms, sys: 24.1 ms, total: 154 ms\n",
      "Wall time: 152 ms\n"
     ]
    }
   ],
   "source": [
    "%%time\n",
    "df_train = df_sig_rets.loc[tickers_train]\n",
    "df_test = df_sig_rets.loc[tickers_test]"
   ]
  },
  {
   "cell_type": "markdown",
   "metadata": {},
   "source": [
    "We can then split these DataFrames into signals and stock-returns; that is, X and y-values that the Machine Learning model must try and find a mapping between. In scikit-learn's notation, the capital X indicates a 2-dimensional array or matrix, and the lower-case y indicates a 1-dimensional array."
   ]
  },
  {
   "cell_type": "code",
   "execution_count": 24,
   "metadata": {},
   "outputs": [],
   "source": [
    "# DataFrames with signals for training- and test-sets.\n",
    "X_train = df_train.drop(columns=[TOTAL_RETURN_1_3Y])\n",
    "X_test = df_test.drop(columns=[TOTAL_RETURN_1_3Y])\n",
    "\n",
    "# DataFrames with stock-returns for training- and test-sets.\n",
    "y_train = df_train[TOTAL_RETURN_1_3Y]\n",
    "y_test = df_test[TOTAL_RETURN_1_3Y]"
   ]
  },
  {
   "cell_type": "markdown",
   "metadata": {},
   "source": [
    "Let us check that the shapes of these arrays look reasonable:"
   ]
  },
  {
   "cell_type": "code",
   "execution_count": 25,
   "metadata": {},
   "outputs": [
    {
     "data": {
      "text/plain": [
       "((1382785, 35), (1382785,))"
      ]
     },
     "execution_count": 25,
     "metadata": {},
     "output_type": "execute_result"
    }
   ],
   "source": [
    "X_train.shape, y_train.shape"
   ]
  },
  {
   "cell_type": "code",
   "execution_count": 26,
   "metadata": {},
   "outputs": [
    {
     "data": {
      "text/plain": [
       "((357010, 35), (357010,))"
      ]
     },
     "execution_count": 26,
     "metadata": {},
     "output_type": "execute_result"
    }
   ],
   "source": [
    "X_test.shape, y_test.shape"
   ]
  },
  {
   "cell_type": "markdown",
   "metadata": {},
   "source": [
    "## Helper Functions\n",
    "\n",
    "These are some helper-functions for printing and plotting the results."
   ]
  },
  {
   "cell_type": "code",
   "execution_count": 27,
   "metadata": {},
   "outputs": [],
   "source": [
    "# List of signal names.\n",
    "signal_names = X_train.columns.values\n",
    "\n",
    "# List of signal names where spaces are replaced with _\n",
    "signal_names_ = [s.replace(' ', '_') for s in signal_names]"
   ]
  },
  {
   "cell_type": "code",
   "execution_count": 28,
   "metadata": {},
   "outputs": [],
   "source": [
    "# Column-name.\n",
    "FEATURE_IMPORTANCE = 'Feature Importance'"
   ]
  },
  {
   "cell_type": "code",
   "execution_count": 29,
   "metadata": {},
   "outputs": [],
   "source": [
    "def compare_feature_imp_corr(estimator):\n",
    "    \"\"\"\n",
    "    Return a DataFrame which compares the signals' Feature\n",
    "    Importance in the Machine Learning model, to the absolute\n",
    "    correlation of the signals and stock-returns.\n",
    "    \n",
    "    :param estimator: Sklearn ensemble estimator.\n",
    "    :return: Pandas DataFrame.\n",
    "    \"\"\"\n",
    "    \n",
    "    # Wrap the list of Feature Importance in a Pandas Series.\n",
    "    df_feat_imp = pd.Series(estimator.feature_importances_,\n",
    "                            index=signal_names,\n",
    "                            name=FEATURE_IMPORTANCE)\n",
    "\n",
    "    # Concatenate the DataFrames with Feature Importance\n",
    "    # and Return Correlation.\n",
    "    dfs = [df_feat_imp, df_corr_returns]\n",
    "    df_compare = pd.concat(dfs, axis=1, sort=True)\n",
    "    \n",
    "    # Sort by Feature Importance.\n",
    "    df_compare.sort_values(by=FEATURE_IMPORTANCE,\n",
    "                           ascending=False, inplace=True)\n",
    "    \n",
    "    return df_compare"
   ]
  },
  {
   "cell_type": "code",
   "execution_count": 30,
   "metadata": {},
   "outputs": [],
   "source": [
    "def print_tree(estimator, max_depth=6, **kwargs):\n",
    "    \"\"\"\n",
    "    Print the first Decision Tree from a Random Forest.\n",
    "    :param estimator: Sklearn ensemble estimator.\n",
    "    \"\"\"\n",
    "    s = export_text(estimator.estimators_[0],\n",
    "                    max_depth=max_depth,\n",
    "                    feature_names=signal_names_,\n",
    "                    **kwargs)\n",
    "    print(s)"
   ]
  },
  {
   "cell_type": "code",
   "execution_count": 31,
   "metadata": {},
   "outputs": [],
   "source": [
    "def plot_confusion_matrix(y_true, y_pred):\n",
    "    \"\"\"\n",
    "    Plot a classification confusion matrix.\n",
    "    \n",
    "    :param y_true: Array of true classes.\n",
    "    :param y_pred: Array of predicted classes.\n",
    "    \"\"\"\n",
    "    \n",
    "    # Class labels.\n",
    "    labels = [1.0, -1.0]\n",
    "    labels_text = ['Gain', 'Loss']\n",
    "\n",
    "    # Create confusion matrix.\n",
    "    mat = confusion_matrix(y_true=y_true, y_pred=y_pred,\n",
    "                           labels=labels)\n",
    "    \n",
    "    # Normalize so all matrix entries sum to 1.0\n",
    "    mat = mat / len(y_true)\n",
    "    \n",
    "    # Plot the matrix as a heatmap.\n",
    "    sns.heatmap(mat, robust=True,\n",
    "                xticklabels=labels_text,\n",
    "                yticklabels=labels_text)"
   ]
  },
  {
   "cell_type": "markdown",
   "metadata": {},
   "source": [
    "## Machine Learning: Regression\n",
    "\n",
    "Now that the data has been prepared, we can create a Machine Learning model using scikit-learn. Because we want to map financial signals x to stock-returns y that are continuous values, we need to use a so-called Regression model. In this example, we will use a Random Forest which is an ensemble of many Decision Trees, because it computes fairly quickly. An example of a Decision Tree will be shown further below, once the model has been fitted to the training-data.\n",
    "\n",
    "The model has many parameters that adjust its ability to fit the training-data, possibly at the cost of having a worse fit on the test-data. This is the usual dilemma between over- and under-fitting the model to the training-data. If we overfit the model, it means that it has learned to recognize noise in the training-data which does not generalize to the test-set. Conversely, if we underfit the model, it means that it has not learned some essential features in the training-data that also generalize to the test-data.\n",
    "\n",
    "You can tweak these parameters to try and improve the model's performance on the training- and test-sets."
   ]
  },
  {
   "cell_type": "code",
   "execution_count": 32,
   "metadata": {},
   "outputs": [],
   "source": [
    "# Parameters for scikit-learn's Random Forest models.\n",
    "model_args = \\\n",
    "{\n",
    "    # Random Forest parameters to adjust between\n",
    "    # over- and under-fitting.\n",
    "    'n_estimators': 100,\n",
    "    'max_depth': 15,\n",
    "    'min_samples_split': 100,\n",
    "    'min_samples_leaf': 10,\n",
    "\n",
    "    # Use all available CPU cores.\n",
    "    'n_jobs': -1,\n",
    "\n",
    "    # Set random seed to make the experiments repeatable.\n",
    "    'random_state': 1234,\n",
    "}"
   ]
  },
  {
   "cell_type": "code",
   "execution_count": 33,
   "metadata": {},
   "outputs": [],
   "source": [
    "# Create the estimator, but don't do any computations yet.\n",
    "regr = RandomForestRegressor(**model_args)"
   ]
  },
  {
   "cell_type": "code",
   "execution_count": 34,
   "metadata": {},
   "outputs": [
    {
     "name": "stdout",
     "output_type": "stream",
     "text": [
      "CPU times: user 41min 33s, sys: 6.53 s, total: 41min 40s\n",
      "Wall time: 7min 48s\n"
     ]
    }
   ],
   "source": [
    "%%time\n",
    "# Fit the estimator to the training-data.\n",
    "# This may take several minutes on a 4-core CPU.\n",
    "_ = regr.fit(X=X_train, y=y_train)"
   ]
  },
  {
   "cell_type": "markdown",
   "metadata": {},
   "source": [
    "Now that the Random Forest model has been fitted to the training-data, we can show one of the 100 Decision Trees that it found. These are deeply nested if-then-else statements on the signals, which result in some output value. The output of 100 such Decision Trees are averaged to create the output of the entire ensemble known as a Random Forest.\n",
    "\n",
    "Clearly, the model does not contain any profound insight. It does not understand anything about finance. The model has just found that it could estimate the mapping between signals x and stock-returns y in the training-data, using many of these finely tuned if-then-else statements."
   ]
  },
  {
   "cell_type": "code",
   "execution_count": 35,
   "metadata": {},
   "outputs": [
    {
     "name": "stdout",
     "output_type": "stream",
     "text": [
      "|--- Net_Profit_Margin <= -0.69\n",
      "|   |--- P/FCF <= -2.42\n",
      "|   |   |--- Interest_Coverage <= -0.21\n",
      "|   |   |   |--- Share_Buyback_/_FCF <= 0.03\n",
      "|   |   |   |   |--- (Dividends_+_Share_Buyback)_/_FCF <= 0.00\n",
      "|   |   |   |   |   |--- Share_Buyback_/_FCF <= 0.00\n",
      "|   |   |   |   |   |   |--- P/E <= -1.67\n",
      "|   |   |   |   |   |   |   |--- truncated branch of depth 9\n",
      "|   |   |   |   |   |   |--- P/E >  -1.67\n",
      "|   |   |   |   |   |   |   |--- truncated branch of depth 9\n",
      "|   |   |   |   |   |--- Share_Buyback_/_FCF >  0.00\n",
      "|   |   |   |   |   |   |--- P/NetNet <= -0.87\n",
      "|   |   |   |   |   |   |   |--- value: [-0.52]\n",
      "|   |   |   |   |   |   |--- P/NetNet >  -0.87\n",
      "|   |   |   |   |   |   |   |--- value: [-0.46]\n",
      "|   |   |   |   |--- (Dividends_+_Share_Buyback)_/_FCF >  0.00\n",
      "|   |   |   |   |   |--- Quick_Ratio <= 1.38\n",
      "|   |   |   |   |   |   |--- value: [-0.47]\n",
      "|   |   |   |   |   |--- Quick_Ratio >  1.38\n",
      "|   |   |   |   |   |   |--- Log_Revenue <= 7.65\n",
      "|   |   |   |   |   |   |   |--- truncated branch of depth 9\n",
      "|   |   |   |   |   |   |--- Log_Revenue >  7.65\n",
      "|   |   |   |   |   |   |   |--- truncated branch of depth 4\n",
      "|   |   |   |--- Share_Buyback_/_FCF >  0.03\n",
      "|   |   |   |   |--- Market-Cap <= 30685602.00\n",
      "|   |   |   |   |   |--- Asset_Turnover <= 0.54\n",
      "|   |   |   |   |   |   |--- Gross_Profit_Margin <= 0.32\n",
      "|   |   |   |   |   |   |   |--- truncated branch of depth 4\n",
      "|   |   |   |   |   |   |--- Gross_Profit_Margin >  0.32\n",
      "|   |   |   |   |   |   |   |--- truncated branch of depth 6\n",
      "|   |   |   |   |   |--- Asset_Turnover >  0.54\n",
      "|   |   |   |   |   |   |--- P/Sales <= 8.48\n",
      "|   |   |   |   |   |   |   |--- truncated branch of depth 7\n",
      "|   |   |   |   |   |   |--- P/Sales >  8.48\n",
      "|   |   |   |   |   |   |   |--- value: [0.10]\n",
      "|   |   |   |   |--- Market-Cap >  30685602.00\n",
      "|   |   |   |   |   |--- P/NCAV <= 23.12\n",
      "|   |   |   |   |   |   |--- Gross_Profit_Margin <= 0.67\n",
      "|   |   |   |   |   |   |   |--- truncated branch of depth 9\n",
      "|   |   |   |   |   |   |--- Gross_Profit_Margin >  0.67\n",
      "|   |   |   |   |   |   |   |--- truncated branch of depth 9\n",
      "|   |   |   |   |   |--- P/NCAV >  23.12\n",
      "|   |   |   |   |   |   |--- Log_Revenue <= 7.65\n",
      "|   |   |   |   |   |   |   |--- truncated branch of depth 9\n",
      "|   |   |   |   |   |   |--- Log_Revenue >  7.65\n",
      "|   |   |   |   |   |   |   |--- truncated branch of depth 5\n",
      "|   |   |--- Interest_Coverage >  -0.21\n",
      "|   |   |   |--- Gross_Profit_Margin <= 0.79\n",
      "|   |   |   |   |--- Share_Buyback_/_FCF <= 0.38\n",
      "|   |   |   |   |   |--- Interest_Coverage <= 41.85\n",
      "|   |   |   |   |   |   |--- P/FCF <= -16.59\n",
      "|   |   |   |   |   |   |   |--- truncated branch of depth 6\n",
      "|   |   |   |   |   |   |--- P/FCF >  -16.59\n",
      "|   |   |   |   |   |   |   |--- truncated branch of depth 8\n",
      "|   |   |   |   |   |--- Interest_Coverage >  41.85\n",
      "|   |   |   |   |   |   |--- Price_to_Book_Value <= 1.09\n",
      "|   |   |   |   |   |   |   |--- truncated branch of depth 4\n",
      "|   |   |   |   |   |   |--- Price_to_Book_Value >  1.09\n",
      "|   |   |   |   |   |   |   |--- truncated branch of depth 9\n",
      "|   |   |   |   |--- Share_Buyback_/_FCF >  0.38\n",
      "|   |   |   |   |   |--- (Dividends_+_Share_Buyback)_/_FCF <= 1.09\n",
      "|   |   |   |   |   |   |--- Price_to_Book_Value <= 2.84\n",
      "|   |   |   |   |   |   |   |--- value: [0.37]\n",
      "|   |   |   |   |   |   |--- Price_to_Book_Value >  2.84\n",
      "|   |   |   |   |   |   |   |--- truncated branch of depth 6\n",
      "|   |   |   |   |   |--- (Dividends_+_Share_Buyback)_/_FCF >  1.09\n",
      "|   |   |   |   |   |   |--- Gross_Profit_Margin <= 0.60\n",
      "|   |   |   |   |   |   |   |--- truncated branch of depth 5\n",
      "|   |   |   |   |   |   |--- Gross_Profit_Margin >  0.60\n",
      "|   |   |   |   |   |   |   |--- truncated branch of depth 7\n",
      "|   |   |   |--- Gross_Profit_Margin >  0.79\n",
      "|   |   |   |   |--- P/Cash <= 7.19\n",
      "|   |   |   |   |   |--- FCF_Growth <= 0.69\n",
      "|   |   |   |   |   |   |--- FCF_Yield <= -0.11\n",
      "|   |   |   |   |   |   |   |--- truncated branch of depth 5\n",
      "|   |   |   |   |   |   |--- FCF_Yield >  -0.11\n",
      "|   |   |   |   |   |   |   |--- truncated branch of depth 2\n",
      "|   |   |   |   |   |--- FCF_Growth >  0.69\n",
      "|   |   |   |   |   |   |--- Market-Cap <= 587371296.00\n",
      "|   |   |   |   |   |   |   |--- truncated branch of depth 3\n",
      "|   |   |   |   |   |   |--- Market-Cap >  587371296.00\n",
      "|   |   |   |   |   |   |   |--- value: [0.37]\n",
      "|   |   |   |   |--- P/Cash >  7.19\n",
      "|   |   |   |   |   |--- P/Cash <= 9.01\n",
      "|   |   |   |   |   |   |--- value: [-0.09]\n",
      "|   |   |   |   |   |--- P/Cash >  9.01\n",
      "|   |   |   |   |   |   |--- Price_to_Book_Value <= 12.61\n",
      "|   |   |   |   |   |   |   |--- truncated branch of depth 2\n",
      "|   |   |   |   |   |   |--- Price_to_Book_Value >  12.61\n",
      "|   |   |   |   |   |   |   |--- value: [-0.37]\n",
      "|   |--- P/FCF >  -2.42\n",
      "|   |   |--- Earnings_Yield <= -0.34\n",
      "|   |   |   |--- Interest_Coverage <= -7.56\n",
      "|   |   |   |   |--- Asset_Turnover <= 0.31\n",
      "|   |   |   |   |   |--- Current_Ratio <= 7.55\n",
      "|   |   |   |   |   |   |--- Assets_Growth_YOY <= -0.14\n",
      "|   |   |   |   |   |   |   |--- truncated branch of depth 8\n",
      "|   |   |   |   |   |   |--- Assets_Growth_YOY >  -0.14\n",
      "|   |   |   |   |   |   |   |--- truncated branch of depth 9\n",
      "|   |   |   |   |   |--- Current_Ratio >  7.55\n",
      "|   |   |   |   |   |   |--- value: [0.47]\n",
      "|   |   |   |   |--- Asset_Turnover >  0.31\n",
      "|   |   |   |   |   |--- Earnings_Growth <= 0.02\n",
      "|   |   |   |   |   |   |--- Interest_Coverage <= -55.95\n",
      "|   |   |   |   |   |   |   |--- truncated branch of depth 4\n",
      "|   |   |   |   |   |   |--- Interest_Coverage >  -55.95\n",
      "|   |   |   |   |   |   |   |--- truncated branch of depth 8\n",
      "|   |   |   |   |   |--- Earnings_Growth >  0.02\n",
      "|   |   |   |   |   |   |--- Share_Buyback_/_FCF <= 0.02\n",
      "|   |   |   |   |   |   |   |--- truncated branch of depth 6\n",
      "|   |   |   |   |   |   |--- Share_Buyback_/_FCF >  0.02\n",
      "|   |   |   |   |   |   |   |--- truncated branch of depth 6\n",
      "|   |   |   |--- Interest_Coverage >  -7.56\n",
      "|   |   |   |   |--- Share_Buyback_/_FCF <= 2.11\n",
      "|   |   |   |   |   |--- Price_to_Book_Value <= 0.02\n",
      "|   |   |   |   |   |   |--- Gross_Profit_Margin <= 0.59\n",
      "|   |   |   |   |   |   |   |--- truncated branch of depth 7\n",
      "|   |   |   |   |   |   |--- Gross_Profit_Margin >  0.59\n",
      "|   |   |   |   |   |   |   |--- value: [-0.52]\n",
      "|   |   |   |   |   |--- Price_to_Book_Value >  0.02\n",
      "|   |   |   |   |   |   |--- Price_to_Book_Value <= 4.84\n",
      "|   |   |   |   |   |   |   |--- truncated branch of depth 9\n",
      "|   |   |   |   |   |   |--- Price_to_Book_Value >  4.84\n",
      "|   |   |   |   |   |   |   |--- truncated branch of depth 2\n",
      "|   |   |   |   |--- Share_Buyback_/_FCF >  2.11\n",
      "|   |   |   |   |   |--- value: [0.48]\n",
      "|   |   |--- Earnings_Yield >  -0.34\n",
      "|   |   |   |--- Log_Revenue <= 8.97\n",
      "|   |   |   |   |--- Interest_Coverage <= -3.30\n",
      "|   |   |   |   |   |--- P/NetNet <= -8.58\n",
      "|   |   |   |   |   |   |--- value: [0.24]\n",
      "|   |   |   |   |   |--- P/NetNet >  -8.58\n",
      "|   |   |   |   |   |   |--- P/NCAV <= -7.00\n",
      "|   |   |   |   |   |   |   |--- value: [0.39]\n",
      "|   |   |   |   |   |   |--- P/NCAV >  -7.00\n",
      "|   |   |   |   |   |   |   |--- value: [0.48]\n",
      "|   |   |   |   |--- Interest_Coverage >  -3.30\n",
      "|   |   |   |   |   |--- Asset_Turnover <= 0.16\n",
      "|   |   |   |   |   |   |--- FCF_Yield <= 0.00\n",
      "|   |   |   |   |   |   |   |--- truncated branch of depth 5\n",
      "|   |   |   |   |   |   |--- FCF_Yield >  0.00\n",
      "|   |   |   |   |   |   |   |--- value: [0.30]\n",
      "|   |   |   |   |   |--- Asset_Turnover >  0.16\n",
      "|   |   |   |   |   |   |--- value: [-0.02]\n",
      "|   |   |   |--- Log_Revenue >  8.97\n",
      "|   |   |   |   |--- CapEx_/_(Depr_+_Amor) <= 0.58\n",
      "|   |   |   |   |   |--- value: [-0.02]\n",
      "|   |   |   |   |--- CapEx_/_(Depr_+_Amor) >  0.58\n",
      "|   |   |   |   |   |--- value: [-0.19]\n",
      "|--- Net_Profit_Margin >  -0.69\n",
      "|   |--- (Dividends_+_Share_Buyback)_/_FCF <= 0.05\n",
      "|   |   |--- Sales_Growth_QOQ <= -0.28\n",
      "|   |   |   |--- Return_on_Equity <= -0.46\n",
      "|   |   |   |   |--- Market-Cap <= 1427201344.00\n",
      "|   |   |   |   |   |--- FCF_Growth_YOY <= -2.84\n",
      "|   |   |   |   |   |   |--- P/Cash <= 25.20\n",
      "|   |   |   |   |   |   |   |--- truncated branch of depth 2\n",
      "|   |   |   |   |   |   |--- P/Cash >  25.20\n",
      "|   |   |   |   |   |   |   |--- value: [-0.13]\n",
      "|   |   |   |   |   |--- FCF_Growth_YOY >  -2.84\n",
      "|   |   |   |   |   |   |--- P/FCF <= -56.68\n",
      "|   |   |   |   |   |   |   |--- value: [0.43]\n",
      "|   |   |   |   |   |   |--- P/FCF >  -56.68\n",
      "|   |   |   |   |   |   |   |--- truncated branch of depth 9\n",
      "|   |   |   |   |--- Market-Cap >  1427201344.00\n",
      "|   |   |   |   |   |--- Dividends_/_FCF <= 0.09\n",
      "|   |   |   |   |   |   |--- FCF_Yield <= 0.10\n",
      "|   |   |   |   |   |   |   |--- truncated branch of depth 8\n",
      "|   |   |   |   |   |   |--- FCF_Yield >  0.10\n",
      "|   |   |   |   |   |   |   |--- value: [-0.38]\n",
      "|   |   |   |   |   |--- Dividends_/_FCF >  0.09\n",
      "|   |   |   |   |   |   |--- value: [-0.21]\n",
      "|   |   |   |--- Return_on_Equity >  -0.46\n",
      "|   |   |   |   |--- Current_Ratio <= 1.11\n",
      "|   |   |   |   |   |--- Market-Cap <= 65159236.00\n",
      "|   |   |   |   |   |   |--- Earnings_Yield <= 0.02\n",
      "|   |   |   |   |   |   |   |--- truncated branch of depth 7\n",
      "|   |   |   |   |   |   |--- Earnings_Yield >  0.02\n",
      "|   |   |   |   |   |   |   |--- truncated branch of depth 2\n",
      "|   |   |   |   |   |--- Market-Cap >  65159236.00\n",
      "|   |   |   |   |   |   |--- Gross_Profit_Margin <= 0.47\n",
      "|   |   |   |   |   |   |   |--- truncated branch of depth 9\n",
      "|   |   |   |   |   |   |--- Gross_Profit_Margin >  0.47\n",
      "|   |   |   |   |   |   |   |--- truncated branch of depth 9\n",
      "|   |   |   |   |--- Current_Ratio >  1.11\n",
      "|   |   |   |   |   |--- Asset_Turnover <= 0.24\n",
      "|   |   |   |   |   |   |--- FCF_Yield <= 0.03\n",
      "|   |   |   |   |   |   |   |--- truncated branch of depth 8\n",
      "|   |   |   |   |   |   |--- FCF_Yield >  0.03\n",
      "|   |   |   |   |   |   |   |--- truncated branch of depth 5\n",
      "|   |   |   |   |   |--- Asset_Turnover >  0.24\n",
      "|   |   |   |   |   |   |--- Net_Profit_Margin <= -0.23\n",
      "|   |   |   |   |   |   |   |--- truncated branch of depth 5\n",
      "|   |   |   |   |   |   |--- Net_Profit_Margin >  -0.23\n",
      "|   |   |   |   |   |   |   |--- truncated branch of depth 9\n",
      "|   |   |--- Sales_Growth_QOQ >  -0.28\n",
      "|   |   |   |--- Gross_Profit_Margin <= 0.58\n",
      "|   |   |   |   |--- Quick_Ratio <= 0.33\n",
      "|   |   |   |   |   |--- Interest_Coverage <= -1.65\n",
      "|   |   |   |   |   |   |--- Gross_Profit_Margin <= 0.21\n",
      "|   |   |   |   |   |   |   |--- truncated branch of depth 5\n",
      "|   |   |   |   |   |   |--- Gross_Profit_Margin >  0.21\n",
      "|   |   |   |   |   |   |   |--- truncated branch of depth 9\n",
      "|   |   |   |   |   |--- Interest_Coverage >  -1.65\n",
      "|   |   |   |   |   |   |--- Gross_Profit_Margin <= 0.29\n",
      "|   |   |   |   |   |   |   |--- truncated branch of depth 9\n",
      "|   |   |   |   |   |   |--- Gross_Profit_Margin >  0.29\n",
      "|   |   |   |   |   |   |   |--- truncated branch of depth 9\n",
      "|   |   |   |   |--- Quick_Ratio >  0.33\n",
      "|   |   |   |   |   |--- Asset_Turnover <= 0.31\n",
      "|   |   |   |   |   |   |--- Interest_Coverage <= 3.88\n",
      "|   |   |   |   |   |   |   |--- truncated branch of depth 9\n",
      "|   |   |   |   |   |   |--- Interest_Coverage >  3.88\n",
      "|   |   |   |   |   |   |   |--- truncated branch of depth 9\n",
      "|   |   |   |   |   |--- Asset_Turnover >  0.31\n",
      "|   |   |   |   |   |   |--- Log_Revenue <= 8.13\n",
      "|   |   |   |   |   |   |   |--- truncated branch of depth 9\n",
      "|   |   |   |   |   |   |--- Log_Revenue >  8.13\n",
      "|   |   |   |   |   |   |   |--- truncated branch of depth 9\n",
      "|   |   |   |--- Gross_Profit_Margin >  0.58\n",
      "|   |   |   |   |--- Log_Revenue <= 9.25\n",
      "|   |   |   |   |   |--- Assets_Growth_YOY <= 0.71\n",
      "|   |   |   |   |   |   |--- Interest_Coverage <= 30.10\n",
      "|   |   |   |   |   |   |   |--- truncated branch of depth 9\n",
      "|   |   |   |   |   |   |--- Interest_Coverage >  30.10\n",
      "|   |   |   |   |   |   |   |--- truncated branch of depth 9\n",
      "|   |   |   |   |   |--- Assets_Growth_YOY >  0.71\n",
      "|   |   |   |   |   |   |--- Sales_Growth <= 0.54\n",
      "|   |   |   |   |   |   |   |--- truncated branch of depth 9\n",
      "|   |   |   |   |   |   |--- Sales_Growth >  0.54\n",
      "|   |   |   |   |   |   |   |--- truncated branch of depth 9\n",
      "|   |   |   |   |--- Log_Revenue >  9.25\n",
      "|   |   |   |   |   |--- CapEx_/_(Depr_+_Amor) <= 0.18\n",
      "|   |   |   |   |   |   |--- Sales_Growth <= 0.09\n",
      "|   |   |   |   |   |   |   |--- truncated branch of depth 4\n",
      "|   |   |   |   |   |   |--- Sales_Growth >  0.09\n",
      "|   |   |   |   |   |   |   |--- truncated branch of depth 9\n",
      "|   |   |   |   |   |--- CapEx_/_(Depr_+_Amor) >  0.18\n",
      "|   |   |   |   |   |   |--- Interest_Coverage <= 6.17\n",
      "|   |   |   |   |   |   |   |--- truncated branch of depth 9\n",
      "|   |   |   |   |   |   |--- Interest_Coverage >  6.17\n",
      "|   |   |   |   |   |   |   |--- truncated branch of depth 9\n",
      "|   |--- (Dividends_+_Share_Buyback)_/_FCF >  0.05\n",
      "|   |   |--- FCF_Yield <= 0.03\n",
      "|   |   |   |--- Log_Revenue <= 7.90\n",
      "|   |   |   |   |--- Sales_Growth_QOQ <= 0.26\n",
      "|   |   |   |   |   |--- P/FCF <= -6.12\n",
      "|   |   |   |   |   |   |--- Interest_Coverage <= -58.45\n",
      "|   |   |   |   |   |   |   |--- truncated branch of depth 9\n",
      "|   |   |   |   |   |   |--- Interest_Coverage >  -58.45\n",
      "|   |   |   |   |   |   |   |--- truncated branch of depth 9\n",
      "|   |   |   |   |   |--- P/FCF >  -6.12\n",
      "|   |   |   |   |   |   |--- (Dividends_+_Share_Buyback)_/_FCF <= 0.17\n",
      "|   |   |   |   |   |   |   |--- truncated branch of depth 9\n",
      "|   |   |   |   |   |   |--- (Dividends_+_Share_Buyback)_/_FCF >  0.17\n",
      "|   |   |   |   |   |   |   |--- truncated branch of depth 9\n",
      "|   |   |   |   |--- Sales_Growth_QOQ >  0.26\n",
      "|   |   |   |   |   |--- Current_Ratio <= 2.27\n",
      "|   |   |   |   |   |   |--- Market-Cap <= 59381082.00\n",
      "|   |   |   |   |   |   |   |--- truncated branch of depth 9\n",
      "|   |   |   |   |   |   |--- Market-Cap >  59381082.00\n",
      "|   |   |   |   |   |   |   |--- truncated branch of depth 5\n",
      "|   |   |   |   |   |--- Current_Ratio >  2.27\n",
      "|   |   |   |   |   |   |--- Interest_Coverage <= -42.61\n",
      "|   |   |   |   |   |   |   |--- truncated branch of depth 5\n",
      "|   |   |   |   |   |   |--- Interest_Coverage >  -42.61\n",
      "|   |   |   |   |   |   |   |--- truncated branch of depth 6\n",
      "|   |   |   |--- Log_Revenue >  7.90\n",
      "|   |   |   |   |--- Return_on_Equity <= -0.77\n",
      "|   |   |   |   |   |--- Interest_Coverage <= -37.27\n",
      "|   |   |   |   |   |   |--- FCF_Growth <= -1.65\n",
      "|   |   |   |   |   |   |   |--- truncated branch of depth 2\n",
      "|   |   |   |   |   |   |--- FCF_Growth >  -1.65\n",
      "|   |   |   |   |   |   |   |--- truncated branch of depth 8\n",
      "|   |   |   |   |   |--- Interest_Coverage >  -37.27\n",
      "|   |   |   |   |   |   |--- Share_Buyback_/_FCF <= 0.03\n",
      "|   |   |   |   |   |   |   |--- truncated branch of depth 3\n",
      "|   |   |   |   |   |   |--- Share_Buyback_/_FCF >  0.03\n",
      "|   |   |   |   |   |   |   |--- truncated branch of depth 9\n",
      "|   |   |   |   |--- Return_on_Equity >  -0.77\n",
      "|   |   |   |   |   |--- Sales_Growth <= -0.03\n",
      "|   |   |   |   |   |   |--- P/NetNet <= 4.37\n",
      "|   |   |   |   |   |   |   |--- truncated branch of depth 9\n",
      "|   |   |   |   |   |   |--- P/NetNet >  4.37\n",
      "|   |   |   |   |   |   |   |--- truncated branch of depth 9\n",
      "|   |   |   |   |   |--- Sales_Growth >  -0.03\n",
      "|   |   |   |   |   |   |--- Log_Revenue <= 9.20\n",
      "|   |   |   |   |   |   |   |--- truncated branch of depth 9\n",
      "|   |   |   |   |   |   |--- Log_Revenue >  9.20\n",
      "|   |   |   |   |   |   |   |--- truncated branch of depth 9\n",
      "|   |   |--- FCF_Yield >  0.03\n",
      "|   |   |   |--- Sales_Growth <= 0.01\n",
      "|   |   |   |   |--- Quick_Ratio <= 2.94\n",
      "|   |   |   |   |   |--- Asset_Turnover <= 1.50\n",
      "|   |   |   |   |   |   |--- Asset_Turnover <= 0.61\n",
      "|   |   |   |   |   |   |   |--- truncated branch of depth 9\n",
      "|   |   |   |   |   |   |--- Asset_Turnover >  0.61\n",
      "|   |   |   |   |   |   |   |--- truncated branch of depth 9\n",
      "|   |   |   |   |   |--- Asset_Turnover >  1.50\n",
      "|   |   |   |   |   |   |--- Current_Ratio <= 4.39\n",
      "|   |   |   |   |   |   |   |--- truncated branch of depth 9\n",
      "|   |   |   |   |   |   |--- Current_Ratio >  4.39\n",
      "|   |   |   |   |   |   |   |--- truncated branch of depth 4\n",
      "|   |   |   |   |--- Quick_Ratio >  2.94\n",
      "|   |   |   |   |   |--- Gross_Profit_Margin <= 0.33\n",
      "|   |   |   |   |   |   |--- Current_Ratio <= 4.00\n",
      "|   |   |   |   |   |   |   |--- value: [-0.38]\n",
      "|   |   |   |   |   |   |--- Current_Ratio >  4.00\n",
      "|   |   |   |   |   |   |   |--- truncated branch of depth 9\n",
      "|   |   |   |   |   |--- Gross_Profit_Margin >  0.33\n",
      "|   |   |   |   |   |   |--- Asset_Turnover <= 2.09\n",
      "|   |   |   |   |   |   |   |--- truncated branch of depth 9\n",
      "|   |   |   |   |   |   |--- Asset_Turnover >  2.09\n",
      "|   |   |   |   |   |   |   |--- truncated branch of depth 6\n",
      "|   |   |   |--- Sales_Growth >  0.01\n",
      "|   |   |   |   |--- CapEx_/_(Depr_+_Amor) <= 1.17\n",
      "|   |   |   |   |   |--- Return_on_Assets <= 0.05\n",
      "|   |   |   |   |   |   |--- P/FCF <= 4.09\n",
      "|   |   |   |   |   |   |   |--- truncated branch of depth 9\n",
      "|   |   |   |   |   |   |--- P/FCF >  4.09\n",
      "|   |   |   |   |   |   |   |--- truncated branch of depth 9\n",
      "|   |   |   |   |   |--- Return_on_Assets >  0.05\n",
      "|   |   |   |   |   |   |--- Asset_Turnover <= 1.43\n",
      "|   |   |   |   |   |   |   |--- truncated branch of depth 9\n",
      "|   |   |   |   |   |   |--- Asset_Turnover >  1.43\n",
      "|   |   |   |   |   |   |   |--- truncated branch of depth 9\n",
      "|   |   |   |   |--- CapEx_/_(Depr_+_Amor) >  1.17\n",
      "|   |   |   |   |   |--- CapEx_/_(Depr_+_Amor) <= 2.23\n",
      "|   |   |   |   |   |   |--- Current_Ratio <= 2.02\n",
      "|   |   |   |   |   |   |   |--- truncated branch of depth 9\n",
      "|   |   |   |   |   |   |--- Current_Ratio >  2.02\n",
      "|   |   |   |   |   |   |   |--- truncated branch of depth 9\n",
      "|   |   |   |   |   |--- CapEx_/_(Depr_+_Amor) >  2.23\n",
      "|   |   |   |   |   |   |--- Earnings_Growth_QOQ <= -2.55\n",
      "|   |   |   |   |   |   |   |--- value: [-0.42]\n",
      "|   |   |   |   |   |   |--- Earnings_Growth_QOQ >  -2.55\n",
      "|   |   |   |   |   |   |   |--- truncated branch of depth 9\n",
      "\n"
     ]
    }
   ],
   "source": [
    "print_tree(regr)"
   ]
  },
  {
   "cell_type": "markdown",
   "metadata": {},
   "source": [
    "We can also show the mutual importance of the signals (aka. features) in the model, and compare it to their correlation with the stock-returns. These are often quite different. The signals with highest correlations to the future stock-returns, are not necessarily the ones that were most important to the model. But remember that correlation only measures the linear relation between signals and stock-returns, while the Random Forest can find complicated non-linear relations."
   ]
  },
  {
   "cell_type": "code",
   "execution_count": 36,
   "metadata": {},
   "outputs": [
    {
     "data": {
      "text/html": [
       "<div>\n",
       "<style scoped>\n",
       "    .dataframe tbody tr th:only-of-type {\n",
       "        vertical-align: middle;\n",
       "    }\n",
       "\n",
       "    .dataframe tbody tr th {\n",
       "        vertical-align: top;\n",
       "    }\n",
       "\n",
       "    .dataframe thead th {\n",
       "        text-align: right;\n",
       "    }\n",
       "</style>\n",
       "<table border=\"1\" class=\"dataframe\">\n",
       "  <thead>\n",
       "    <tr style=\"text-align: right;\">\n",
       "      <th></th>\n",
       "      <th>Feature Importance</th>\n",
       "      <th>Return Correlation</th>\n",
       "    </tr>\n",
       "  </thead>\n",
       "  <tbody>\n",
       "    <tr>\n",
       "      <th>Gross Profit Margin</th>\n",
       "      <td>0.067664</td>\n",
       "      <td>0.039186</td>\n",
       "    </tr>\n",
       "    <tr>\n",
       "      <th>Log Revenue</th>\n",
       "      <td>0.066252</td>\n",
       "      <td>0.080528</td>\n",
       "    </tr>\n",
       "    <tr>\n",
       "      <th>Net Profit Margin</th>\n",
       "      <td>0.062981</td>\n",
       "      <td>0.136758</td>\n",
       "    </tr>\n",
       "    <tr>\n",
       "      <th>Asset Turnover</th>\n",
       "      <td>0.054172</td>\n",
       "      <td>0.012430</td>\n",
       "    </tr>\n",
       "    <tr>\n",
       "      <th>Interest Coverage</th>\n",
       "      <td>0.050179</td>\n",
       "      <td>0.010712</td>\n",
       "    </tr>\n",
       "    <tr>\n",
       "      <th>CapEx / (Depr + Amor)</th>\n",
       "      <td>0.039434</td>\n",
       "      <td>0.033415</td>\n",
       "    </tr>\n",
       "    <tr>\n",
       "      <th>Quick Ratio</th>\n",
       "      <td>0.038672</td>\n",
       "      <td>0.012878</td>\n",
       "    </tr>\n",
       "    <tr>\n",
       "      <th>Market-Cap</th>\n",
       "      <td>0.038396</td>\n",
       "      <td>0.038540</td>\n",
       "    </tr>\n",
       "    <tr>\n",
       "      <th>(Dividends + Share Buyback) / FCF</th>\n",
       "      <td>0.035955</td>\n",
       "      <td>0.034548</td>\n",
       "    </tr>\n",
       "    <tr>\n",
       "      <th>Sales Growth</th>\n",
       "      <td>0.034625</td>\n",
       "      <td>0.011927</td>\n",
       "    </tr>\n",
       "    <tr>\n",
       "      <th>Return on Equity</th>\n",
       "      <td>0.033682</td>\n",
       "      <td>0.093227</td>\n",
       "    </tr>\n",
       "    <tr>\n",
       "      <th>Current Ratio</th>\n",
       "      <td>0.033073</td>\n",
       "      <td>0.015132</td>\n",
       "    </tr>\n",
       "    <tr>\n",
       "      <th>Price to Book Value</th>\n",
       "      <td>0.030415</td>\n",
       "      <td>0.039567</td>\n",
       "    </tr>\n",
       "    <tr>\n",
       "      <th>P/Cash</th>\n",
       "      <td>0.030379</td>\n",
       "      <td>0.030735</td>\n",
       "    </tr>\n",
       "    <tr>\n",
       "      <th>P/NCAV</th>\n",
       "      <td>0.027278</td>\n",
       "      <td>0.023057</td>\n",
       "    </tr>\n",
       "    <tr>\n",
       "      <th>Return on Assets</th>\n",
       "      <td>0.027190</td>\n",
       "      <td>0.127182</td>\n",
       "    </tr>\n",
       "    <tr>\n",
       "      <th>Earnings Growth</th>\n",
       "      <td>0.026483</td>\n",
       "      <td>0.027040</td>\n",
       "    </tr>\n",
       "    <tr>\n",
       "      <th>P/FCF</th>\n",
       "      <td>0.026030</td>\n",
       "      <td>0.044057</td>\n",
       "    </tr>\n",
       "    <tr>\n",
       "      <th>FCF Yield</th>\n",
       "      <td>0.024682</td>\n",
       "      <td>0.099279</td>\n",
       "    </tr>\n",
       "    <tr>\n",
       "      <th>P/Sales</th>\n",
       "      <td>0.023533</td>\n",
       "      <td>0.011282</td>\n",
       "    </tr>\n",
       "    <tr>\n",
       "      <th>P/NetNet</th>\n",
       "      <td>0.023243</td>\n",
       "      <td>0.015345</td>\n",
       "    </tr>\n",
       "    <tr>\n",
       "      <th>Share Buyback / FCF</th>\n",
       "      <td>0.022566</td>\n",
       "      <td>0.029156</td>\n",
       "    </tr>\n",
       "    <tr>\n",
       "      <th>P/E</th>\n",
       "      <td>0.022214</td>\n",
       "      <td>0.053466</td>\n",
       "    </tr>\n",
       "    <tr>\n",
       "      <th>Earnings Yield</th>\n",
       "      <td>0.020304</td>\n",
       "      <td>0.123482</td>\n",
       "    </tr>\n",
       "    <tr>\n",
       "      <th>FCF Growth</th>\n",
       "      <td>0.019381</td>\n",
       "      <td>0.026847</td>\n",
       "    </tr>\n",
       "    <tr>\n",
       "      <th>Sales Growth YOY</th>\n",
       "      <td>0.016943</td>\n",
       "      <td>0.008482</td>\n",
       "    </tr>\n",
       "    <tr>\n",
       "      <th>Sales Growth QOQ</th>\n",
       "      <td>0.015458</td>\n",
       "      <td>0.017625</td>\n",
       "    </tr>\n",
       "    <tr>\n",
       "      <th>FCF Growth YOY</th>\n",
       "      <td>0.013549</td>\n",
       "      <td>0.028904</td>\n",
       "    </tr>\n",
       "    <tr>\n",
       "      <th>Earnings Growth YOY</th>\n",
       "      <td>0.012823</td>\n",
       "      <td>0.022794</td>\n",
       "    </tr>\n",
       "    <tr>\n",
       "      <th>Assets Growth</th>\n",
       "      <td>0.012785</td>\n",
       "      <td>0.013653</td>\n",
       "    </tr>\n",
       "    <tr>\n",
       "      <th>Assets Growth YOY</th>\n",
       "      <td>0.012644</td>\n",
       "      <td>0.013625</td>\n",
       "    </tr>\n",
       "    <tr>\n",
       "      <th>Dividends / FCF</th>\n",
       "      <td>0.011948</td>\n",
       "      <td>0.036941</td>\n",
       "    </tr>\n",
       "    <tr>\n",
       "      <th>Earnings Growth QOQ</th>\n",
       "      <td>0.009397</td>\n",
       "      <td>0.023394</td>\n",
       "    </tr>\n",
       "    <tr>\n",
       "      <th>Assets Growth QOQ</th>\n",
       "      <td>0.008242</td>\n",
       "      <td>0.016015</td>\n",
       "    </tr>\n",
       "    <tr>\n",
       "      <th>FCF Growth QOQ</th>\n",
       "      <td>0.007433</td>\n",
       "      <td>0.020252</td>\n",
       "    </tr>\n",
       "  </tbody>\n",
       "</table>\n",
       "</div>"
      ],
      "text/plain": [
       "                                   Feature Importance  Return Correlation\n",
       "Gross Profit Margin                          0.067664            0.039186\n",
       "Log Revenue                                  0.066252            0.080528\n",
       "Net Profit Margin                            0.062981            0.136758\n",
       "Asset Turnover                               0.054172            0.012430\n",
       "Interest Coverage                            0.050179            0.010712\n",
       "CapEx / (Depr + Amor)                        0.039434            0.033415\n",
       "Quick Ratio                                  0.038672            0.012878\n",
       "Market-Cap                                   0.038396            0.038540\n",
       "(Dividends + Share Buyback) / FCF            0.035955            0.034548\n",
       "Sales Growth                                 0.034625            0.011927\n",
       "Return on Equity                             0.033682            0.093227\n",
       "Current Ratio                                0.033073            0.015132\n",
       "Price to Book Value                          0.030415            0.039567\n",
       "P/Cash                                       0.030379            0.030735\n",
       "P/NCAV                                       0.027278            0.023057\n",
       "Return on Assets                             0.027190            0.127182\n",
       "Earnings Growth                              0.026483            0.027040\n",
       "P/FCF                                        0.026030            0.044057\n",
       "FCF Yield                                    0.024682            0.099279\n",
       "P/Sales                                      0.023533            0.011282\n",
       "P/NetNet                                     0.023243            0.015345\n",
       "Share Buyback / FCF                          0.022566            0.029156\n",
       "P/E                                          0.022214            0.053466\n",
       "Earnings Yield                               0.020304            0.123482\n",
       "FCF Growth                                   0.019381            0.026847\n",
       "Sales Growth YOY                             0.016943            0.008482\n",
       "Sales Growth QOQ                             0.015458            0.017625\n",
       "FCF Growth YOY                               0.013549            0.028904\n",
       "Earnings Growth YOY                          0.012823            0.022794\n",
       "Assets Growth                                0.012785            0.013653\n",
       "Assets Growth YOY                            0.012644            0.013625\n",
       "Dividends / FCF                              0.011948            0.036941\n",
       "Earnings Growth QOQ                          0.009397            0.023394\n",
       "Assets Growth QOQ                            0.008242            0.016015\n",
       "FCF Growth QOQ                               0.007433            0.020252"
      ]
     },
     "execution_count": 36,
     "metadata": {},
     "output_type": "execute_result"
    }
   ],
   "source": [
    "compare_feature_imp_corr(regr)"
   ]
  },
  {
   "cell_type": "markdown",
   "metadata": {},
   "source": [
    "### Regression Results\n",
    "\n",
    "Let us now see how well the Machine Learning model performs. First we use the fitted model to predict the stock-returns for the training- and test-sets:"
   ]
  },
  {
   "cell_type": "code",
   "execution_count": 37,
   "metadata": {},
   "outputs": [
    {
     "name": "stdout",
     "output_type": "stream",
     "text": [
      "CPU times: user 7.58 s, sys: 75.7 ms, total: 7.66 s\n",
      "Wall time: 1.74 s\n"
     ]
    }
   ],
   "source": [
    "%%time\n",
    "y_train_pred = regr.predict(X_train)\n",
    "y_test_pred = regr.predict(X_test)"
   ]
  },
  {
   "cell_type": "markdown",
   "metadata": {},
   "source": [
    "We can then calculate the $R^2$ value (aka. the coefficient of determination) between the actual stock-returns and those predicted by the model. A value of 1 means a perfect prediction, while a value of 0 means the model basically predicted the average stock-return, and a negative value means the model's prediction was worse than just using the average stock-return.\n",
    "\n",
    "As we can see, the $R^2$ value is quite high for the training-set, so the model has learned to map the signals X to stock-returns y quite well for the training-set:"
   ]
  },
  {
   "cell_type": "code",
   "execution_count": 38,
   "metadata": {},
   "outputs": [
    {
     "data": {
      "text/plain": [
       "0.7470175861044306"
      ]
     },
     "execution_count": 38,
     "metadata": {},
     "output_type": "execute_result"
    }
   ],
   "source": [
    "r2_score(y_true=y_train, y_pred=y_train_pred)"
   ]
  },
  {
   "cell_type": "markdown",
   "metadata": {},
   "source": [
    "But the $R^2$ value is very bad for the test-set, so the model has not really learned the underlying relation between the signals X and stock-returns y. The model has merely learned noise or peculiarities in the training-data, which do not generalize to the unseen data in the test-set:"
   ]
  },
  {
   "cell_type": "code",
   "execution_count": 39,
   "metadata": {},
   "outputs": [
    {
     "data": {
      "text/plain": [
       "-0.09026022240248643"
      ]
     },
     "execution_count": 39,
     "metadata": {},
     "output_type": "execute_result"
    }
   ],
   "source": [
    "r2_score(y_true=y_test, y_pred=y_test_pred)"
   ]
  },
  {
   "cell_type": "markdown",
   "metadata": {},
   "source": [
    "### Regression Examples\n",
    "\n",
    "We can also try and plot the model's predicted versus actual stock-returns for a stock in the training-set. As we can see, the model has learned this mapping quite well:"
   ]
  },
  {
   "cell_type": "code",
   "execution_count": 40,
   "metadata": {},
   "outputs": [
    {
     "data": {
      "image/png": "[encoded data removed]",
      "text/plain": [
       "<Figure size 432x288 with 1 Axes>"
      ]
     },
     "metadata": {},
     "output_type": "display_data"
    }
   ],
   "source": [
    "# Column-name for the models' predicted stock-returns.\n",
    "TOTAL_RETURN_PRED = 'Total Return Predicted'\n",
    "\n",
    "# Create a DataFrame with actual and predicted stock-returns.\n",
    "# This is for the training-set.\n",
    "df_y_train = pd.DataFrame(y_train)\n",
    "df_y_train[TOTAL_RETURN_PRED] = y_train_pred\n",
    "\n",
    "# Plot the actual and predicted stock-returns for the first stock.\n",
    "ticker = tickers_train[0]\n",
    "_ = df_y_train.loc[ticker].plot(title=ticker)"
   ]
  },
  {
   "cell_type": "markdown",
   "metadata": {},
   "source": [
    "Now let us try and plot the model's predicted versus actual stock-returns for the first stock in the test-set. As we can see, the model is completely unable to predict the stock-returns, for this data that it has not seen during its training:"
   ]
  },
  {
   "cell_type": "code",
   "execution_count": 41,
   "metadata": {},
   "outputs": [
    {
     "data": {
      "image/png": "[encoded data removed]",
      "text/plain": [
       "<Figure size 432x288 with 1 Axes>"
      ]
     },
     "metadata": {},
     "output_type": "display_data"
    }
   ],
   "source": [
    "# Create a DataFrame with actual and predicted stock-returns.\n",
    "# This is for the test-set.\n",
    "df_y_test = pd.DataFrame(y_test)\n",
    "df_y_test[TOTAL_RETURN_PRED] = y_test_pred\n",
    "\n",
    "# Plot the actual and predicted stock-returns for the first stock.\n",
    "ticker = tickers_test[0]\n",
    "_ = df_y_test.loc[ticker].plot(title=ticker)"
   ]
  },
  {
   "cell_type": "markdown",
   "metadata": {},
   "source": [
    "## Machine Learning: Classification\n",
    "\n",
    "Instead of mapping from signals x to a continuous variable y for the stock-return, we can try and map to discrete output-classes that indicate if the stock-return was a gain or loss. This is a so-called binary classification problem, and perhaps that is easier for the Machine Learning model.\n",
    "\n",
    "First we need to convert the stock-returns into values of either 1.0 for gains or -1.0 for losses, and then split into training- and test-sets:"
   ]
  },
  {
   "cell_type": "code",
   "execution_count": 42,
   "metadata": {},
   "outputs": [
    {
     "name": "stdout",
     "output_type": "stream",
     "text": [
      "CPU times: user 46.7 ms, sys: 0 ns, total: 46.7 ms\n",
      "Wall time: 46.5 ms\n"
     ]
    }
   ],
   "source": [
    "%%time\n",
    "# Convert stock-returns to binary classes by taking the sign.\n",
    "df_cls = np.sign(df_sig_rets[TOTAL_RETURN_1_3Y])\n",
    "\n",
    "# Split the classes into training- and test-sets.\n",
    "y_train_cls = df_cls.loc[tickers_train]\n",
    "y_test_cls = df_cls.loc[tickers_test]"
   ]
  },
  {
   "cell_type": "markdown",
   "metadata": {},
   "source": [
    "The training-set is biased because it contains many more stocks with gains than losses:"
   ]
  },
  {
   "cell_type": "code",
   "execution_count": 43,
   "metadata": {},
   "outputs": [
    {
     "data": {
      "text/plain": [
       "0.7059094508546159"
      ]
     },
     "execution_count": 43,
     "metadata": {},
     "output_type": "execute_result"
    }
   ],
   "source": [
    "# Fraction of the training-set that is classified as gains.\n",
    "(y_train_cls == 1.0).sum() / len(y_train_cls)"
   ]
  },
  {
   "cell_type": "markdown",
   "metadata": {},
   "source": [
    "We instruct the Machine Learning model to take this bias into account, by setting `class_weight='balanced'`, and otherwise use the same arguments as above:"
   ]
  },
  {
   "cell_type": "code",
   "execution_count": 44,
   "metadata": {},
   "outputs": [],
   "source": [
    "clf = RandomForestClassifier(class_weight='balanced', **model_args)"
   ]
  },
  {
   "cell_type": "markdown",
   "metadata": {},
   "source": [
    "We can then fit the model to the training-data. This is much faster then for the regression model above, because we only have a binary class as output:"
   ]
  },
  {
   "cell_type": "code",
   "execution_count": 45,
   "metadata": {
    "scrolled": true
   },
   "outputs": [
    {
     "name": "stdout",
     "output_type": "stream",
     "text": [
      "CPU times: user 6min 9s, sys: 1.61 s, total: 6min 11s\n",
      "Wall time: 1min 13s\n"
     ]
    }
   ],
   "source": [
    "%%time\n",
    "_ = clf.fit(X=X_train, y=y_train_cls)"
   ]
  },
  {
   "cell_type": "markdown",
   "metadata": {},
   "source": [
    "As for the regression model above, the Random Forest consists of 100 Decision Trees, which are basically just nested if-then-else statements that split the input signals, to try and find a mapping that fits the input and output of the training-data."
   ]
  },
  {
   "cell_type": "code",
   "execution_count": 46,
   "metadata": {},
   "outputs": [
    {
     "name": "stdout",
     "output_type": "stream",
     "text": [
      "|--- Log_Revenue <= 7.98\n",
      "|   |--- P/E <= -0.01\n",
      "|   |   |--- P/NetNet <= -0.99\n",
      "|   |   |   |--- Market-Cap <= 336035712.00\n",
      "|   |   |   |   |--- Quick_Ratio <= 0.88\n",
      "|   |   |   |   |   |--- Current_Ratio <= 0.87\n",
      "|   |   |   |   |   |   |--- Log_Revenue <= 7.79\n",
      "|   |   |   |   |   |   |   |--- truncated branch of depth 9\n",
      "|   |   |   |   |   |   |--- Log_Revenue >  7.79\n",
      "|   |   |   |   |   |   |   |--- truncated branch of depth 2\n",
      "|   |   |   |   |   |--- Current_Ratio >  0.87\n",
      "|   |   |   |   |   |   |--- Sales_Growth_YOY <= 0.19\n",
      "|   |   |   |   |   |   |   |--- truncated branch of depth 9\n",
      "|   |   |   |   |   |   |--- Sales_Growth_YOY >  0.19\n",
      "|   |   |   |   |   |   |   |--- truncated branch of depth 8\n",
      "|   |   |   |   |--- Quick_Ratio >  0.88\n",
      "|   |   |   |   |   |--- Return_on_Assets <= -0.09\n",
      "|   |   |   |   |   |   |--- Share_Buyback_/_FCF <= 0.76\n",
      "|   |   |   |   |   |   |   |--- truncated branch of depth 9\n",
      "|   |   |   |   |   |   |--- Share_Buyback_/_FCF >  0.76\n",
      "|   |   |   |   |   |   |   |--- truncated branch of depth 8\n",
      "|   |   |   |   |   |--- Return_on_Assets >  -0.09\n",
      "|   |   |   |   |   |   |--- Sales_Growth <= 0.24\n",
      "|   |   |   |   |   |   |   |--- truncated branch of depth 9\n",
      "|   |   |   |   |   |   |--- Sales_Growth >  0.24\n",
      "|   |   |   |   |   |   |   |--- truncated branch of depth 2\n",
      "|   |   |   |--- Market-Cap >  336035712.00\n",
      "|   |   |   |   |--- CapEx_/_(Depr_+_Amor) <= 0.05\n",
      "|   |   |   |   |   |--- class: 1.0\n",
      "|   |   |   |   |--- CapEx_/_(Depr_+_Amor) >  0.05\n",
      "|   |   |   |   |   |--- Log_Revenue <= 7.58\n",
      "|   |   |   |   |   |   |--- Asset_Turnover <= 0.71\n",
      "|   |   |   |   |   |   |   |--- truncated branch of depth 2\n",
      "|   |   |   |   |   |   |--- Asset_Turnover >  0.71\n",
      "|   |   |   |   |   |   |   |--- class: 1.0\n",
      "|   |   |   |   |   |--- Log_Revenue >  7.58\n",
      "|   |   |   |   |   |   |--- P/NetNet <= -28.77\n",
      "|   |   |   |   |   |   |   |--- truncated branch of depth 4\n",
      "|   |   |   |   |   |   |--- P/NetNet >  -28.77\n",
      "|   |   |   |   |   |   |   |--- truncated branch of depth 2\n",
      "|   |   |--- P/NetNet >  -0.99\n",
      "|   |   |   |--- Return_on_Assets <= -0.38\n",
      "|   |   |   |   |--- P/NCAV <= -0.47\n",
      "|   |   |   |   |   |--- Gross_Profit_Margin <= 0.57\n",
      "|   |   |   |   |   |   |--- Price_to_Book_Value <= 0.76\n",
      "|   |   |   |   |   |   |   |--- truncated branch of depth 7\n",
      "|   |   |   |   |   |   |--- Price_to_Book_Value >  0.76\n",
      "|   |   |   |   |   |   |   |--- class: 1.0\n",
      "|   |   |   |   |   |--- Gross_Profit_Margin >  0.57\n",
      "|   |   |   |   |   |   |--- P/Sales <= 0.21\n",
      "|   |   |   |   |   |   |   |--- class: 0.0\n",
      "|   |   |   |   |   |   |--- P/Sales >  0.21\n",
      "|   |   |   |   |   |   |   |--- truncated branch of depth 2\n",
      "|   |   |   |   |--- P/NCAV >  -0.47\n",
      "|   |   |   |   |   |--- Earnings_Growth <= 0.08\n",
      "|   |   |   |   |   |   |--- FCF_Growth <= -0.44\n",
      "|   |   |   |   |   |   |   |--- truncated branch of depth 6\n",
      "|   |   |   |   |   |   |--- FCF_Growth >  -0.44\n",
      "|   |   |   |   |   |   |   |--- truncated branch of depth 9\n",
      "|   |   |   |   |   |--- Earnings_Growth >  0.08\n",
      "|   |   |   |   |   |   |--- Gross_Profit_Margin <= 0.72\n",
      "|   |   |   |   |   |   |   |--- truncated branch of depth 9\n",
      "|   |   |   |   |   |   |--- Gross_Profit_Margin >  0.72\n",
      "|   |   |   |   |   |   |   |--- truncated branch of depth 7\n",
      "|   |   |   |--- Return_on_Assets >  -0.38\n",
      "|   |   |   |   |--- Asset_Turnover <= 0.37\n",
      "|   |   |   |   |   |--- Gross_Profit_Margin <= 0.79\n",
      "|   |   |   |   |   |   |--- Market-Cap <= 52919558.00\n",
      "|   |   |   |   |   |   |   |--- truncated branch of depth 5\n",
      "|   |   |   |   |   |   |--- Market-Cap >  52919558.00\n",
      "|   |   |   |   |   |   |   |--- truncated branch of depth 9\n",
      "|   |   |   |   |   |--- Gross_Profit_Margin >  0.79\n",
      "|   |   |   |   |   |   |--- Sales_Growth <= 0.44\n",
      "|   |   |   |   |   |   |   |--- truncated branch of depth 5\n",
      "|   |   |   |   |   |   |--- Sales_Growth >  0.44\n",
      "|   |   |   |   |   |   |   |--- truncated branch of depth 3\n",
      "|   |   |   |   |--- Asset_Turnover >  0.37\n",
      "|   |   |   |   |   |--- Share_Buyback_/_FCF <= 1.19\n",
      "|   |   |   |   |   |   |--- Log_Revenue <= 7.45\n",
      "|   |   |   |   |   |   |   |--- truncated branch of depth 9\n",
      "|   |   |   |   |   |   |--- Log_Revenue >  7.45\n",
      "|   |   |   |   |   |   |   |--- truncated branch of depth 9\n",
      "|   |   |   |   |   |--- Share_Buyback_/_FCF >  1.19\n",
      "|   |   |   |   |   |   |--- Assets_Growth <= 0.62\n",
      "|   |   |   |   |   |   |   |--- truncated branch of depth 9\n",
      "|   |   |   |   |   |   |--- Assets_Growth >  0.62\n",
      "|   |   |   |   |   |   |   |--- truncated branch of depth 5\n",
      "|   |--- P/E >  -0.01\n",
      "|   |   |--- Gross_Profit_Margin <= 0.57\n",
      "|   |   |   |--- (Dividends_+_Share_Buyback)_/_FCF <= -0.11\n",
      "|   |   |   |   |--- Assets_Growth_YOY <= 0.22\n",
      "|   |   |   |   |   |--- FCF_Growth <= -1.33\n",
      "|   |   |   |   |   |   |--- Interest_Coverage <= 76.12\n",
      "|   |   |   |   |   |   |   |--- truncated branch of depth 4\n",
      "|   |   |   |   |   |   |--- Interest_Coverage >  76.12\n",
      "|   |   |   |   |   |   |   |--- class: 0.0\n",
      "|   |   |   |   |   |--- FCF_Growth >  -1.33\n",
      "|   |   |   |   |   |   |--- Assets_Growth <= 0.03\n",
      "|   |   |   |   |   |   |   |--- truncated branch of depth 5\n",
      "|   |   |   |   |   |   |--- Assets_Growth >  0.03\n",
      "|   |   |   |   |   |   |   |--- truncated branch of depth 8\n",
      "|   |   |   |   |--- Assets_Growth_YOY >  0.22\n",
      "|   |   |   |   |   |--- Earnings_Yield <= 0.01\n",
      "|   |   |   |   |   |   |--- class: 1.0\n",
      "|   |   |   |   |   |--- Earnings_Yield >  0.01\n",
      "|   |   |   |   |   |   |--- Current_Ratio <= 2.77\n",
      "|   |   |   |   |   |   |   |--- truncated branch of depth 4\n",
      "|   |   |   |   |   |   |--- Current_Ratio >  2.77\n",
      "|   |   |   |   |   |   |   |--- truncated branch of depth 3\n",
      "|   |   |   |--- (Dividends_+_Share_Buyback)_/_FCF >  -0.11\n",
      "|   |   |   |   |--- P/NetNet <= -19.00\n",
      "|   |   |   |   |   |--- FCF_Growth <= -0.76\n",
      "|   |   |   |   |   |   |--- P/NCAV <= -13.11\n",
      "|   |   |   |   |   |   |   |--- class: 0.0\n",
      "|   |   |   |   |   |   |--- P/NCAV >  -13.11\n",
      "|   |   |   |   |   |   |   |--- truncated branch of depth 2\n",
      "|   |   |   |   |   |--- FCF_Growth >  -0.76\n",
      "|   |   |   |   |   |   |--- Gross_Profit_Margin <= 0.17\n",
      "|   |   |   |   |   |   |   |--- truncated branch of depth 2\n",
      "|   |   |   |   |   |   |--- Gross_Profit_Margin >  0.17\n",
      "|   |   |   |   |   |   |   |--- truncated branch of depth 3\n",
      "|   |   |   |   |--- P/NetNet >  -19.00\n",
      "|   |   |   |   |   |--- (Dividends_+_Share_Buyback)_/_FCF <= 0.01\n",
      "|   |   |   |   |   |   |--- Return_on_Assets <= 0.15\n",
      "|   |   |   |   |   |   |   |--- truncated branch of depth 9\n",
      "|   |   |   |   |   |   |--- Return_on_Assets >  0.15\n",
      "|   |   |   |   |   |   |   |--- truncated branch of depth 9\n",
      "|   |   |   |   |   |--- (Dividends_+_Share_Buyback)_/_FCF >  0.01\n",
      "|   |   |   |   |   |   |--- Current_Ratio <= 0.96\n",
      "|   |   |   |   |   |   |   |--- truncated branch of depth 4\n",
      "|   |   |   |   |   |   |--- Current_Ratio >  0.96\n",
      "|   |   |   |   |   |   |   |--- truncated branch of depth 9\n",
      "|   |   |--- Gross_Profit_Margin >  0.57\n",
      "|   |   |   |--- Log_Revenue <= 7.84\n",
      "|   |   |   |   |--- P/E <= 11.85\n",
      "|   |   |   |   |   |--- Share_Buyback_/_FCF <= -0.00\n",
      "|   |   |   |   |   |   |--- P/NetNet <= 4.61\n",
      "|   |   |   |   |   |   |   |--- truncated branch of depth 3\n",
      "|   |   |   |   |   |   |--- P/NetNet >  4.61\n",
      "|   |   |   |   |   |   |   |--- truncated branch of depth 3\n",
      "|   |   |   |   |   |--- Share_Buyback_/_FCF >  -0.00\n",
      "|   |   |   |   |   |   |--- P/Sales <= 1.73\n",
      "|   |   |   |   |   |   |   |--- truncated branch of depth 4\n",
      "|   |   |   |   |   |   |--- P/Sales >  1.73\n",
      "|   |   |   |   |   |   |   |--- truncated branch of depth 6\n",
      "|   |   |   |   |--- P/E >  11.85\n",
      "|   |   |   |   |   |--- Earnings_Yield <= 0.01\n",
      "|   |   |   |   |   |   |--- P/Sales <= 1.20\n",
      "|   |   |   |   |   |   |   |--- class: 1.0\n",
      "|   |   |   |   |   |   |--- P/Sales >  1.20\n",
      "|   |   |   |   |   |   |   |--- truncated branch of depth 6\n",
      "|   |   |   |   |   |--- Earnings_Yield >  0.01\n",
      "|   |   |   |   |   |   |--- Earnings_Growth_YOY <= -0.76\n",
      "|   |   |   |   |   |   |   |--- truncated branch of depth 7\n",
      "|   |   |   |   |   |   |--- Earnings_Growth_YOY >  -0.76\n",
      "|   |   |   |   |   |   |   |--- truncated branch of depth 9\n",
      "|   |   |   |--- Log_Revenue >  7.84\n",
      "|   |   |   |   |--- FCF_Yield <= 0.09\n",
      "|   |   |   |   |   |--- Earnings_Growth <= -0.84\n",
      "|   |   |   |   |   |   |--- Current_Ratio <= 2.49\n",
      "|   |   |   |   |   |   |   |--- truncated branch of depth 2\n",
      "|   |   |   |   |   |   |--- Current_Ratio >  2.49\n",
      "|   |   |   |   |   |   |   |--- truncated branch of depth 5\n",
      "|   |   |   |   |   |--- Earnings_Growth >  -0.84\n",
      "|   |   |   |   |   |   |--- class: 1.0\n",
      "|   |   |   |   |--- FCF_Yield >  0.09\n",
      "|   |   |   |   |   |--- P/E <= 12.29\n",
      "|   |   |   |   |   |   |--- P/Sales <= 0.90\n",
      "|   |   |   |   |   |   |   |--- class: 1.0\n",
      "|   |   |   |   |   |   |--- P/Sales >  0.90\n",
      "|   |   |   |   |   |   |   |--- truncated branch of depth 3\n",
      "|   |   |   |   |   |--- P/E >  12.29\n",
      "|   |   |   |   |   |   |--- class: 1.0\n",
      "|--- Log_Revenue >  7.98\n",
      "|   |--- Earnings_Growth_YOY <= -0.26\n",
      "|   |   |--- (Dividends_+_Share_Buyback)_/_FCF <= 0.08\n",
      "|   |   |   |--- Log_Revenue <= 10.40\n",
      "|   |   |   |   |--- Return_on_Equity <= -0.05\n",
      "|   |   |   |   |   |--- P/NetNet <= 22.17\n",
      "|   |   |   |   |   |   |--- Sales_Growth <= 0.22\n",
      "|   |   |   |   |   |   |   |--- truncated branch of depth 9\n",
      "|   |   |   |   |   |   |--- Sales_Growth >  0.22\n",
      "|   |   |   |   |   |   |   |--- truncated branch of depth 8\n",
      "|   |   |   |   |   |--- P/NetNet >  22.17\n",
      "|   |   |   |   |   |   |--- Quick_Ratio <= 1.42\n",
      "|   |   |   |   |   |   |   |--- truncated branch of depth 2\n",
      "|   |   |   |   |   |   |--- Quick_Ratio >  1.42\n",
      "|   |   |   |   |   |   |   |--- truncated branch of depth 4\n",
      "|   |   |   |   |--- Return_on_Equity >  -0.05\n",
      "|   |   |   |   |   |--- Gross_Profit_Margin <= 0.81\n",
      "|   |   |   |   |   |   |--- Gross_Profit_Margin <= 0.63\n",
      "|   |   |   |   |   |   |   |--- truncated branch of depth 9\n",
      "|   |   |   |   |   |   |--- Gross_Profit_Margin >  0.63\n",
      "|   |   |   |   |   |   |   |--- truncated branch of depth 9\n",
      "|   |   |   |   |   |--- Gross_Profit_Margin >  0.81\n",
      "|   |   |   |   |   |   |--- Log_Revenue <= 9.33\n",
      "|   |   |   |   |   |   |   |--- truncated branch of depth 9\n",
      "|   |   |   |   |   |   |--- Log_Revenue >  9.33\n",
      "|   |   |   |   |   |   |   |--- truncated branch of depth 9\n",
      "|   |   |   |--- Log_Revenue >  10.40\n",
      "|   |   |   |   |--- Gross_Profit_Margin <= 0.25\n",
      "|   |   |   |   |   |--- (Dividends_+_Share_Buyback)_/_FCF <= 0.07\n",
      "|   |   |   |   |   |   |--- Return_on_Assets <= 0.03\n",
      "|   |   |   |   |   |   |   |--- class: 1.0\n",
      "|   |   |   |   |   |   |--- Return_on_Assets >  0.03\n",
      "|   |   |   |   |   |   |   |--- truncated branch of depth 4\n",
      "|   |   |   |   |   |--- (Dividends_+_Share_Buyback)_/_FCF >  0.07\n",
      "|   |   |   |   |   |   |--- class: 0.0\n",
      "|   |   |   |   |--- Gross_Profit_Margin >  0.25\n",
      "|   |   |   |   |   |--- Assets_Growth <= 0.45\n",
      "|   |   |   |   |   |   |--- Quick_Ratio <= 0.27\n",
      "|   |   |   |   |   |   |   |--- class: 0.0\n",
      "|   |   |   |   |   |   |--- Quick_Ratio >  0.27\n",
      "|   |   |   |   |   |   |   |--- truncated branch of depth 5\n",
      "|   |   |   |   |   |--- Assets_Growth >  0.45\n",
      "|   |   |   |   |   |   |--- P/E <= -23.49\n",
      "|   |   |   |   |   |   |   |--- class: 0.0\n",
      "|   |   |   |   |   |   |--- P/E >  -23.49\n",
      "|   |   |   |   |   |   |   |--- class: 0.0\n",
      "|   |   |--- (Dividends_+_Share_Buyback)_/_FCF >  0.08\n",
      "|   |   |   |--- Asset_Turnover <= 1.51\n",
      "|   |   |   |   |--- P/NCAV <= -1.23\n",
      "|   |   |   |   |   |--- FCF_Growth <= -0.22\n",
      "|   |   |   |   |   |   |--- Net_Profit_Margin <= -0.16\n",
      "|   |   |   |   |   |   |   |--- truncated branch of depth 7\n",
      "|   |   |   |   |   |   |--- Net_Profit_Margin >  -0.16\n",
      "|   |   |   |   |   |   |   |--- truncated branch of depth 9\n",
      "|   |   |   |   |   |--- FCF_Growth >  -0.22\n",
      "|   |   |   |   |   |   |--- Sales_Growth <= 0.01\n",
      "|   |   |   |   |   |   |   |--- truncated branch of depth 9\n",
      "|   |   |   |   |   |   |--- Sales_Growth >  0.01\n",
      "|   |   |   |   |   |   |   |--- truncated branch of depth 9\n",
      "|   |   |   |   |--- P/NCAV >  -1.23\n",
      "|   |   |   |   |   |--- Net_Profit_Margin <= 0.04\n",
      "|   |   |   |   |   |   |--- Asset_Turnover <= 0.43\n",
      "|   |   |   |   |   |   |   |--- truncated branch of depth 9\n",
      "|   |   |   |   |   |   |--- Asset_Turnover >  0.43\n",
      "|   |   |   |   |   |   |   |--- truncated branch of depth 9\n",
      "|   |   |   |   |   |--- Net_Profit_Margin >  0.04\n",
      "|   |   |   |   |   |   |--- Market-Cap <= 745907424.00\n",
      "|   |   |   |   |   |   |   |--- truncated branch of depth 9\n",
      "|   |   |   |   |   |   |--- Market-Cap >  745907424.00\n",
      "|   |   |   |   |   |   |   |--- truncated branch of depth 9\n",
      "|   |   |   |--- Asset_Turnover >  1.51\n",
      "|   |   |   |   |--- Gross_Profit_Margin <= 0.24\n",
      "|   |   |   |   |   |--- Gross_Profit_Margin <= 0.18\n",
      "|   |   |   |   |   |   |--- P/E <= 26.79\n",
      "|   |   |   |   |   |   |   |--- truncated branch of depth 9\n",
      "|   |   |   |   |   |   |--- P/E >  26.79\n",
      "|   |   |   |   |   |   |   |--- truncated branch of depth 9\n",
      "|   |   |   |   |   |--- Gross_Profit_Margin >  0.18\n",
      "|   |   |   |   |   |   |--- Asset_Turnover <= 1.79\n",
      "|   |   |   |   |   |   |   |--- truncated branch of depth 3\n",
      "|   |   |   |   |   |   |--- Asset_Turnover >  1.79\n",
      "|   |   |   |   |   |   |   |--- truncated branch of depth 9\n",
      "|   |   |   |   |--- Gross_Profit_Margin >  0.24\n",
      "|   |   |   |   |   |--- Quick_Ratio <= 1.65\n",
      "|   |   |   |   |   |   |--- Return_on_Equity <= 0.36\n",
      "|   |   |   |   |   |   |   |--- truncated branch of depth 9\n",
      "|   |   |   |   |   |   |--- Return_on_Equity >  0.36\n",
      "|   |   |   |   |   |   |   |--- truncated branch of depth 6\n",
      "|   |   |   |   |   |--- Quick_Ratio >  1.65\n",
      "|   |   |   |   |   |   |--- Return_on_Assets <= 0.17\n",
      "|   |   |   |   |   |   |   |--- truncated branch of depth 9\n",
      "|   |   |   |   |   |   |--- Return_on_Assets >  0.17\n",
      "|   |   |   |   |   |   |   |--- truncated branch of depth 4\n",
      "|   |--- Earnings_Growth_YOY >  -0.26\n",
      "|   |   |--- (Dividends_+_Share_Buyback)_/_FCF <= 0.26\n",
      "|   |   |   |--- Earnings_Yield <= -0.04\n",
      "|   |   |   |   |--- Asset_Turnover <= 0.41\n",
      "|   |   |   |   |   |--- Sales_Growth_YOY <= 0.59\n",
      "|   |   |   |   |   |   |--- Log_Revenue <= 9.94\n",
      "|   |   |   |   |   |   |   |--- truncated branch of depth 9\n",
      "|   |   |   |   |   |   |--- Log_Revenue >  9.94\n",
      "|   |   |   |   |   |   |   |--- truncated branch of depth 3\n",
      "|   |   |   |   |   |--- Sales_Growth_YOY >  0.59\n",
      "|   |   |   |   |   |   |--- Current_Ratio <= 1.27\n",
      "|   |   |   |   |   |   |   |--- class: 1.0\n",
      "|   |   |   |   |   |   |--- Current_Ratio >  1.27\n",
      "|   |   |   |   |   |   |   |--- truncated branch of depth 3\n",
      "|   |   |   |   |--- Asset_Turnover >  0.41\n",
      "|   |   |   |   |   |--- P/Cash <= 12.33\n",
      "|   |   |   |   |   |   |--- Sales_Growth <= 0.08\n",
      "|   |   |   |   |   |   |   |--- truncated branch of depth 9\n",
      "|   |   |   |   |   |   |--- Sales_Growth >  0.08\n",
      "|   |   |   |   |   |   |   |--- truncated branch of depth 9\n",
      "|   |   |   |   |   |--- P/Cash >  12.33\n",
      "|   |   |   |   |   |   |--- Return_on_Assets <= -0.13\n",
      "|   |   |   |   |   |   |   |--- truncated branch of depth 7\n",
      "|   |   |   |   |   |   |--- Return_on_Assets >  -0.13\n",
      "|   |   |   |   |   |   |   |--- truncated branch of depth 9\n",
      "|   |   |   |--- Earnings_Yield >  -0.04\n",
      "|   |   |   |   |--- Market-Cap <= 576230112.00\n",
      "|   |   |   |   |   |--- P/E <= 4.44\n",
      "|   |   |   |   |   |   |--- Sales_Growth_YOY <= -0.13\n",
      "|   |   |   |   |   |   |   |--- truncated branch of depth 4\n",
      "|   |   |   |   |   |   |--- Sales_Growth_YOY >  -0.13\n",
      "|   |   |   |   |   |   |   |--- truncated branch of depth 9\n",
      "|   |   |   |   |   |--- P/E >  4.44\n",
      "|   |   |   |   |   |   |--- Earnings_Yield <= 0.04\n",
      "|   |   |   |   |   |   |   |--- truncated branch of depth 9\n",
      "|   |   |   |   |   |   |--- Earnings_Yield >  0.04\n",
      "|   |   |   |   |   |   |   |--- truncated branch of depth 9\n",
      "|   |   |   |   |--- Market-Cap >  576230112.00\n",
      "|   |   |   |   |   |--- Sales_Growth <= 0.15\n",
      "|   |   |   |   |   |   |--- P/NetNet <= -1.44\n",
      "|   |   |   |   |   |   |   |--- truncated branch of depth 9\n",
      "|   |   |   |   |   |   |--- P/NetNet >  -1.44\n",
      "|   |   |   |   |   |   |   |--- truncated branch of depth 9\n",
      "|   |   |   |   |   |--- Sales_Growth >  0.15\n",
      "|   |   |   |   |   |   |--- Log_Revenue <= 10.32\n",
      "|   |   |   |   |   |   |   |--- truncated branch of depth 9\n",
      "|   |   |   |   |   |   |--- Log_Revenue >  10.32\n",
      "|   |   |   |   |   |   |   |--- truncated branch of depth 9\n",
      "|   |   |--- (Dividends_+_Share_Buyback)_/_FCF >  0.26\n",
      "|   |   |   |--- Sales_Growth <= 0.16\n",
      "|   |   |   |   |--- P/NCAV <= -6.44\n",
      "|   |   |   |   |   |--- Current_Ratio <= 1.59\n",
      "|   |   |   |   |   |   |--- Earnings_Growth_YOY <= 1.00\n",
      "|   |   |   |   |   |   |   |--- truncated branch of depth 9\n",
      "|   |   |   |   |   |   |--- Earnings_Growth_YOY >  1.00\n",
      "|   |   |   |   |   |   |   |--- truncated branch of depth 9\n",
      "|   |   |   |   |   |--- Current_Ratio >  1.59\n",
      "|   |   |   |   |   |   |--- FCF_Growth <= -0.08\n",
      "|   |   |   |   |   |   |   |--- truncated branch of depth 9\n",
      "|   |   |   |   |   |   |--- FCF_Growth >  -0.08\n",
      "|   |   |   |   |   |   |   |--- truncated branch of depth 9\n",
      "|   |   |   |   |--- P/NCAV >  -6.44\n",
      "|   |   |   |   |   |--- FCF_Yield <= 0.03\n",
      "|   |   |   |   |   |   |--- P/NetNet <= -3.46\n",
      "|   |   |   |   |   |   |   |--- truncated branch of depth 9\n",
      "|   |   |   |   |   |   |--- P/NetNet >  -3.46\n",
      "|   |   |   |   |   |   |   |--- truncated branch of depth 9\n",
      "|   |   |   |   |   |--- FCF_Yield >  0.03\n",
      "|   |   |   |   |   |   |--- Net_Profit_Margin <= 0.04\n",
      "|   |   |   |   |   |   |   |--- truncated branch of depth 9\n",
      "|   |   |   |   |   |   |--- Net_Profit_Margin >  0.04\n",
      "|   |   |   |   |   |   |   |--- truncated branch of depth 9\n",
      "|   |   |   |--- Sales_Growth >  0.16\n",
      "|   |   |   |   |--- P/Sales <= 13.27\n",
      "|   |   |   |   |   |--- FCF_Yield <= 0.03\n",
      "|   |   |   |   |   |   |--- Interest_Coverage <= 93.36\n",
      "|   |   |   |   |   |   |   |--- truncated branch of depth 9\n",
      "|   |   |   |   |   |   |--- Interest_Coverage >  93.36\n",
      "|   |   |   |   |   |   |   |--- truncated branch of depth 7\n",
      "|   |   |   |   |   |--- FCF_Yield >  0.03\n",
      "|   |   |   |   |   |   |--- Market-Cap <= 6108943104.00\n",
      "|   |   |   |   |   |   |   |--- truncated branch of depth 9\n",
      "|   |   |   |   |   |   |--- Market-Cap >  6108943104.00\n",
      "|   |   |   |   |   |   |   |--- truncated branch of depth 9\n",
      "|   |   |   |   |--- P/Sales >  13.27\n",
      "|   |   |   |   |   |--- CapEx_/_(Depr_+_Amor) <= 2.61\n",
      "|   |   |   |   |   |   |--- Earnings_Growth <= -0.51\n",
      "|   |   |   |   |   |   |   |--- class: 1.0\n",
      "|   |   |   |   |   |   |--- Earnings_Growth >  -0.51\n",
      "|   |   |   |   |   |   |   |--- truncated branch of depth 7\n",
      "|   |   |   |   |   |--- CapEx_/_(Depr_+_Amor) >  2.61\n",
      "|   |   |   |   |   |   |--- Interest_Coverage <= 14.51\n",
      "|   |   |   |   |   |   |   |--- truncated branch of depth 2\n",
      "|   |   |   |   |   |   |--- Interest_Coverage >  14.51\n",
      "|   |   |   |   |   |   |   |--- class: 0.0\n",
      "\n"
     ]
    }
   ],
   "source": [
    "print_tree(clf)"
   ]
  },
  {
   "cell_type": "markdown",
   "metadata": {},
   "source": [
    "We can also show the signals (or features) that the model found were most important. These are not necessarily the signals that are best correlated with stock-returns, because the Random Forest is a non-linear mapping from signals to the gain/loss classification."
   ]
  },
  {
   "cell_type": "code",
   "execution_count": 47,
   "metadata": {},
   "outputs": [
    {
     "data": {
      "text/html": [
       "<div>\n",
       "<style scoped>\n",
       "    .dataframe tbody tr th:only-of-type {\n",
       "        vertical-align: middle;\n",
       "    }\n",
       "\n",
       "    .dataframe tbody tr th {\n",
       "        vertical-align: top;\n",
       "    }\n",
       "\n",
       "    .dataframe thead th {\n",
       "        text-align: right;\n",
       "    }\n",
       "</style>\n",
       "<table border=\"1\" class=\"dataframe\">\n",
       "  <thead>\n",
       "    <tr style=\"text-align: right;\">\n",
       "      <th></th>\n",
       "      <th>Feature Importance</th>\n",
       "      <th>Return Correlation</th>\n",
       "    </tr>\n",
       "  </thead>\n",
       "  <tbody>\n",
       "    <tr>\n",
       "      <th>Log Revenue</th>\n",
       "      <td>0.046704</td>\n",
       "      <td>0.080528</td>\n",
       "    </tr>\n",
       "    <tr>\n",
       "      <th>Gross Profit Margin</th>\n",
       "      <td>0.044079</td>\n",
       "      <td>0.039186</td>\n",
       "    </tr>\n",
       "    <tr>\n",
       "      <th>Market-Cap</th>\n",
       "      <td>0.041092</td>\n",
       "      <td>0.038540</td>\n",
       "    </tr>\n",
       "    <tr>\n",
       "      <th>Net Profit Margin</th>\n",
       "      <td>0.040932</td>\n",
       "      <td>0.136758</td>\n",
       "    </tr>\n",
       "    <tr>\n",
       "      <th>Asset Turnover</th>\n",
       "      <td>0.038953</td>\n",
       "      <td>0.012430</td>\n",
       "    </tr>\n",
       "    <tr>\n",
       "      <th>Return on Assets</th>\n",
       "      <td>0.036576</td>\n",
       "      <td>0.127182</td>\n",
       "    </tr>\n",
       "    <tr>\n",
       "      <th>CapEx / (Depr + Amor)</th>\n",
       "      <td>0.035756</td>\n",
       "      <td>0.033415</td>\n",
       "    </tr>\n",
       "    <tr>\n",
       "      <th>Quick Ratio</th>\n",
       "      <td>0.034986</td>\n",
       "      <td>0.012878</td>\n",
       "    </tr>\n",
       "    <tr>\n",
       "      <th>Current Ratio</th>\n",
       "      <td>0.034577</td>\n",
       "      <td>0.015132</td>\n",
       "    </tr>\n",
       "    <tr>\n",
       "      <th>Sales Growth</th>\n",
       "      <td>0.032900</td>\n",
       "      <td>0.011927</td>\n",
       "    </tr>\n",
       "    <tr>\n",
       "      <th>Interest Coverage</th>\n",
       "      <td>0.032463</td>\n",
       "      <td>0.010712</td>\n",
       "    </tr>\n",
       "    <tr>\n",
       "      <th>(Dividends + Share Buyback) / FCF</th>\n",
       "      <td>0.030973</td>\n",
       "      <td>0.034548</td>\n",
       "    </tr>\n",
       "    <tr>\n",
       "      <th>P/Sales</th>\n",
       "      <td>0.030491</td>\n",
       "      <td>0.011282</td>\n",
       "    </tr>\n",
       "    <tr>\n",
       "      <th>Return on Equity</th>\n",
       "      <td>0.029917</td>\n",
       "      <td>0.093227</td>\n",
       "    </tr>\n",
       "    <tr>\n",
       "      <th>P/NCAV</th>\n",
       "      <td>0.029712</td>\n",
       "      <td>0.023057</td>\n",
       "    </tr>\n",
       "    <tr>\n",
       "      <th>P/NetNet</th>\n",
       "      <td>0.029329</td>\n",
       "      <td>0.015345</td>\n",
       "    </tr>\n",
       "    <tr>\n",
       "      <th>P/E</th>\n",
       "      <td>0.029192</td>\n",
       "      <td>0.053466</td>\n",
       "    </tr>\n",
       "    <tr>\n",
       "      <th>P/Cash</th>\n",
       "      <td>0.028261</td>\n",
       "      <td>0.030735</td>\n",
       "    </tr>\n",
       "    <tr>\n",
       "      <th>Earnings Growth</th>\n",
       "      <td>0.027987</td>\n",
       "      <td>0.027040</td>\n",
       "    </tr>\n",
       "    <tr>\n",
       "      <th>Share Buyback / FCF</th>\n",
       "      <td>0.027861</td>\n",
       "      <td>0.029156</td>\n",
       "    </tr>\n",
       "    <tr>\n",
       "      <th>Price to Book Value</th>\n",
       "      <td>0.027292</td>\n",
       "      <td>0.039567</td>\n",
       "    </tr>\n",
       "    <tr>\n",
       "      <th>Earnings Yield</th>\n",
       "      <td>0.026642</td>\n",
       "      <td>0.123482</td>\n",
       "    </tr>\n",
       "    <tr>\n",
       "      <th>Dividends / FCF</th>\n",
       "      <td>0.025406</td>\n",
       "      <td>0.036941</td>\n",
       "    </tr>\n",
       "    <tr>\n",
       "      <th>FCF Yield</th>\n",
       "      <td>0.024320</td>\n",
       "      <td>0.099279</td>\n",
       "    </tr>\n",
       "    <tr>\n",
       "      <th>FCF Growth</th>\n",
       "      <td>0.023863</td>\n",
       "      <td>0.026847</td>\n",
       "    </tr>\n",
       "    <tr>\n",
       "      <th>Sales Growth YOY</th>\n",
       "      <td>0.023679</td>\n",
       "      <td>0.008482</td>\n",
       "    </tr>\n",
       "    <tr>\n",
       "      <th>Assets Growth</th>\n",
       "      <td>0.022978</td>\n",
       "      <td>0.013653</td>\n",
       "    </tr>\n",
       "    <tr>\n",
       "      <th>P/FCF</th>\n",
       "      <td>0.022670</td>\n",
       "      <td>0.044057</td>\n",
       "    </tr>\n",
       "    <tr>\n",
       "      <th>Assets Growth YOY</th>\n",
       "      <td>0.022574</td>\n",
       "      <td>0.013625</td>\n",
       "    </tr>\n",
       "    <tr>\n",
       "      <th>Earnings Growth YOY</th>\n",
       "      <td>0.019922</td>\n",
       "      <td>0.022794</td>\n",
       "    </tr>\n",
       "    <tr>\n",
       "      <th>FCF Growth YOY</th>\n",
       "      <td>0.017016</td>\n",
       "      <td>0.028904</td>\n",
       "    </tr>\n",
       "    <tr>\n",
       "      <th>Sales Growth QOQ</th>\n",
       "      <td>0.015759</td>\n",
       "      <td>0.017625</td>\n",
       "    </tr>\n",
       "    <tr>\n",
       "      <th>Earnings Growth QOQ</th>\n",
       "      <td>0.015162</td>\n",
       "      <td>0.023394</td>\n",
       "    </tr>\n",
       "    <tr>\n",
       "      <th>FCF Growth QOQ</th>\n",
       "      <td>0.015114</td>\n",
       "      <td>0.020252</td>\n",
       "    </tr>\n",
       "    <tr>\n",
       "      <th>Assets Growth QOQ</th>\n",
       "      <td>0.014862</td>\n",
       "      <td>0.016015</td>\n",
       "    </tr>\n",
       "  </tbody>\n",
       "</table>\n",
       "</div>"
      ],
      "text/plain": [
       "                                   Feature Importance  Return Correlation\n",
       "Log Revenue                                  0.046704            0.080528\n",
       "Gross Profit Margin                          0.044079            0.039186\n",
       "Market-Cap                                   0.041092            0.038540\n",
       "Net Profit Margin                            0.040932            0.136758\n",
       "Asset Turnover                               0.038953            0.012430\n",
       "Return on Assets                             0.036576            0.127182\n",
       "CapEx / (Depr + Amor)                        0.035756            0.033415\n",
       "Quick Ratio                                  0.034986            0.012878\n",
       "Current Ratio                                0.034577            0.015132\n",
       "Sales Growth                                 0.032900            0.011927\n",
       "Interest Coverage                            0.032463            0.010712\n",
       "(Dividends + Share Buyback) / FCF            0.030973            0.034548\n",
       "P/Sales                                      0.030491            0.011282\n",
       "Return on Equity                             0.029917            0.093227\n",
       "P/NCAV                                       0.029712            0.023057\n",
       "P/NetNet                                     0.029329            0.015345\n",
       "P/E                                          0.029192            0.053466\n",
       "P/Cash                                       0.028261            0.030735\n",
       "Earnings Growth                              0.027987            0.027040\n",
       "Share Buyback / FCF                          0.027861            0.029156\n",
       "Price to Book Value                          0.027292            0.039567\n",
       "Earnings Yield                               0.026642            0.123482\n",
       "Dividends / FCF                              0.025406            0.036941\n",
       "FCF Yield                                    0.024320            0.099279\n",
       "FCF Growth                                   0.023863            0.026847\n",
       "Sales Growth YOY                             0.023679            0.008482\n",
       "Assets Growth                                0.022978            0.013653\n",
       "P/FCF                                        0.022670            0.044057\n",
       "Assets Growth YOY                            0.022574            0.013625\n",
       "Earnings Growth YOY                          0.019922            0.022794\n",
       "FCF Growth YOY                               0.017016            0.028904\n",
       "Sales Growth QOQ                             0.015759            0.017625\n",
       "Earnings Growth QOQ                          0.015162            0.023394\n",
       "FCF Growth QOQ                               0.015114            0.020252\n",
       "Assets Growth QOQ                            0.014862            0.016015"
      ]
     },
     "execution_count": 47,
     "metadata": {},
     "output_type": "execute_result"
    }
   ],
   "source": [
    "compare_feature_imp_corr(clf)"
   ]
  },
  {
   "cell_type": "markdown",
   "metadata": {},
   "source": [
    "### Classification Results\n",
    "\n",
    "We can then use the fitted model to predict the classes for the training- and test-sets:"
   ]
  },
  {
   "cell_type": "code",
   "execution_count": 48,
   "metadata": {},
   "outputs": [
    {
     "name": "stdout",
     "output_type": "stream",
     "text": [
      "CPU times: user 12.2 s, sys: 75.4 ms, total: 12.3 s\n",
      "Wall time: 2.53 s\n"
     ]
    }
   ],
   "source": [
    "%%time\n",
    "y_train_pred_cls = clf.predict(X_train)\n",
    "y_test_pred_cls = clf.predict(X_test)"
   ]
  },
  {
   "cell_type": "markdown",
   "metadata": {},
   "source": [
    "The model has a very high classification accuracy on the training-set, so the model has learned to map financial signals to gain/loss classifications for 1-3 year investment periods:"
   ]
  },
  {
   "cell_type": "code",
   "execution_count": 49,
   "metadata": {},
   "outputs": [
    {
     "data": {
      "text/plain": [
       "0.966283984856648"
      ]
     },
     "execution_count": 49,
     "metadata": {},
     "output_type": "execute_result"
    }
   ],
   "source": [
    "accuracy_score(y_true=y_train_cls, y_pred=y_train_pred_cls)"
   ]
  },
  {
   "cell_type": "markdown",
   "metadata": {},
   "source": [
    "Unfortunately this performance does not generalize to the test-set, which the model has not seen during training. Here the classification accuracy is much lower:"
   ]
  },
  {
   "cell_type": "code",
   "execution_count": 50,
   "metadata": {},
   "outputs": [
    {
     "data": {
      "text/plain": [
       "0.6981653174981093"
      ]
     },
     "execution_count": 50,
     "metadata": {},
     "output_type": "execute_result"
    }
   ],
   "source": [
    "accuracy_score(y_true=y_test_cls, y_pred=y_test_pred_cls)"
   ]
  },
  {
   "cell_type": "markdown",
   "metadata": {},
   "source": [
    "This is about the same score as simply guessing that the stock-returns are always gains:"
   ]
  },
  {
   "cell_type": "code",
   "execution_count": 51,
   "metadata": {},
   "outputs": [
    {
     "data": {
      "text/plain": [
       "0.7102938293045012"
      ]
     },
     "execution_count": 51,
     "metadata": {},
     "output_type": "execute_result"
    }
   ],
   "source": [
    "# Fraction of the test-set that is classified as gains.\n",
    "(y_test_cls == 1.0).sum() / len(y_test_cls)"
   ]
  },
  {
   "cell_type": "markdown",
   "metadata": {},
   "source": [
    "### Confusion Matrix\n",
    "\n",
    "We can also plot a so-called Confusion Matrix, which shows how the classes were predicted. For the training-set, we again see that the model has learned to accurately classify gains and losses. Note how the colours are different, because the training-set contains many more gains than losses."
   ]
  },
  {
   "cell_type": "code",
   "execution_count": 52,
   "metadata": {},
   "outputs": [
    {
     "data": {
      "image/png": "[encoded data removed]",
      "text/plain": [
       "<Figure size 432x288 with 2 Axes>"
      ]
     },
     "metadata": {},
     "output_type": "display_data"
    }
   ],
   "source": [
    "plot_confusion_matrix(y_true=y_train_cls, y_pred=y_train_pred_cls)"
   ]
  },
  {
   "cell_type": "markdown",
   "metadata": {},
   "source": [
    "The confusion matrix for the test-set, shows that most classes were predicted as gains:"
   ]
  },
  {
   "cell_type": "code",
   "execution_count": 53,
   "metadata": {},
   "outputs": [
    {
     "data": {
      "image/png": "[encoded data removed]",
      "text/plain": [
       "<Figure size 432x288 with 2 Axes>"
      ]
     },
     "metadata": {},
     "output_type": "display_data"
    }
   ],
   "source": [
    "plot_confusion_matrix(y_true=y_test_cls, y_pred=y_test_pred_cls)"
   ]
  },
  {
   "cell_type": "markdown",
   "metadata": {},
   "source": [
    "### Classification Examples\n",
    "\n",
    "We can also try and plot the model's predicted versus actual gain/loss classification for a stock in the training-set. As we can see, the model has learned this mapping reasonably well:"
   ]
  },
  {
   "cell_type": "code",
   "execution_count": 54,
   "metadata": {},
   "outputs": [
    {
     "data": {
      "image/png": "[encoded data removed]",
      "text/plain": [
       "<Figure size 432x288 with 1 Axes>"
      ]
     },
     "metadata": {},
     "output_type": "display_data"
    }
   ],
   "source": [
    "# Create a DataFrame with actual and predicted classifications.\n",
    "# This is for the training-set.\n",
    "df_y_train_cls = pd.DataFrame(y_train_cls)\n",
    "df_y_train_cls[TOTAL_RETURN_PRED] = y_train_pred_cls\n",
    "\n",
    "# Plot the actual and predicted stock-returns for the first stock.\n",
    "ticker = tickers_train[0]\n",
    "_ = df_y_train_cls.loc[ticker].plot(title=ticker)"
   ]
  },
  {
   "cell_type": "markdown",
   "metadata": {},
   "source": [
    "Now let us try and plot the model's predicted versus actual gain/loss classifications for the first stock in the test-set. As we can see, the model is quite bad at predicting this for data that it has not seen during its training:"
   ]
  },
  {
   "cell_type": "code",
   "execution_count": 55,
   "metadata": {},
   "outputs": [
    {
     "data": {
      "image/png": "[encoded data removed]",
      "text/plain": [
       "<Figure size 432x288 with 1 Axes>"
      ]
     },
     "metadata": {},
     "output_type": "display_data"
    }
   ],
   "source": [
    "# Create a DataFrame with actual and predicted classifications.\n",
    "# This is for the test-set.\n",
    "df_y_test_cls = pd.DataFrame(y_test_cls)\n",
    "df_y_test_cls[TOTAL_RETURN_PRED] = y_test_pred_cls\n",
    "\n",
    "# Plot the actual and predicted stock-returns for the first stock.\n",
    "ticker = tickers_test[0]\n",
    "_ = df_y_test_cls.loc[ticker].plot(title=ticker)"
   ]
  },
  {
   "cell_type": "markdown",
   "metadata": {},
   "source": [
    "## Discussion\n",
    "\n",
    "We used a Machine Learning model called a Random Forest to learn the relation between signals and future stock-returns. This worked well on the training-data, but did not generalize to the test-data, where the model performed about the same as guessing.\n",
    "\n",
    "The reason must be that either these signals could not be used to predict future stock-returns, or this particular Machine Learning model could not find the true relation between the signals and stock-returns, or we need to experiment with different settings and parameters when training the model.\n",
    "\n",
    "You could spend a very long time experimenting with different ML models and settings, to try and improve the performance. There is a much easier way, by using a \"meta\" Machine Learning system such as [TPOT](https://github.com/EpistasisLab/tpot), which automatically tries to find a combination of Machine Learning models that gives optimal performance. It is easy to use because it has the same API as scikit-learn, but it may take several days to run.\n",
    "\n",
    "\n",
    "### Machine Learning vs. Good Science\n",
    "\n",
    "In general, these experiments show that Machine Learning cannot replace good science. Even if the ML model had performed well on the test-data, it would not have provided an explanation for the underlying relation between signals and stock-returns, so we would not know whether it was truly something that would work in the future. To explain this we need proper scientific reasoning.\n",
    "\n",
    "A good example of scientific reasoning is the discovery and formulation of the Law of Gravity. A simple experiment would be to drop various items from different heights and take lots of measurements of how fast the items fall to the ground.\n",
    "\n",
    "You can then make a noisy scatter-plot that shows the relation between item-size, item-weight, drop-height, and drop-speed. Statistical analysis would be able to give you a rough idea whether there is some relation in the data and if it is statistically significant, so the observed data is probably not just due to random chance. \n",
    "\n",
    "Machine Learning takes this one step further, in that it might be able to create a mathematical or computational model for the non-linear relation in the data, so you could use the ML model to predict the drop-speed if you input the other data. But the ML model would not be able to explain *why* this relation exists in the data. For this we need a proper theoretical framework such as Classical Mechanics in the case of the Law of Gravity.\n",
    "\n",
    "\n",
    "### Predicting Long-Term Stock Returns\n",
    "\n",
    "When it comes to predicting long-term stock-returns, there are actually only 3 factors that matter: The future dividends, sales-growth, and change in the P/Sales valuation ratio. (You could instead use earnings-growth or book-value growth, and the P/E or P/Book valuation ratios.) If we can predict the future dividend, sales-growth and P/Sales ratio, then we can predict the future stock-return.\n",
    "\n",
    "When making scatter-plots of historical P/Sales ratios versus long-term stock-returns, we often see a particular downwards-sloping curve, and it turns out there is a certain formula for this curve, which is derived from the mathematical definition of Annualized Return, see [here](https://github.com/Hvass-Labs/FinanceOps/blob/master/01C_Theory_of_Long-Term_Stock_Forecasting.ipynb). The formula takes as input the average dividend yield, sales-growth and P/Sales ratios that you predict for the future, and produces a curve that can be used to predict future stock-returns from these 3 factors and the P/Sales ratio today. The accuracy of the prediction depends on how well you have predicted these 3 factors.\n",
    "\n",
    "Machine Learning cannot uncover and explain such relations, whether it is the Law of Gravity, or the formula for long-term stock-returns. Human reasoning is still needed for this."
   ]
  },
  {
   "cell_type": "markdown",
   "metadata": {},
   "source": [
    "## License (MIT)\n",
    "\n",
    "This is published under the\n",
    "[MIT License](https://github.com/simfin/simfin-tutorials/blob/master/LICENSE.txt)\n",
    "which allows very broad use for both academic and commercial purposes.\n",
    "\n",
    "You are very welcome to modify and use this source-code in your own project. Please keep a link to the [original repository](https://github.com/simfin/simfin-tutorials).\n"
   ]
  }
 ],
 "metadata": {
  "kernelspec": {
   "display_name": "Python 3",
   "language": "python",
   "name": "python3"
  },
  "language_info": {
   "codemirror_mode": {
    "name": "ipython",
    "version": 3
   },
   "file_extension": ".py",
   "mimetype": "text/x-python",
   "name": "python",
   "nbconvert_exporter": "python",
   "pygments_lexer": "ipython3",
   "version": "3.7.8"
  }
 },
 "nbformat": 4,
 "nbformat_minor": 2
}
