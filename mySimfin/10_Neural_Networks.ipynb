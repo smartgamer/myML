{
 "cells": [
  {
   "cell_type": "markdown",
   "metadata": {},
   "source": [
    "# SimFin Tutorial 10 - Neural Networks\n",
    "\n",
    "[Original repository on GitHub](https://github.com/simfin/simfin-tutorials)\n",
    "\n",
    "This tutorial was originally written by [Hvass Labs](https://github.com/Hvass-Labs)\n",
    "\n",
    "----\n",
    "\n",
    "\"The attackers can be stopped by removing the head or destroying the brain.\" &ndash; [Shaun of The Dead](https://www.youtube.com/watch?v=ONEZfj6h1xc)"
   ]
  },
  {
   "cell_type": "markdown",
   "metadata": {},
   "source": [
    "## Introduction\n",
    "\n",
    "In the previous tutorial we used a Machine Learning (ML) model to try and predict future stock-returns for 1-3 year investment periods given various signals. This worked quite well on the training-set, but unfortunately it failed to generalize to the test-set.\n",
    "\n",
    "In this tutorial we will use a so-called Neural Network, which has become very fashionable in recent years, because they have been able to solve extremely hard problems, that were previously impossible to solve.\n",
    "\n",
    "Unfortunately, Neural Networks have become so hyped, that people sometimes misunderstand what they really are: A Neural Network is just a function approximator that maps some input x (e.g. signals) to some output y (e.g. stock-returns). It consists of a number of layers of both linear and non-linear mappings, whose parameters will be learned during the training process, so it learns to map from x to y in the training-set, and the learned mapping hopefully generalizes to new data.\n",
    "\n",
    "In theory, a Neural Network is capable of approximating any function to any desired degree of precision - but what is truly important, is not how well it performs on the training-set, but how well it performs on new data that it has not seen during the training.\n",
    "\n",
    "This tutorial shows how to use financial data from SimFin with the TensorFlow library for creating Neural Networks. It is assumed you are already familiar with both."
   ]
  },
  {
   "cell_type": "markdown",
   "metadata": {},
   "source": [
    "## Imports"
   ]
  },
  {
   "cell_type": "code",
   "execution_count": 1,
   "metadata": {},
   "outputs": [],
   "source": [
    "%matplotlib inline\n",
    "import pandas as pd\n",
    "import numpy as np\n",
    "import seaborn as sns\n",
    "\n",
    "# TensorFlow and Keras imports.\n",
    "import tensorflow as tf\n",
    "from tensorflow import keras\n",
    "from tensorflow.keras import Sequential\n",
    "from tensorflow.keras.optimizers import RMSprop\n",
    "from tensorflow.keras.layers import Dense, InputLayer\n",
    "from tensorflow.keras.utils import to_categorical\n",
    "\n",
    "# Scikit-learn imports.\n",
    "from sklearn.model_selection import train_test_split\n",
    "from sklearn.metrics import confusion_matrix\n",
    "from sklearn.metrics import r2_score, accuracy_score\n",
    "from sklearn.preprocessing import StandardScaler\n",
    "from sklearn.utils.class_weight import compute_class_weight\n",
    "\n",
    "# Import the main functionality from the SimFin Python API.\n",
    "import simfin as sf\n",
    "\n",
    "# Import names used for easy access to SimFin's data-columns.\n",
    "from simfin.names import *"
   ]
  },
  {
   "cell_type": "code",
   "execution_count": 2,
   "metadata": {},
   "outputs": [
    {
     "data": {
      "text/plain": [
       "'0.8.3'"
      ]
     },
     "execution_count": 2,
     "metadata": {},
     "output_type": "execute_result"
    }
   ],
   "source": [
    "# Version of the SimFin Python API.\n",
    "sf.__version__"
   ]
  },
  {
   "cell_type": "code",
   "execution_count": 3,
   "metadata": {},
   "outputs": [
    {
     "data": {
      "text/plain": [
       "'2.1.0'"
      ]
     },
     "execution_count": 3,
     "metadata": {},
     "output_type": "execute_result"
    }
   ],
   "source": [
    "# TensorFlow version.\n",
    "tf.__version__"
   ]
  },
  {
   "cell_type": "markdown",
   "metadata": {},
   "source": [
    "## SimFin Config"
   ]
  },
  {
   "cell_type": "code",
   "execution_count": 4,
   "metadata": {},
   "outputs": [],
   "source": [
    "# SimFin data-directory.\n",
    "sf.set_data_dir('~/simfin_data/')"
   ]
  },
  {
   "cell_type": "code",
   "execution_count": 5,
   "metadata": {},
   "outputs": [],
   "source": [
    "# SimFin load API key or use free data.\n",
    "sf.load_api_key(path='~/simfin_api_key.txt', default_key='free')"
   ]
  },
  {
   "cell_type": "code",
   "execution_count": 6,
   "metadata": {},
   "outputs": [],
   "source": [
    "# Seaborn set plotting style.\n",
    "sns.set_style(\"whitegrid\")"
   ]
  },
  {
   "cell_type": "markdown",
   "metadata": {},
   "source": [
    "## Data Hub\n",
    "\n",
    "We use a `StockHub` object to easily load and process financial data with these settings:"
   ]
  },
  {
   "cell_type": "code",
   "execution_count": 7,
   "metadata": {},
   "outputs": [],
   "source": [
    "# We are interested in the US stock-market.\n",
    "market = 'us'\n",
    "\n",
    "# Add this date-offset to the fundamental data such as\n",
    "# Income Statements etc., because the REPORT_DATE is not\n",
    "# when it was actually made available to the public,\n",
    "# which can be 1, 2 or even 3 months after the Report Date.\n",
    "offset = pd.DateOffset(days=60)\n",
    "\n",
    "# Refresh the fundamental datasets (Income Statements etc.)\n",
    "# every 30 days.\n",
    "refresh_days = 30\n",
    "\n",
    "# Refresh the dataset with shareprices every 10 days.\n",
    "refresh_days_shareprices = 10"
   ]
  },
  {
   "cell_type": "code",
   "execution_count": 8,
   "metadata": {},
   "outputs": [
    {
     "name": "stdout",
     "output_type": "stream",
     "text": [
      "CPU times: user 9 µs, sys: 2 µs, total: 11 µs\n",
      "Wall time: 13.1 µs\n"
     ]
    }
   ],
   "source": [
    "%%time\n",
    "hub = sf.StockHub(market=market, offset=offset,\n",
    "                  refresh_days=refresh_days,\n",
    "                  refresh_days_shareprices=refresh_days_shareprices)"
   ]
  },
  {
   "cell_type": "markdown",
   "metadata": {},
   "source": [
    "## Signals\n",
    "\n",
    "First we calculate financial signals for the stocks, such as the Current Ratio, Debt Ratio, Net Profit Margin, Return on Assets, etc. These are calculated using data from the financial reports: Income Statements, Balance Sheets and Cash-Flow Statements, which are automatically downloaded and loaded by the data-hub."
   ]
  },
  {
   "cell_type": "code",
   "execution_count": 9,
   "metadata": {},
   "outputs": [
    {
     "name": "stdout",
     "output_type": "stream",
     "text": [
      "Dataset \"us-income-ttm\" on disk (0 days old).\n",
      "- Loading from disk ... Done!\n",
      "Dataset \"us-balance-ttm\" on disk (0 days old).\n",
      "- Loading from disk ... Done!\n",
      "Dataset \"us-cashflow-ttm\" on disk (0 days old).\n",
      "- Loading from disk ... Done!\n",
      "Dataset \"us-shareprices-daily\" on disk (0 days old).\n",
      "- Loading from disk ... Done!\n",
      "Cache-file 'fin_signals-2a38bb7d.pickle' on disk (0 days old).\n",
      "- Loading from disk ... Done!\n",
      "CPU times: user 14.9 s, sys: 2.94 s, total: 17.8 s\n",
      "Wall time: 47.3 s\n"
     ]
    }
   ],
   "source": [
    "%%time\n",
    "df_fin_signals = hub.fin_signals(variant='daily')"
   ]
  },
  {
   "cell_type": "markdown",
   "metadata": {},
   "source": [
    "Now we calculate growth signals for the stocks, such as Earnings Growth, FCF Growth, Sales Growth, etc. These are also calculated using data from the financial reports: Income Statements, Balance Sheets and Cash-Flow Statements, which are automatically downloaded and loaded by the data-hub."
   ]
  },
  {
   "cell_type": "code",
   "execution_count": 10,
   "metadata": {},
   "outputs": [
    {
     "name": "stdout",
     "output_type": "stream",
     "text": [
      "Dataset \"us-income-quarterly\" on disk (0 days old).\n",
      "- Loading from disk ... Done!\n",
      "Dataset \"us-balance-quarterly\" on disk (0 days old).\n",
      "- Loading from disk ... Done!\n",
      "Dataset \"us-cashflow-quarterly\" on disk (0 days old).\n",
      "- Loading from disk ... Done!\n",
      "Cache-file 'growth_signals-2a38bb7d.pickle' on disk (0 days old).\n",
      "- Loading from disk ... Done!\n",
      "CPU times: user 1.46 s, sys: 1.3 s, total: 2.76 s\n",
      "Wall time: 25.6 s\n"
     ]
    }
   ],
   "source": [
    "%%time\n",
    "df_growth_signals = hub.growth_signals(variant='daily')"
   ]
  },
  {
   "cell_type": "markdown",
   "metadata": {},
   "source": [
    "Now we calculate valuation signals for the stocks, such as P/E, P/Sales, etc. These are calculated from the share-prices and data from the financial reports. Because the data-hub has already loaded the required datasets in the function-calls above, the data is merely reused here, and the data-hub can proceed directly to computing the signals."
   ]
  },
  {
   "cell_type": "code",
   "execution_count": 11,
   "metadata": {},
   "outputs": [
    {
     "name": "stdout",
     "output_type": "stream",
     "text": [
      "Cache-file 'val_signals-739b68a6.pickle' on disk (0 days old).\n",
      "- Loading from disk ... Done!\n",
      "CPU times: user 227 ms, sys: 1.33 s, total: 1.56 s\n",
      "Wall time: 16.5 s\n"
     ]
    }
   ],
   "source": [
    "%%time\n",
    "df_val_signals = hub.val_signals(variant='daily')"
   ]
  },
  {
   "cell_type": "markdown",
   "metadata": {},
   "source": [
    "We now combine all the signals into a single DataFrame:"
   ]
  },
  {
   "cell_type": "code",
   "execution_count": 12,
   "metadata": {},
   "outputs": [
    {
     "name": "stdout",
     "output_type": "stream",
     "text": [
      "CPU times: user 2.26 s, sys: 455 ms, total: 2.72 s\n",
      "Wall time: 2.72 s\n"
     ]
    }
   ],
   "source": [
    "%%time\n",
    "# Combine the DataFrames.\n",
    "dfs = [df_fin_signals, df_growth_signals, df_val_signals]\n",
    "df_signals = pd.concat(dfs, axis=1)"
   ]
  },
  {
   "cell_type": "markdown",
   "metadata": {},
   "source": [
    "We can then show the results:"
   ]
  },
  {
   "cell_type": "code",
   "execution_count": 13,
   "metadata": {
    "scrolled": true
   },
   "outputs": [
    {
     "data": {
      "text/html": [
       "<div>\n",
       "<style scoped>\n",
       "    .dataframe tbody tr th:only-of-type {\n",
       "        vertical-align: middle;\n",
       "    }\n",
       "\n",
       "    .dataframe tbody tr th {\n",
       "        vertical-align: top;\n",
       "    }\n",
       "\n",
       "    .dataframe thead th {\n",
       "        text-align: right;\n",
       "    }\n",
       "</style>\n",
       "<table border=\"1\" class=\"dataframe\">\n",
       "  <thead>\n",
       "    <tr style=\"text-align: right;\">\n",
       "      <th></th>\n",
       "      <th></th>\n",
       "      <th>(Dividends + Share Buyback) / FCF</th>\n",
       "      <th>Asset Turnover</th>\n",
       "      <th>CapEx / (Depr + Amor)</th>\n",
       "      <th>Current Ratio</th>\n",
       "      <th>Debt Ratio</th>\n",
       "      <th>Dividends / FCF</th>\n",
       "      <th>Gross Profit Margin</th>\n",
       "      <th>Interest Coverage</th>\n",
       "      <th>Inventory Turnover</th>\n",
       "      <th>Log Revenue</th>\n",
       "      <th>...</th>\n",
       "      <th>Earnings Yield</th>\n",
       "      <th>FCF Yield</th>\n",
       "      <th>Market-Cap</th>\n",
       "      <th>P/Cash</th>\n",
       "      <th>P/E</th>\n",
       "      <th>P/FCF</th>\n",
       "      <th>P/NCAV</th>\n",
       "      <th>P/NetNet</th>\n",
       "      <th>P/Sales</th>\n",
       "      <th>Price to Book Value</th>\n",
       "    </tr>\n",
       "    <tr>\n",
       "      <th>Ticker</th>\n",
       "      <th>Date</th>\n",
       "      <th></th>\n",
       "      <th></th>\n",
       "      <th></th>\n",
       "      <th></th>\n",
       "      <th></th>\n",
       "      <th></th>\n",
       "      <th></th>\n",
       "      <th></th>\n",
       "      <th></th>\n",
       "      <th></th>\n",
       "      <th></th>\n",
       "      <th></th>\n",
       "      <th></th>\n",
       "      <th></th>\n",
       "      <th></th>\n",
       "      <th></th>\n",
       "      <th></th>\n",
       "      <th></th>\n",
       "      <th></th>\n",
       "      <th></th>\n",
       "      <th></th>\n",
       "    </tr>\n",
       "  </thead>\n",
       "  <tbody>\n",
       "    <tr>\n",
       "      <th rowspan=\"5\" valign=\"top\">A</th>\n",
       "      <th>2010-09-29</th>\n",
       "      <td>0.171492</td>\n",
       "      <td>0.553297</td>\n",
       "      <td>0.622857</td>\n",
       "      <td>1.966061</td>\n",
       "      <td>0.404176</td>\n",
       "      <td>-0.0</td>\n",
       "      <td>0.542205</td>\n",
       "      <td>5.636364</td>\n",
       "      <td>7.318314</td>\n",
       "      <td>9.701999</td>\n",
       "      <td>...</td>\n",
       "      <td>0.036491</td>\n",
       "      <td>0.039291</td>\n",
       "      <td>1.142744e+10</td>\n",
       "      <td>4.931996</td>\n",
       "      <td>27.403921</td>\n",
       "      <td>25.450857</td>\n",
       "      <td>-20.589973</td>\n",
       "      <td>-3.763357</td>\n",
       "      <td>2.269600</td>\n",
       "      <td>4.066703</td>\n",
       "    </tr>\n",
       "    <tr>\n",
       "      <th>2010-09-30</th>\n",
       "      <td>0.171492</td>\n",
       "      <td>0.553297</td>\n",
       "      <td>0.622857</td>\n",
       "      <td>1.966061</td>\n",
       "      <td>0.404176</td>\n",
       "      <td>-0.0</td>\n",
       "      <td>0.542205</td>\n",
       "      <td>5.636364</td>\n",
       "      <td>7.318314</td>\n",
       "      <td>9.701999</td>\n",
       "      <td>...</td>\n",
       "      <td>0.035627</td>\n",
       "      <td>0.038361</td>\n",
       "      <td>1.170453e+10</td>\n",
       "      <td>5.051587</td>\n",
       "      <td>28.068411</td>\n",
       "      <td>26.067990</td>\n",
       "      <td>-21.089239</td>\n",
       "      <td>-3.854611</td>\n",
       "      <td>2.324633</td>\n",
       "      <td>4.165312</td>\n",
       "    </tr>\n",
       "    <tr>\n",
       "      <th>2010-10-01</th>\n",
       "      <td>0.171492</td>\n",
       "      <td>0.553297</td>\n",
       "      <td>0.622857</td>\n",
       "      <td>1.966061</td>\n",
       "      <td>0.404176</td>\n",
       "      <td>-0.0</td>\n",
       "      <td>0.542205</td>\n",
       "      <td>5.636364</td>\n",
       "      <td>7.318314</td>\n",
       "      <td>9.701999</td>\n",
       "      <td>...</td>\n",
       "      <td>0.035247</td>\n",
       "      <td>0.037952</td>\n",
       "      <td>1.183080e+10</td>\n",
       "      <td>5.106084</td>\n",
       "      <td>28.371217</td>\n",
       "      <td>26.349215</td>\n",
       "      <td>-21.316752</td>\n",
       "      <td>-3.896195</td>\n",
       "      <td>2.349712</td>\n",
       "      <td>4.210248</td>\n",
       "    </tr>\n",
       "    <tr>\n",
       "      <th>2010-10-04</th>\n",
       "      <td>0.171492</td>\n",
       "      <td>0.553297</td>\n",
       "      <td>0.622857</td>\n",
       "      <td>1.966061</td>\n",
       "      <td>0.404176</td>\n",
       "      <td>-0.0</td>\n",
       "      <td>0.542205</td>\n",
       "      <td>5.636364</td>\n",
       "      <td>7.318314</td>\n",
       "      <td>9.701999</td>\n",
       "      <td>...</td>\n",
       "      <td>0.036480</td>\n",
       "      <td>0.039279</td>\n",
       "      <td>1.143094e+10</td>\n",
       "      <td>4.933510</td>\n",
       "      <td>27.412332</td>\n",
       "      <td>25.458669</td>\n",
       "      <td>-20.596293</td>\n",
       "      <td>-3.764513</td>\n",
       "      <td>2.270296</td>\n",
       "      <td>4.067951</td>\n",
       "    </tr>\n",
       "    <tr>\n",
       "      <th>2010-10-05</th>\n",
       "      <td>0.171492</td>\n",
       "      <td>0.553297</td>\n",
       "      <td>0.622857</td>\n",
       "      <td>1.966061</td>\n",
       "      <td>0.404176</td>\n",
       "      <td>-0.0</td>\n",
       "      <td>0.542205</td>\n",
       "      <td>5.636364</td>\n",
       "      <td>7.318314</td>\n",
       "      <td>9.701999</td>\n",
       "      <td>...</td>\n",
       "      <td>0.035983</td>\n",
       "      <td>0.038744</td>\n",
       "      <td>1.158878e+10</td>\n",
       "      <td>5.001631</td>\n",
       "      <td>27.790839</td>\n",
       "      <td>25.810200</td>\n",
       "      <td>-20.880685</td>\n",
       "      <td>-3.816493</td>\n",
       "      <td>2.301644</td>\n",
       "      <td>4.124121</td>\n",
       "    </tr>\n",
       "  </tbody>\n",
       "</table>\n",
       "<p>5 rows × 42 columns</p>\n",
       "</div>"
      ],
      "text/plain": [
       "                   (Dividends + Share Buyback) / FCF  Asset Turnover  \\\n",
       "Ticker Date                                                            \n",
       "A      2010-09-29                           0.171492        0.553297   \n",
       "       2010-09-30                           0.171492        0.553297   \n",
       "       2010-10-01                           0.171492        0.553297   \n",
       "       2010-10-04                           0.171492        0.553297   \n",
       "       2010-10-05                           0.171492        0.553297   \n",
       "\n",
       "                   CapEx / (Depr + Amor)  Current Ratio  Debt Ratio  \\\n",
       "Ticker Date                                                           \n",
       "A      2010-09-29               0.622857       1.966061    0.404176   \n",
       "       2010-09-30               0.622857       1.966061    0.404176   \n",
       "       2010-10-01               0.622857       1.966061    0.404176   \n",
       "       2010-10-04               0.622857       1.966061    0.404176   \n",
       "       2010-10-05               0.622857       1.966061    0.404176   \n",
       "\n",
       "                   Dividends / FCF  Gross Profit Margin  Interest Coverage  \\\n",
       "Ticker Date                                                                  \n",
       "A      2010-09-29             -0.0             0.542205           5.636364   \n",
       "       2010-09-30             -0.0             0.542205           5.636364   \n",
       "       2010-10-01             -0.0             0.542205           5.636364   \n",
       "       2010-10-04             -0.0             0.542205           5.636364   \n",
       "       2010-10-05             -0.0             0.542205           5.636364   \n",
       "\n",
       "                   Inventory Turnover  Log Revenue  ...  Earnings Yield  \\\n",
       "Ticker Date                                         ...                   \n",
       "A      2010-09-29            7.318314     9.701999  ...        0.036491   \n",
       "       2010-09-30            7.318314     9.701999  ...        0.035627   \n",
       "       2010-10-01            7.318314     9.701999  ...        0.035247   \n",
       "       2010-10-04            7.318314     9.701999  ...        0.036480   \n",
       "       2010-10-05            7.318314     9.701999  ...        0.035983   \n",
       "\n",
       "                   FCF Yield    Market-Cap    P/Cash        P/E      P/FCF  \\\n",
       "Ticker Date                                                                  \n",
       "A      2010-09-29   0.039291  1.142744e+10  4.931996  27.403921  25.450857   \n",
       "       2010-09-30   0.038361  1.170453e+10  5.051587  28.068411  26.067990   \n",
       "       2010-10-01   0.037952  1.183080e+10  5.106084  28.371217  26.349215   \n",
       "       2010-10-04   0.039279  1.143094e+10  4.933510  27.412332  25.458669   \n",
       "       2010-10-05   0.038744  1.158878e+10  5.001631  27.790839  25.810200   \n",
       "\n",
       "                      P/NCAV  P/NetNet   P/Sales  Price to Book Value  \n",
       "Ticker Date                                                            \n",
       "A      2010-09-29 -20.589973 -3.763357  2.269600             4.066703  \n",
       "       2010-09-30 -21.089239 -3.854611  2.324633             4.165312  \n",
       "       2010-10-01 -21.316752 -3.896195  2.349712             4.210248  \n",
       "       2010-10-04 -20.596293 -3.764513  2.270296             4.067951  \n",
       "       2010-10-05 -20.880685 -3.816493  2.301644             4.124121  \n",
       "\n",
       "[5 rows x 42 columns]"
      ]
     },
     "execution_count": 13,
     "metadata": {},
     "output_type": "execute_result"
    }
   ],
   "source": [
    "df_signals.dropna(how='all').head()"
   ]
  },
  {
   "cell_type": "markdown",
   "metadata": {},
   "source": [
    "## Missing Data\n",
    "\n",
    "Some of the signals have a lot of missing data which cannot be handled by TensorFlow. Let us first see the fraction of each signal-column that is missing:"
   ]
  },
  {
   "cell_type": "code",
   "execution_count": 14,
   "metadata": {},
   "outputs": [
    {
     "data": {
      "text/plain": [
       "R&D / Gross Profit                   0.649276\n",
       "Return on Research Capital           0.649276\n",
       "R&D / Revenue                        0.614202\n",
       "Dividend Yield                       0.438901\n",
       "Inventory Turnover                   0.290166\n",
       "Debt Ratio                           0.262063\n",
       "Net Acquisitions / Total Assets      0.257896\n",
       "Sales Growth                         0.147292\n",
       "Sales Growth YOY                     0.144781\n",
       "FCF Growth                           0.135264\n",
       "Assets Growth                        0.135264\n",
       "Earnings Growth                      0.135264\n",
       "FCF Growth YOY                       0.133461\n",
       "Earnings Growth YOY                  0.133446\n",
       "Assets Growth YOY                    0.133446\n",
       "Interest Coverage                    0.097272\n",
       "Gross Profit Margin                  0.094301\n",
       "Sales Growth QOQ                     0.053825\n",
       "FCF Growth QOQ                       0.040359\n",
       "Earnings Growth QOQ                  0.040359\n",
       "Assets Growth QOQ                    0.040359\n",
       "CapEx / (Depr + Amor)                0.038557\n",
       "P/Sales                              0.028200\n",
       "Log Revenue                          0.020019\n",
       "Asset Turnover                       0.019926\n",
       "Net Profit Margin                    0.019926\n",
       "P/Cash                               0.019259\n",
       "Price to Book Value                  0.018029\n",
       "Earnings Yield                       0.018029\n",
       "FCF Yield                            0.018029\n",
       "Market-Cap                           0.018029\n",
       "P/E                                  0.018029\n",
       "P/FCF                                0.018029\n",
       "P/NCAV                               0.018029\n",
       "P/NetNet                             0.018029\n",
       "Quick Ratio                          0.010978\n",
       "Return on Assets                     0.009747\n",
       "Return on Equity                     0.009747\n",
       "Share Buyback / FCF                  0.009747\n",
       "Dividends / FCF                      0.009747\n",
       "Current Ratio                        0.009747\n",
       "(Dividends + Share Buyback) / FCF    0.009747\n",
       "dtype: float64"
      ]
     },
     "execution_count": 14,
     "metadata": {},
     "output_type": "execute_result"
    }
   ],
   "source": [
    "# Remove all rows with only NaN values.\n",
    "df = df_signals.dropna(how='all').reset_index(drop=True)\n",
    "\n",
    "# For each column, show the fraction of the rows that are NaN.\n",
    "(df.isnull().sum() / len(df)).sort_values(ascending=False)"
   ]
  },
  {
   "cell_type": "markdown",
   "metadata": {},
   "source": [
    "Let us remove all signals that have more than 25% missing data:"
   ]
  },
  {
   "cell_type": "code",
   "execution_count": 15,
   "metadata": {},
   "outputs": [
    {
     "data": {
      "text/plain": [
       "Index(['Debt Ratio', 'Dividend Yield', 'Inventory Turnover',\n",
       "       'Net Acquisitions / Total Assets', 'R&D / Gross Profit',\n",
       "       'R&D / Revenue', 'Return on Research Capital'],\n",
       "      dtype='object')"
      ]
     },
     "execution_count": 15,
     "metadata": {},
     "output_type": "execute_result"
    }
   ],
   "source": [
    "# List of the columns before removing any.\n",
    "columns_before = df_signals.columns\n",
    "\n",
    "# Threshold for the number of rows that must be NaN for each column.\n",
    "thresh = 0.75 * len(df_signals.dropna(how='all'))\n",
    "\n",
    "# Remove all columns which don't have sufficient data.\n",
    "df_signals = df_signals.dropna(axis='columns', thresh=thresh)\n",
    "\n",
    "# List of the columns after the removal.\n",
    "columns_after = df_signals.columns\n",
    "\n",
    "# Show the columns that were removed.\n",
    "columns_before.difference(columns_after)"
   ]
  },
  {
   "cell_type": "markdown",
   "metadata": {},
   "source": [
    "## 1-3 Year Returns\n",
    "\n",
    "We want to try and predict the average 1-3 year returns. We will actually consider the mean log-returns, because that is easier to calculate, but the result is nearly the same as the non-log mean returns."
   ]
  },
  {
   "cell_type": "code",
   "execution_count": 16,
   "metadata": {},
   "outputs": [],
   "source": [
    "# Name of the new column for the returns.\n",
    "TOTAL_RETURN_1_3Y = 'Total Return 1-3 Years'"
   ]
  },
  {
   "cell_type": "code",
   "execution_count": 17,
   "metadata": {},
   "outputs": [
    {
     "name": "stdout",
     "output_type": "stream",
     "text": [
      "Cache-file 'mean_log_change-5cec82bd.pickle' on disk (0 days old).\n",
      "- Loading from disk ... Done!\n",
      "CPU times: user 78.5 ms, sys: 76.9 ms, total: 155 ms\n",
      "Wall time: 153 ms\n"
     ]
    }
   ],
   "source": [
    "%%time\n",
    "# Calculate the mean log-returns for all 1-3 year periods.\n",
    "df_returns_1_3y = \\\n",
    "    hub.mean_log_returns(name=TOTAL_RETURN_1_3Y,\n",
    "                         future=True, annualized=True,\n",
    "                         min_years=1, max_years=3)"
   ]
  },
  {
   "cell_type": "markdown",
   "metadata": {},
   "source": [
    "## Combine Signals & Returns\n",
    "\n",
    "We then combine the signals and returns into a single DataFrame to align the data."
   ]
  },
  {
   "cell_type": "code",
   "execution_count": 18,
   "metadata": {},
   "outputs": [
    {
     "name": "stdout",
     "output_type": "stream",
     "text": [
      "CPU times: user 1.42 s, sys: 312 ms, total: 1.73 s\n",
      "Wall time: 1.73 s\n"
     ]
    }
   ],
   "source": [
    "%%time\n",
    "dfs = [df_signals, df_returns_1_3y]\n",
    "df_sig_rets = pd.concat(dfs, axis=1)"
   ]
  },
  {
   "cell_type": "markdown",
   "metadata": {},
   "source": [
    "## Data Cleaning\n",
    "\n",
    "The data also contains outliers and still has missing values, so let us fix that now. A common method for removing outliers is so-called *Winsorization* of the data. It basically just limits or clips the data between e.g. the 5% and 95% quantiles of the data. We will Winsorize both the stock-returns and all the signals. Then we remove all rows with missing values, and finally we remove tickers that have less than 200 rows of data.\n",
    "\n",
    "There are more than 5 million data-rows before this cleaning:"
   ]
  },
  {
   "cell_type": "code",
   "execution_count": 19,
   "metadata": {
    "scrolled": true
   },
   "outputs": [
    {
     "data": {
      "text/plain": [
       "(7113810, 36)"
      ]
     },
     "execution_count": 19,
     "metadata": {},
     "output_type": "execute_result"
    }
   ],
   "source": [
    "df_sig_rets.shape"
   ]
  },
  {
   "cell_type": "code",
   "execution_count": 20,
   "metadata": {},
   "outputs": [
    {
     "name": "stdout",
     "output_type": "stream",
     "text": [
      "CPU times: user 13.8 s, sys: 4.99 s, total: 18.7 s\n",
      "Wall time: 13.9 s\n"
     ]
    }
   ],
   "source": [
    "%%time\n",
    "\n",
    "# Clip both the signals and returns at their 5% and 95% quantiles.\n",
    "# We do not set them to NaN because it would remove too much data.\n",
    "df_sig_rets = sf.winsorize(df_sig_rets)\n",
    "\n",
    "# Remove all rows with missing values (NaN)\n",
    "# because TensorFlow cannot handle that.\n",
    "df_sig_rets = df_sig_rets.dropna(how='any')\n",
    "\n",
    "# Remove all tickers which have less than 200 data-rows.\n",
    "df_sig_rets = df_sig_rets.groupby(TICKER) \\\n",
    "                .filter(lambda df: len(df)>200)"
   ]
  },
  {
   "cell_type": "markdown",
   "metadata": {},
   "source": [
    "This data-cleaning has removed about 80% of the rows, which is a lot:"
   ]
  },
  {
   "cell_type": "code",
   "execution_count": 21,
   "metadata": {},
   "outputs": [
    {
     "data": {
      "text/plain": [
       "(1739795, 36)"
      ]
     },
     "execution_count": 21,
     "metadata": {},
     "output_type": "execute_result"
    }
   ],
   "source": [
    "df_sig_rets.shape"
   ]
  },
  {
   "cell_type": "markdown",
   "metadata": {},
   "source": [
    "The reason that so many rows have been removed, is that TensorFlow cannot handle rows with missing values (NaN). Some missing values could be set to a default value, e.g. the Dividend Yield could be set to 0. Other columns could be omitted because they don't have any predictive power anyway."
   ]
  },
  {
   "cell_type": "markdown",
   "metadata": {},
   "source": [
    "## Split Training / Test-Sets\n",
    "\n",
    "When training a Machine Learning model, we typically split the dataset into training- and test-sets. Only the training-set is used to train the model, after which the model is used on the test-set, to assess how the model performs on data it has not seen during training.\n",
    "\n",
    "If we randomly divide all the data-rows into training- and test-sets, we would most likely get data for every stock-ticker in both the training- and test-sets, which would probably make them highly correlated. To avoid this, we split the dataset according to stock-tickers, so a ticker belongs to either the training- or test-set, but not both. We use 80% of all the tickers in the training-set, and 20% in the test-set."
   ]
  },
  {
   "cell_type": "code",
   "execution_count": 22,
   "metadata": {},
   "outputs": [],
   "source": [
    "# List of all unique stock-tickers in the dataset.\n",
    "tickers = df_sig_rets.reset_index()[TICKER].unique()\n",
    "\n",
    "# Split the tickers into training- and test-sets.\n",
    "tickers_train, tickers_test = \\\n",
    "    train_test_split(tickers, train_size=0.8, random_state=1234)"
   ]
  },
  {
   "cell_type": "markdown",
   "metadata": {},
   "source": [
    "Now that we have lists of tickers for the training- and test-sets, we can select those rows from the DataFrame with signals and stock-returns:"
   ]
  },
  {
   "cell_type": "code",
   "execution_count": 23,
   "metadata": {
    "scrolled": true
   },
   "outputs": [
    {
     "name": "stdout",
     "output_type": "stream",
     "text": [
      "CPU times: user 104 ms, sys: 52.1 ms, total: 157 ms\n",
      "Wall time: 155 ms\n"
     ]
    }
   ],
   "source": [
    "%%time\n",
    "df_train = df_sig_rets.loc[tickers_train]\n",
    "df_test = df_sig_rets.loc[tickers_test]"
   ]
  },
  {
   "cell_type": "markdown",
   "metadata": {},
   "source": [
    "We can then split these DataFrames into signals X and stock-returns y, that the Machine Learning model must try and find a mapping between. We use a common notation where the capital X indicates a 2-dimensional array or matrix, and the lower-case y indicates a 1-dimensional array."
   ]
  },
  {
   "cell_type": "code",
   "execution_count": 24,
   "metadata": {},
   "outputs": [],
   "source": [
    "# DataFrames with signals for training- and test-sets.\n",
    "X_train = df_train.drop(columns=[TOTAL_RETURN_1_3Y])\n",
    "X_test = df_test.drop(columns=[TOTAL_RETURN_1_3Y])\n",
    "\n",
    "# DataFrames with returns for training- and test-sets.\n",
    "y_train = df_train[TOTAL_RETURN_1_3Y]\n",
    "y_test = df_test[TOTAL_RETURN_1_3Y]"
   ]
  },
  {
   "cell_type": "markdown",
   "metadata": {},
   "source": [
    "Let us check that the shapes of these arrays look reasonable:"
   ]
  },
  {
   "cell_type": "code",
   "execution_count": 25,
   "metadata": {},
   "outputs": [
    {
     "data": {
      "text/plain": [
       "((1382785, 35), (1382785,))"
      ]
     },
     "execution_count": 25,
     "metadata": {},
     "output_type": "execute_result"
    }
   ],
   "source": [
    "X_train.shape, y_train.shape"
   ]
  },
  {
   "cell_type": "code",
   "execution_count": 26,
   "metadata": {},
   "outputs": [
    {
     "data": {
      "text/plain": [
       "((357010, 35), (357010,))"
      ]
     },
     "execution_count": 26,
     "metadata": {},
     "output_type": "execute_result"
    }
   ],
   "source": [
    "X_test.shape, y_test.shape"
   ]
  },
  {
   "cell_type": "markdown",
   "metadata": {},
   "source": [
    "Let us also get the number of signals, which will be convenient later:"
   ]
  },
  {
   "cell_type": "code",
   "execution_count": 27,
   "metadata": {},
   "outputs": [
    {
     "data": {
      "text/plain": [
       "35"
      ]
     },
     "execution_count": 27,
     "metadata": {},
     "output_type": "execute_result"
    }
   ],
   "source": [
    "num_signals = X_train.shape[1]\n",
    "num_signals"
   ]
  },
  {
   "cell_type": "markdown",
   "metadata": {},
   "source": [
    "## Scale Signals\n",
    "\n",
    "Neural Networks require that the input has \"moderate\" values e.g. between 0 and 1, or mean 0 and 1 standard deviation, which is the method we use here. It is not necessary to scale the stock-returns because they have already been Winsorized to remove outliers, and they are centered around 0 with a small standard deviation.\n",
    "\n",
    "If you want to input new data to the Neural Network, then you have to run the signals through the scaler first, because the Neural Network has been tuned to the scaled signals."
   ]
  },
  {
   "cell_type": "code",
   "execution_count": 28,
   "metadata": {},
   "outputs": [],
   "source": [
    "# Create a scaler and fit it to the signals in the training-data.\n",
    "signal_scaler = StandardScaler()\n",
    "signal_scaler.fit(X_train)\n",
    "\n",
    "def scale_signal(df):\n",
    "    \"\"\"Apply the signal-scaler to the given DataFrame.\"\"\"\n",
    "\n",
    "    # Apply the scaler. This returns a numpy array.\n",
    "    array = signal_scaler.transform(df)\n",
    "    \n",
    "    # Create a DataFrame with the correct column-names and index.\n",
    "    df_scaled = pd.DataFrame(data=array,\n",
    "                             columns=df.columns,\n",
    "                             index=df.index)\n",
    "    return df_scaled\n",
    "\n",
    "# Scale the signals in the training- and test-sets.\n",
    "X_train = scale_signal(X_train)\n",
    "X_test = scale_signal(X_test)"
   ]
  },
  {
   "cell_type": "markdown",
   "metadata": {},
   "source": [
    "Except for small rounding errors, the signals in the training-set now have 0 mean and 1 standard deviation:"
   ]
  },
  {
   "cell_type": "code",
   "execution_count": 29,
   "metadata": {},
   "outputs": [
    {
     "data": {
      "text/html": [
       "<div>\n",
       "<style scoped>\n",
       "    .dataframe tbody tr th:only-of-type {\n",
       "        vertical-align: middle;\n",
       "    }\n",
       "\n",
       "    .dataframe tbody tr th {\n",
       "        vertical-align: top;\n",
       "    }\n",
       "\n",
       "    .dataframe thead th {\n",
       "        text-align: right;\n",
       "    }\n",
       "</style>\n",
       "<table border=\"1\" class=\"dataframe\">\n",
       "  <thead>\n",
       "    <tr style=\"text-align: right;\">\n",
       "      <th></th>\n",
       "      <th>(Dividends + Share Buyback) / FCF</th>\n",
       "      <th>Asset Turnover</th>\n",
       "      <th>CapEx / (Depr + Amor)</th>\n",
       "      <th>Current Ratio</th>\n",
       "      <th>Dividends / FCF</th>\n",
       "      <th>Gross Profit Margin</th>\n",
       "      <th>Interest Coverage</th>\n",
       "      <th>Log Revenue</th>\n",
       "      <th>Net Profit Margin</th>\n",
       "      <th>Quick Ratio</th>\n",
       "      <th>...</th>\n",
       "      <th>Earnings Yield</th>\n",
       "      <th>FCF Yield</th>\n",
       "      <th>Market-Cap</th>\n",
       "      <th>P/Cash</th>\n",
       "      <th>P/E</th>\n",
       "      <th>P/FCF</th>\n",
       "      <th>P/NCAV</th>\n",
       "      <th>P/NetNet</th>\n",
       "      <th>P/Sales</th>\n",
       "      <th>Price to Book Value</th>\n",
       "    </tr>\n",
       "  </thead>\n",
       "  <tbody>\n",
       "    <tr>\n",
       "      <th>count</th>\n",
       "      <td>1.382785e+06</td>\n",
       "      <td>1.382785e+06</td>\n",
       "      <td>1.382785e+06</td>\n",
       "      <td>1.382785e+06</td>\n",
       "      <td>1.382785e+06</td>\n",
       "      <td>1.382785e+06</td>\n",
       "      <td>1.382785e+06</td>\n",
       "      <td>1.382785e+06</td>\n",
       "      <td>1.382785e+06</td>\n",
       "      <td>1.382785e+06</td>\n",
       "      <td>...</td>\n",
       "      <td>1.382785e+06</td>\n",
       "      <td>1.382785e+06</td>\n",
       "      <td>1.382785e+06</td>\n",
       "      <td>1.382785e+06</td>\n",
       "      <td>1.382785e+06</td>\n",
       "      <td>1.382785e+06</td>\n",
       "      <td>1.382785e+06</td>\n",
       "      <td>1.382785e+06</td>\n",
       "      <td>1.382785e+06</td>\n",
       "      <td>1.382785e+06</td>\n",
       "    </tr>\n",
       "    <tr>\n",
       "      <th>mean</th>\n",
       "      <td>1.881921e-16</td>\n",
       "      <td>-1.941938e-16</td>\n",
       "      <td>7.399426e-16</td>\n",
       "      <td>6.166188e-18</td>\n",
       "      <td>-9.833015e-17</td>\n",
       "      <td>3.612564e-16</td>\n",
       "      <td>-5.557791e-17</td>\n",
       "      <td>2.516463e-15</td>\n",
       "      <td>1.742976e-17</td>\n",
       "      <td>1.134579e-17</td>\n",
       "      <td>...</td>\n",
       "      <td>-8.953306e-17</td>\n",
       "      <td>-1.415757e-16</td>\n",
       "      <td>-3.490885e-16</td>\n",
       "      <td>-1.417401e-16</td>\n",
       "      <td>-2.982791e-16</td>\n",
       "      <td>3.196552e-16</td>\n",
       "      <td>3.354406e-17</td>\n",
       "      <td>-2.959770e-18</td>\n",
       "      <td>-9.717913e-17</td>\n",
       "      <td>2.787117e-16</td>\n",
       "    </tr>\n",
       "    <tr>\n",
       "      <th>std</th>\n",
       "      <td>1.000000e+00</td>\n",
       "      <td>1.000000e+00</td>\n",
       "      <td>1.000000e+00</td>\n",
       "      <td>1.000000e+00</td>\n",
       "      <td>1.000000e+00</td>\n",
       "      <td>1.000000e+00</td>\n",
       "      <td>1.000000e+00</td>\n",
       "      <td>1.000000e+00</td>\n",
       "      <td>1.000000e+00</td>\n",
       "      <td>1.000000e+00</td>\n",
       "      <td>...</td>\n",
       "      <td>1.000000e+00</td>\n",
       "      <td>1.000000e+00</td>\n",
       "      <td>1.000000e+00</td>\n",
       "      <td>1.000000e+00</td>\n",
       "      <td>1.000000e+00</td>\n",
       "      <td>1.000000e+00</td>\n",
       "      <td>1.000000e+00</td>\n",
       "      <td>1.000000e+00</td>\n",
       "      <td>1.000000e+00</td>\n",
       "      <td>1.000000e+00</td>\n",
       "    </tr>\n",
       "    <tr>\n",
       "      <th>min</th>\n",
       "      <td>-2.080168e+00</td>\n",
       "      <td>-1.396801e+00</td>\n",
       "      <td>-1.335064e+00</td>\n",
       "      <td>-1.160105e+00</td>\n",
       "      <td>-1.416644e+00</td>\n",
       "      <td>-1.479085e+00</td>\n",
       "      <td>-2.371640e+00</td>\n",
       "      <td>-2.450342e+00</td>\n",
       "      <td>-4.884197e+00</td>\n",
       "      <td>-1.027451e+00</td>\n",
       "      <td>...</td>\n",
       "      <td>-4.333215e+00</td>\n",
       "      <td>-3.728063e+00</td>\n",
       "      <td>-6.476804e-01</td>\n",
       "      <td>-6.461160e-01</td>\n",
       "      <td>-2.524878e+00</td>\n",
       "      <td>-2.478816e+00</td>\n",
       "      <td>-2.105712e+00</td>\n",
       "      <td>-2.198883e+00</td>\n",
       "      <td>-8.288392e-01</td>\n",
       "      <td>-1.126447e+00</td>\n",
       "    </tr>\n",
       "    <tr>\n",
       "      <th>25%</th>\n",
       "      <td>-5.309551e-01</td>\n",
       "      <td>-7.554180e-01</td>\n",
       "      <td>-6.981659e-01</td>\n",
       "      <td>-6.697178e-01</td>\n",
       "      <td>-5.698449e-01</td>\n",
       "      <td>-7.916113e-01</td>\n",
       "      <td>-1.087099e-01</td>\n",
       "      <td>-5.608649e-01</td>\n",
       "      <td>-3.243548e-02</td>\n",
       "      <td>-6.311868e-01</td>\n",
       "      <td>...</td>\n",
       "      <td>1.309010e-02</td>\n",
       "      <td>-2.004860e-01</td>\n",
       "      <td>-5.944681e-01</td>\n",
       "      <td>-5.500130e-01</td>\n",
       "      <td>-2.948675e-01</td>\n",
       "      <td>-3.064656e-01</td>\n",
       "      <td>-3.724831e-01</td>\n",
       "      <td>-3.028943e-01</td>\n",
       "      <td>-6.138930e-01</td>\n",
       "      <td>-6.345540e-01</td>\n",
       "    </tr>\n",
       "    <tr>\n",
       "      <th>50%</th>\n",
       "      <td>-1.822303e-01</td>\n",
       "      <td>-2.462166e-01</td>\n",
       "      <td>-2.349316e-01</td>\n",
       "      <td>-2.871839e-01</td>\n",
       "      <td>-5.698449e-01</td>\n",
       "      <td>-1.818562e-01</td>\n",
       "      <td>-2.181667e-02</td>\n",
       "      <td>1.193382e-01</td>\n",
       "      <td>1.677514e-01</td>\n",
       "      <td>-2.925314e-01</td>\n",
       "      <td>...</td>\n",
       "      <td>2.617543e-01</td>\n",
       "      <td>1.572555e-01</td>\n",
       "      <td>-4.270906e-01</td>\n",
       "      <td>-4.083972e-01</td>\n",
       "      <td>3.833515e-02</td>\n",
       "      <td>1.549187e-02</td>\n",
       "      <td>-1.013385e-01</td>\n",
       "      <td>-3.592052e-02</td>\n",
       "      <td>-3.421406e-01</td>\n",
       "      <td>-3.324629e-01</td>\n",
       "    </tr>\n",
       "    <tr>\n",
       "      <th>75%</th>\n",
       "      <td>4.657085e-01</td>\n",
       "      <td>5.883555e-01</td>\n",
       "      <td>4.146331e-01</td>\n",
       "      <td>3.401068e-01</td>\n",
       "      <td>3.873440e-01</td>\n",
       "      <td>7.584104e-01</td>\n",
       "      <td>1.802162e-01</td>\n",
       "      <td>7.198240e-01</td>\n",
       "      <td>3.870821e-01</td>\n",
       "      <td>2.382177e-01</td>\n",
       "      <td>...</td>\n",
       "      <td>4.374342e-01</td>\n",
       "      <td>4.699188e-01</td>\n",
       "      <td>1.004323e-01</td>\n",
       "      <td>7.395473e-03</td>\n",
       "      <td>3.692704e-01</td>\n",
       "      <td>3.732955e-01</td>\n",
       "      <td>3.487511e-01</td>\n",
       "      <td>9.655581e-02</td>\n",
       "      <td>1.663482e-01</td>\n",
       "      <td>2.379521e-01</td>\n",
       "    </tr>\n",
       "    <tr>\n",
       "      <th>max</th>\n",
       "      <td>2.608904e+00</td>\n",
       "      <td>2.256949e+00</td>\n",
       "      <td>2.890092e+00</td>\n",
       "      <td>3.439217e+00</td>\n",
       "      <td>2.843960e+00</td>\n",
       "      <td>1.964781e+00</td>\n",
       "      <td>2.419685e+00</td>\n",
       "      <td>1.561395e+00</td>\n",
       "      <td>1.165179e+00</td>\n",
       "      <td>3.772795e+00</td>\n",
       "      <td>...</td>\n",
       "      <td>1.011039e+00</td>\n",
       "      <td>1.704997e+00</td>\n",
       "      <td>3.343468e+00</td>\n",
       "      <td>3.404680e+00</td>\n",
       "      <td>2.436796e+00</td>\n",
       "      <td>2.404259e+00</td>\n",
       "      <td>2.529518e+00</td>\n",
       "      <td>2.651633e+00</td>\n",
       "      <td>3.892827e+00</td>\n",
       "      <td>3.099201e+00</td>\n",
       "    </tr>\n",
       "  </tbody>\n",
       "</table>\n",
       "<p>8 rows × 35 columns</p>\n",
       "</div>"
      ],
      "text/plain": [
       "       (Dividends + Share Buyback) / FCF  Asset Turnover  \\\n",
       "count                       1.382785e+06    1.382785e+06   \n",
       "mean                        1.881921e-16   -1.941938e-16   \n",
       "std                         1.000000e+00    1.000000e+00   \n",
       "min                        -2.080168e+00   -1.396801e+00   \n",
       "25%                        -5.309551e-01   -7.554180e-01   \n",
       "50%                        -1.822303e-01   -2.462166e-01   \n",
       "75%                         4.657085e-01    5.883555e-01   \n",
       "max                         2.608904e+00    2.256949e+00   \n",
       "\n",
       "       CapEx / (Depr + Amor)  Current Ratio  Dividends / FCF  \\\n",
       "count           1.382785e+06   1.382785e+06     1.382785e+06   \n",
       "mean            7.399426e-16   6.166188e-18    -9.833015e-17   \n",
       "std             1.000000e+00   1.000000e+00     1.000000e+00   \n",
       "min            -1.335064e+00  -1.160105e+00    -1.416644e+00   \n",
       "25%            -6.981659e-01  -6.697178e-01    -5.698449e-01   \n",
       "50%            -2.349316e-01  -2.871839e-01    -5.698449e-01   \n",
       "75%             4.146331e-01   3.401068e-01     3.873440e-01   \n",
       "max             2.890092e+00   3.439217e+00     2.843960e+00   \n",
       "\n",
       "       Gross Profit Margin  Interest Coverage   Log Revenue  \\\n",
       "count         1.382785e+06       1.382785e+06  1.382785e+06   \n",
       "mean          3.612564e-16      -5.557791e-17  2.516463e-15   \n",
       "std           1.000000e+00       1.000000e+00  1.000000e+00   \n",
       "min          -1.479085e+00      -2.371640e+00 -2.450342e+00   \n",
       "25%          -7.916113e-01      -1.087099e-01 -5.608649e-01   \n",
       "50%          -1.818562e-01      -2.181667e-02  1.193382e-01   \n",
       "75%           7.584104e-01       1.802162e-01  7.198240e-01   \n",
       "max           1.964781e+00       2.419685e+00  1.561395e+00   \n",
       "\n",
       "       Net Profit Margin   Quick Ratio  ...  Earnings Yield     FCF Yield  \\\n",
       "count       1.382785e+06  1.382785e+06  ...    1.382785e+06  1.382785e+06   \n",
       "mean        1.742976e-17  1.134579e-17  ...   -8.953306e-17 -1.415757e-16   \n",
       "std         1.000000e+00  1.000000e+00  ...    1.000000e+00  1.000000e+00   \n",
       "min        -4.884197e+00 -1.027451e+00  ...   -4.333215e+00 -3.728063e+00   \n",
       "25%        -3.243548e-02 -6.311868e-01  ...    1.309010e-02 -2.004860e-01   \n",
       "50%         1.677514e-01 -2.925314e-01  ...    2.617543e-01  1.572555e-01   \n",
       "75%         3.870821e-01  2.382177e-01  ...    4.374342e-01  4.699188e-01   \n",
       "max         1.165179e+00  3.772795e+00  ...    1.011039e+00  1.704997e+00   \n",
       "\n",
       "         Market-Cap        P/Cash           P/E         P/FCF        P/NCAV  \\\n",
       "count  1.382785e+06  1.382785e+06  1.382785e+06  1.382785e+06  1.382785e+06   \n",
       "mean  -3.490885e-16 -1.417401e-16 -2.982791e-16  3.196552e-16  3.354406e-17   \n",
       "std    1.000000e+00  1.000000e+00  1.000000e+00  1.000000e+00  1.000000e+00   \n",
       "min   -6.476804e-01 -6.461160e-01 -2.524878e+00 -2.478816e+00 -2.105712e+00   \n",
       "25%   -5.944681e-01 -5.500130e-01 -2.948675e-01 -3.064656e-01 -3.724831e-01   \n",
       "50%   -4.270906e-01 -4.083972e-01  3.833515e-02  1.549187e-02 -1.013385e-01   \n",
       "75%    1.004323e-01  7.395473e-03  3.692704e-01  3.732955e-01  3.487511e-01   \n",
       "max    3.343468e+00  3.404680e+00  2.436796e+00  2.404259e+00  2.529518e+00   \n",
       "\n",
       "           P/NetNet       P/Sales  Price to Book Value  \n",
       "count  1.382785e+06  1.382785e+06         1.382785e+06  \n",
       "mean  -2.959770e-18 -9.717913e-17         2.787117e-16  \n",
       "std    1.000000e+00  1.000000e+00         1.000000e+00  \n",
       "min   -2.198883e+00 -8.288392e-01        -1.126447e+00  \n",
       "25%   -3.028943e-01 -6.138930e-01        -6.345540e-01  \n",
       "50%   -3.592052e-02 -3.421406e-01        -3.324629e-01  \n",
       "75%    9.655581e-02  1.663482e-01         2.379521e-01  \n",
       "max    2.651633e+00  3.892827e+00         3.099201e+00  \n",
       "\n",
       "[8 rows x 35 columns]"
      ]
     },
     "execution_count": 29,
     "metadata": {},
     "output_type": "execute_result"
    }
   ],
   "source": [
    "X_train.describe()"
   ]
  },
  {
   "cell_type": "markdown",
   "metadata": {},
   "source": [
    "Using the same scaler on the test-data, also gives means that are close to 0 and standard deviations close to 1:"
   ]
  },
  {
   "cell_type": "code",
   "execution_count": 30,
   "metadata": {},
   "outputs": [
    {
     "data": {
      "text/html": [
       "<div>\n",
       "<style scoped>\n",
       "    .dataframe tbody tr th:only-of-type {\n",
       "        vertical-align: middle;\n",
       "    }\n",
       "\n",
       "    .dataframe tbody tr th {\n",
       "        vertical-align: top;\n",
       "    }\n",
       "\n",
       "    .dataframe thead th {\n",
       "        text-align: right;\n",
       "    }\n",
       "</style>\n",
       "<table border=\"1\" class=\"dataframe\">\n",
       "  <thead>\n",
       "    <tr style=\"text-align: right;\">\n",
       "      <th></th>\n",
       "      <th>(Dividends + Share Buyback) / FCF</th>\n",
       "      <th>Asset Turnover</th>\n",
       "      <th>CapEx / (Depr + Amor)</th>\n",
       "      <th>Current Ratio</th>\n",
       "      <th>Dividends / FCF</th>\n",
       "      <th>Gross Profit Margin</th>\n",
       "      <th>Interest Coverage</th>\n",
       "      <th>Log Revenue</th>\n",
       "      <th>Net Profit Margin</th>\n",
       "      <th>Quick Ratio</th>\n",
       "      <th>...</th>\n",
       "      <th>Earnings Yield</th>\n",
       "      <th>FCF Yield</th>\n",
       "      <th>Market-Cap</th>\n",
       "      <th>P/Cash</th>\n",
       "      <th>P/E</th>\n",
       "      <th>P/FCF</th>\n",
       "      <th>P/NCAV</th>\n",
       "      <th>P/NetNet</th>\n",
       "      <th>P/Sales</th>\n",
       "      <th>Price to Book Value</th>\n",
       "    </tr>\n",
       "  </thead>\n",
       "  <tbody>\n",
       "    <tr>\n",
       "      <th>count</th>\n",
       "      <td>357010.000000</td>\n",
       "      <td>357010.000000</td>\n",
       "      <td>357010.000000</td>\n",
       "      <td>357010.000000</td>\n",
       "      <td>357010.000000</td>\n",
       "      <td>357010.000000</td>\n",
       "      <td>357010.000000</td>\n",
       "      <td>357010.000000</td>\n",
       "      <td>357010.000000</td>\n",
       "      <td>357010.000000</td>\n",
       "      <td>...</td>\n",
       "      <td>357010.000000</td>\n",
       "      <td>357010.000000</td>\n",
       "      <td>357010.000000</td>\n",
       "      <td>357010.000000</td>\n",
       "      <td>357010.000000</td>\n",
       "      <td>357010.000000</td>\n",
       "      <td>357010.000000</td>\n",
       "      <td>357010.000000</td>\n",
       "      <td>357010.000000</td>\n",
       "      <td>357010.000000</td>\n",
       "    </tr>\n",
       "    <tr>\n",
       "      <th>mean</th>\n",
       "      <td>0.084085</td>\n",
       "      <td>-0.097637</td>\n",
       "      <td>0.043945</td>\n",
       "      <td>-0.102578</td>\n",
       "      <td>0.124793</td>\n",
       "      <td>-0.011214</td>\n",
       "      <td>0.054155</td>\n",
       "      <td>0.168422</td>\n",
       "      <td>0.082203</td>\n",
       "      <td>-0.099386</td>\n",
       "      <td>...</td>\n",
       "      <td>0.085691</td>\n",
       "      <td>0.067533</td>\n",
       "      <td>0.128583</td>\n",
       "      <td>0.090982</td>\n",
       "      <td>0.021892</td>\n",
       "      <td>-0.006389</td>\n",
       "      <td>-0.095412</td>\n",
       "      <td>-0.025265</td>\n",
       "      <td>-0.014448</td>\n",
       "      <td>-0.066428</td>\n",
       "    </tr>\n",
       "    <tr>\n",
       "      <th>std</th>\n",
       "      <td>1.041263</td>\n",
       "      <td>1.006359</td>\n",
       "      <td>1.031528</td>\n",
       "      <td>1.014996</td>\n",
       "      <td>1.094994</td>\n",
       "      <td>0.939670</td>\n",
       "      <td>0.814001</td>\n",
       "      <td>0.994715</td>\n",
       "      <td>0.902508</td>\n",
       "      <td>1.023966</td>\n",
       "      <td>...</td>\n",
       "      <td>0.907238</td>\n",
       "      <td>0.903324</td>\n",
       "      <td>1.073394</td>\n",
       "      <td>1.077369</td>\n",
       "      <td>0.963270</td>\n",
       "      <td>1.049945</td>\n",
       "      <td>0.872334</td>\n",
       "      <td>0.824782</td>\n",
       "      <td>0.949214</td>\n",
       "      <td>0.968795</td>\n",
       "    </tr>\n",
       "    <tr>\n",
       "      <th>min</th>\n",
       "      <td>-2.080168</td>\n",
       "      <td>-1.396801</td>\n",
       "      <td>-1.335064</td>\n",
       "      <td>-1.160105</td>\n",
       "      <td>-1.416644</td>\n",
       "      <td>-1.479085</td>\n",
       "      <td>-2.371640</td>\n",
       "      <td>-2.450342</td>\n",
       "      <td>-4.884197</td>\n",
       "      <td>-1.027451</td>\n",
       "      <td>...</td>\n",
       "      <td>-4.333215</td>\n",
       "      <td>-3.728063</td>\n",
       "      <td>-0.647680</td>\n",
       "      <td>-0.646116</td>\n",
       "      <td>-2.524878</td>\n",
       "      <td>-2.478816</td>\n",
       "      <td>-2.105712</td>\n",
       "      <td>-2.198883</td>\n",
       "      <td>-0.828839</td>\n",
       "      <td>-1.126447</td>\n",
       "    </tr>\n",
       "    <tr>\n",
       "      <th>25%</th>\n",
       "      <td>-0.530955</td>\n",
       "      <td>-0.917640</td>\n",
       "      <td>-0.695749</td>\n",
       "      <td>-0.766430</td>\n",
       "      <td>-0.569845</td>\n",
       "      <td>-0.754544</td>\n",
       "      <td>-0.083691</td>\n",
       "      <td>-0.398237</td>\n",
       "      <td>0.004013</td>\n",
       "      <td>-0.740846</td>\n",
       "      <td>...</td>\n",
       "      <td>0.068266</td>\n",
       "      <td>-0.187895</td>\n",
       "      <td>-0.564212</td>\n",
       "      <td>-0.543643</td>\n",
       "      <td>-0.245858</td>\n",
       "      <td>-0.301044</td>\n",
       "      <td>-0.343136</td>\n",
       "      <td>-0.259132</td>\n",
       "      <td>-0.643388</td>\n",
       "      <td>-0.637545</td>\n",
       "    </tr>\n",
       "    <tr>\n",
       "      <th>50%</th>\n",
       "      <td>-0.079781</td>\n",
       "      <td>-0.361311</td>\n",
       "      <td>-0.176057</td>\n",
       "      <td>-0.415084</td>\n",
       "      <td>-0.279173</td>\n",
       "      <td>-0.088916</td>\n",
       "      <td>-0.021825</td>\n",
       "      <td>0.351677</td>\n",
       "      <td>0.175407</td>\n",
       "      <td>-0.406755</td>\n",
       "      <td>...</td>\n",
       "      <td>0.301592</td>\n",
       "      <td>0.175311</td>\n",
       "      <td>-0.328779</td>\n",
       "      <td>-0.368178</td>\n",
       "      <td>0.028750</td>\n",
       "      <td>0.019960</td>\n",
       "      <td>-0.116372</td>\n",
       "      <td>-0.027775</td>\n",
       "      <td>-0.321133</td>\n",
       "      <td>-0.356999</td>\n",
       "    </tr>\n",
       "    <tr>\n",
       "      <th>75%</th>\n",
       "      <td>0.564199</td>\n",
       "      <td>0.469319</td>\n",
       "      <td>0.475752</td>\n",
       "      <td>0.190488</td>\n",
       "      <td>0.611674</td>\n",
       "      <td>0.710742</td>\n",
       "      <td>0.131858</td>\n",
       "      <td>0.898627</td>\n",
       "      <td>0.435427</td>\n",
       "      <td>0.103535</td>\n",
       "      <td>...</td>\n",
       "      <td>0.467730</td>\n",
       "      <td>0.481522</td>\n",
       "      <td>0.309821</td>\n",
       "      <td>0.147934</td>\n",
       "      <td>0.328376</td>\n",
       "      <td>0.373552</td>\n",
       "      <td>0.167162</td>\n",
       "      <td>0.072131</td>\n",
       "      <td>0.187514</td>\n",
       "      <td>0.090738</td>\n",
       "    </tr>\n",
       "    <tr>\n",
       "      <th>max</th>\n",
       "      <td>2.608904</td>\n",
       "      <td>2.256949</td>\n",
       "      <td>2.890092</td>\n",
       "      <td>3.439217</td>\n",
       "      <td>2.843960</td>\n",
       "      <td>1.964781</td>\n",
       "      <td>2.419685</td>\n",
       "      <td>1.561395</td>\n",
       "      <td>1.165179</td>\n",
       "      <td>3.772795</td>\n",
       "      <td>...</td>\n",
       "      <td>1.011039</td>\n",
       "      <td>1.704997</td>\n",
       "      <td>3.343468</td>\n",
       "      <td>3.404680</td>\n",
       "      <td>2.436796</td>\n",
       "      <td>2.404259</td>\n",
       "      <td>2.529518</td>\n",
       "      <td>2.651633</td>\n",
       "      <td>3.892827</td>\n",
       "      <td>3.099201</td>\n",
       "    </tr>\n",
       "  </tbody>\n",
       "</table>\n",
       "<p>8 rows × 35 columns</p>\n",
       "</div>"
      ],
      "text/plain": [
       "       (Dividends + Share Buyback) / FCF  Asset Turnover  \\\n",
       "count                      357010.000000   357010.000000   \n",
       "mean                            0.084085       -0.097637   \n",
       "std                             1.041263        1.006359   \n",
       "min                            -2.080168       -1.396801   \n",
       "25%                            -0.530955       -0.917640   \n",
       "50%                            -0.079781       -0.361311   \n",
       "75%                             0.564199        0.469319   \n",
       "max                             2.608904        2.256949   \n",
       "\n",
       "       CapEx / (Depr + Amor)  Current Ratio  Dividends / FCF  \\\n",
       "count          357010.000000  357010.000000    357010.000000   \n",
       "mean                0.043945      -0.102578         0.124793   \n",
       "std                 1.031528       1.014996         1.094994   \n",
       "min                -1.335064      -1.160105        -1.416644   \n",
       "25%                -0.695749      -0.766430        -0.569845   \n",
       "50%                -0.176057      -0.415084        -0.279173   \n",
       "75%                 0.475752       0.190488         0.611674   \n",
       "max                 2.890092       3.439217         2.843960   \n",
       "\n",
       "       Gross Profit Margin  Interest Coverage    Log Revenue  \\\n",
       "count        357010.000000      357010.000000  357010.000000   \n",
       "mean             -0.011214           0.054155       0.168422   \n",
       "std               0.939670           0.814001       0.994715   \n",
       "min              -1.479085          -2.371640      -2.450342   \n",
       "25%              -0.754544          -0.083691      -0.398237   \n",
       "50%              -0.088916          -0.021825       0.351677   \n",
       "75%               0.710742           0.131858       0.898627   \n",
       "max               1.964781           2.419685       1.561395   \n",
       "\n",
       "       Net Profit Margin    Quick Ratio  ...  Earnings Yield      FCF Yield  \\\n",
       "count      357010.000000  357010.000000  ...   357010.000000  357010.000000   \n",
       "mean            0.082203      -0.099386  ...        0.085691       0.067533   \n",
       "std             0.902508       1.023966  ...        0.907238       0.903324   \n",
       "min            -4.884197      -1.027451  ...       -4.333215      -3.728063   \n",
       "25%             0.004013      -0.740846  ...        0.068266      -0.187895   \n",
       "50%             0.175407      -0.406755  ...        0.301592       0.175311   \n",
       "75%             0.435427       0.103535  ...        0.467730       0.481522   \n",
       "max             1.165179       3.772795  ...        1.011039       1.704997   \n",
       "\n",
       "          Market-Cap         P/Cash            P/E          P/FCF  \\\n",
       "count  357010.000000  357010.000000  357010.000000  357010.000000   \n",
       "mean        0.128583       0.090982       0.021892      -0.006389   \n",
       "std         1.073394       1.077369       0.963270       1.049945   \n",
       "min        -0.647680      -0.646116      -2.524878      -2.478816   \n",
       "25%        -0.564212      -0.543643      -0.245858      -0.301044   \n",
       "50%        -0.328779      -0.368178       0.028750       0.019960   \n",
       "75%         0.309821       0.147934       0.328376       0.373552   \n",
       "max         3.343468       3.404680       2.436796       2.404259   \n",
       "\n",
       "              P/NCAV       P/NetNet        P/Sales  Price to Book Value  \n",
       "count  357010.000000  357010.000000  357010.000000        357010.000000  \n",
       "mean       -0.095412      -0.025265      -0.014448            -0.066428  \n",
       "std         0.872334       0.824782       0.949214             0.968795  \n",
       "min        -2.105712      -2.198883      -0.828839            -1.126447  \n",
       "25%        -0.343136      -0.259132      -0.643388            -0.637545  \n",
       "50%        -0.116372      -0.027775      -0.321133            -0.356999  \n",
       "75%         0.167162       0.072131       0.187514             0.090738  \n",
       "max         2.529518       2.651633       3.892827             3.099201  \n",
       "\n",
       "[8 rows x 35 columns]"
      ]
     },
     "execution_count": 30,
     "metadata": {},
     "output_type": "execute_result"
    }
   ],
   "source": [
    "X_test.describe()"
   ]
  },
  {
   "cell_type": "markdown",
   "metadata": {},
   "source": [
    "## Neural Network: Regression\n",
    "\n",
    "Let us now build a Neural Network to learn the mapping from signals X to stock-returns y. We will use Keras and TensorFlow. If you are new to this, you can watch [this tutorial](https://www.youtube.com/watch?v=3yfRJKA1BiQ) for a basic explanation."
   ]
  },
  {
   "cell_type": "code",
   "execution_count": 31,
   "metadata": {},
   "outputs": [],
   "source": [
    "# This so-called \"activation function\" is applied after each layer.\n",
    "# It is important to use a non-linear function, otherwise\n",
    "# the Neural Network cannot learn non-linear mappings.\n",
    "activation = 'relu'"
   ]
  },
  {
   "cell_type": "code",
   "execution_count": 32,
   "metadata": {},
   "outputs": [
    {
     "name": "stdout",
     "output_type": "stream",
     "text": [
      "Model: \"sequential\"\n",
      "_________________________________________________________________\n",
      "Layer (type)                 Output Shape              Param #   \n",
      "=================================================================\n",
      "dense (Dense)                (None, 128)               4608      \n",
      "_________________________________________________________________\n",
      "dense_1 (Dense)              (None, 64)                8256      \n",
      "_________________________________________________________________\n",
      "dense_2 (Dense)              (None, 32)                2080      \n",
      "_________________________________________________________________\n",
      "dense_3 (Dense)              (None, 16)                528       \n",
      "_________________________________________________________________\n",
      "dense_4 (Dense)              (None, 8)                 136       \n",
      "_________________________________________________________________\n",
      "dense_5 (Dense)              (None, 1)                 9         \n",
      "=================================================================\n",
      "Total params: 15,617\n",
      "Trainable params: 15,617\n",
      "Non-trainable params: 0\n",
      "_________________________________________________________________\n"
     ]
    }
   ],
   "source": [
    "# Create a new Keras model.\n",
    "model_regr = Sequential()\n",
    "\n",
    "# Add an input layer for the signals.\n",
    "# Note how we set the dimensionality of the input here.\n",
    "model_regr.add(InputLayer(input_shape=(num_signals,)))\n",
    "\n",
    "# Add several dense aka. fully-connected layers.\n",
    "# You can experiment with different designs.\n",
    "model_regr.add(Dense(128, activation=activation))\n",
    "model_regr.add(Dense(64, activation=activation))\n",
    "model_regr.add(Dense(32, activation=activation))\n",
    "model_regr.add(Dense(16, activation=activation))\n",
    "model_regr.add(Dense(8, activation=activation))\n",
    "\n",
    "# Add a layer for the output of the Neural Network.\n",
    "# This is 1-dimensional to match the stock-return data.\n",
    "model_regr.add(Dense(1))\n",
    "\n",
    "# Compile the model but don't train it yet.\n",
    "model_regr.compile(loss='mse', metrics=['mae'],\n",
    "                   optimizer=RMSprop(0.001))\n",
    "\n",
    "# Show the model.\n",
    "model_regr.summary()"
   ]
  },
  {
   "cell_type": "markdown",
   "metadata": {},
   "source": [
    "These are common arguments for training both our regression and classification models:"
   ]
  },
  {
   "cell_type": "code",
   "execution_count": 33,
   "metadata": {},
   "outputs": [],
   "source": [
    "fit_args = \\\n",
    "{\n",
    "    # For efficiency, the model is trained on batches of data.\n",
    "    'batch_size': 4096,\n",
    "    \n",
    "    # Number of iterations aka. epochs over the training-set.\n",
    "    'epochs': 40,\n",
    "    \n",
    "    # Fraction of the training-set used for validation after\n",
    "    # each training-epoch, to assess how well the model performs\n",
    "    # on unseen data.\n",
    "    'validation_split': 0.2,\n",
    "\n",
    "    # Show status during training.\n",
    "    'verbose': 1,\n",
    "}"
   ]
  },
  {
   "cell_type": "markdown",
   "metadata": {},
   "source": [
    "We can now train the model. This takes a minute or two on an ordinary computer:"
   ]
  },
  {
   "cell_type": "code",
   "execution_count": 34,
   "metadata": {},
   "outputs": [
    {
     "name": "stdout",
     "output_type": "stream",
     "text": [
      "Train on 1106228 samples, validate on 276557 samples\n",
      "Epoch 1/40\n",
      "1106228/1106228 [==============================] - 3s 3us/sample - loss: 0.0388 - mae: 0.1504 - val_loss: 0.0579 - val_mae: 0.1866\n",
      "Epoch 2/40\n",
      "1106228/1106228 [==============================] - 1s 1us/sample - loss: 0.0278 - mae: 0.1279 - val_loss: 0.0593 - val_mae: 0.1886\n",
      "Epoch 3/40\n",
      "1106228/1106228 [==============================] - 1s 1us/sample - loss: 0.0225 - mae: 0.1154 - val_loss: 0.0619 - val_mae: 0.1891\n",
      "Epoch 4/40\n",
      "1106228/1106228 [==============================] - 1s 1us/sample - loss: 0.0193 - mae: 0.1071 - val_loss: 0.0653 - val_mae: 0.1965\n",
      "Epoch 5/40\n",
      "1106228/1106228 [==============================] - 1s 1us/sample - loss: 0.0171 - mae: 0.1011 - val_loss: 0.0668 - val_mae: 0.1985\n",
      "Epoch 6/40\n",
      "1106228/1106228 [==============================] - 1s 1us/sample - loss: 0.0156 - mae: 0.0964 - val_loss: 0.0662 - val_mae: 0.1954\n",
      "Epoch 7/40\n",
      "1106228/1106228 [==============================] - 1s 1us/sample - loss: 0.0143 - mae: 0.0926 - val_loss: 0.0681 - val_mae: 0.1973\n",
      "Epoch 8/40\n",
      "1106228/1106228 [==============================] - 1s 1us/sample - loss: 0.0134 - mae: 0.0895 - val_loss: 0.0708 - val_mae: 0.2026\n",
      "Epoch 9/40\n",
      "1106228/1106228 [==============================] - 1s 1us/sample - loss: 0.0126 - mae: 0.0870 - val_loss: 0.0714 - val_mae: 0.2045\n",
      "Epoch 10/40\n",
      "1106228/1106228 [==============================] - 1s 1us/sample - loss: 0.0119 - mae: 0.0845 - val_loss: 0.0716 - val_mae: 0.2020\n",
      "Epoch 11/40\n",
      "1106228/1106228 [==============================] - 1s 1us/sample - loss: 0.0114 - mae: 0.0828 - val_loss: 0.0759 - val_mae: 0.2113\n",
      "Epoch 12/40\n",
      "1106228/1106228 [==============================] - 1s 1us/sample - loss: 0.0110 - mae: 0.0811 - val_loss: 0.0766 - val_mae: 0.2117\n",
      "Epoch 13/40\n",
      "1106228/1106228 [==============================] - 1s 1us/sample - loss: 0.0106 - mae: 0.0797 - val_loss: 0.0748 - val_mae: 0.2071\n",
      "Epoch 14/40\n",
      "1106228/1106228 [==============================] - 1s 1us/sample - loss: 0.0102 - mae: 0.0784 - val_loss: 0.0784 - val_mae: 0.2145\n",
      "Epoch 15/40\n",
      "1106228/1106228 [==============================] - 1s 1us/sample - loss: 0.0099 - mae: 0.0772 - val_loss: 0.0769 - val_mae: 0.2112\n",
      "Epoch 16/40\n",
      "1106228/1106228 [==============================] - 1s 1us/sample - loss: 0.0096 - mae: 0.0760 - val_loss: 0.0795 - val_mae: 0.2157\n",
      "Epoch 17/40\n",
      "1106228/1106228 [==============================] - 1s 1us/sample - loss: 0.0094 - mae: 0.0751 - val_loss: 0.0744 - val_mae: 0.2074\n",
      "Epoch 18/40\n",
      "1106228/1106228 [==============================] - 1s 1us/sample - loss: 0.0091 - mae: 0.0741 - val_loss: 0.0790 - val_mae: 0.2138\n",
      "Epoch 19/40\n",
      "1106228/1106228 [==============================] - 1s 1us/sample - loss: 0.0089 - mae: 0.0732 - val_loss: 0.0774 - val_mae: 0.2114\n",
      "Epoch 20/40\n",
      "1106228/1106228 [==============================] - 1s 1us/sample - loss: 0.0087 - mae: 0.0725 - val_loss: 0.0776 - val_mae: 0.2111\n",
      "Epoch 21/40\n",
      "1106228/1106228 [==============================] - 1s 1us/sample - loss: 0.0085 - mae: 0.0716 - val_loss: 0.0776 - val_mae: 0.2120\n",
      "Epoch 22/40\n",
      "1106228/1106228 [==============================] - 1s 1us/sample - loss: 0.0084 - mae: 0.0709 - val_loss: 0.0800 - val_mae: 0.2146\n",
      "Epoch 23/40\n",
      "1106228/1106228 [==============================] - 1s 1us/sample - loss: 0.0082 - mae: 0.0701 - val_loss: 0.0789 - val_mae: 0.2137\n",
      "Epoch 24/40\n",
      "1106228/1106228 [==============================] - 1s 1us/sample - loss: 0.0080 - mae: 0.0696 - val_loss: 0.0770 - val_mae: 0.2122\n",
      "Epoch 25/40\n",
      "1106228/1106228 [==============================] - 1s 1us/sample - loss: 0.0079 - mae: 0.0689 - val_loss: 0.0773 - val_mae: 0.2117\n",
      "Epoch 26/40\n",
      "1106228/1106228 [==============================] - 1s 1us/sample - loss: 0.0078 - mae: 0.0686 - val_loss: 0.0799 - val_mae: 0.2156\n",
      "Epoch 27/40\n",
      "1106228/1106228 [==============================] - 1s 1us/sample - loss: 0.0077 - mae: 0.0678 - val_loss: 0.0806 - val_mae: 0.2161\n",
      "Epoch 28/40\n",
      "1106228/1106228 [==============================] - 1s 1us/sample - loss: 0.0075 - mae: 0.0675 - val_loss: 0.0774 - val_mae: 0.2114\n",
      "Epoch 29/40\n",
      "1106228/1106228 [==============================] - 1s 1us/sample - loss: 0.0074 - mae: 0.0668 - val_loss: 0.0810 - val_mae: 0.2164\n",
      "Epoch 30/40\n",
      "1106228/1106228 [==============================] - 1s 1us/sample - loss: 0.0074 - mae: 0.0666 - val_loss: 0.0792 - val_mae: 0.2141\n",
      "Epoch 31/40\n",
      "1106228/1106228 [==============================] - 1s 1us/sample - loss: 0.0072 - mae: 0.0661 - val_loss: 0.0795 - val_mae: 0.2137\n",
      "Epoch 32/40\n",
      "1106228/1106228 [==============================] - 1s 1us/sample - loss: 0.0071 - mae: 0.0656 - val_loss: 0.0855 - val_mae: 0.2231\n",
      "Epoch 33/40\n",
      "1106228/1106228 [==============================] - 2s 1us/sample - loss: 0.0070 - mae: 0.0651 - val_loss: 0.0808 - val_mae: 0.2165\n",
      "Epoch 34/40\n",
      "1106228/1106228 [==============================] - 1s 1us/sample - loss: 0.0070 - mae: 0.0647 - val_loss: 0.0803 - val_mae: 0.2151\n",
      "Epoch 35/40\n",
      "1106228/1106228 [==============================] - 2s 2us/sample - loss: 0.0069 - mae: 0.0643 - val_loss: 0.0814 - val_mae: 0.2172\n",
      "Epoch 36/40\n",
      "1106228/1106228 [==============================] - 1s 1us/sample - loss: 0.0068 - mae: 0.0639 - val_loss: 0.0839 - val_mae: 0.2188\n",
      "Epoch 37/40\n",
      "1106228/1106228 [==============================] - 1s 1us/sample - loss: 0.0067 - mae: 0.0637 - val_loss: 0.0811 - val_mae: 0.2160\n",
      "Epoch 38/40\n",
      "1106228/1106228 [==============================] - 1s 1us/sample - loss: 0.0066 - mae: 0.0631 - val_loss: 0.0823 - val_mae: 0.2176\n",
      "Epoch 39/40\n",
      "1106228/1106228 [==============================] - 1s 1us/sample - loss: 0.0066 - mae: 0.0629 - val_loss: 0.0843 - val_mae: 0.2210\n",
      "Epoch 40/40\n",
      "1106228/1106228 [==============================] - 1s 1us/sample - loss: 0.0065 - mae: 0.0625 - val_loss: 0.0839 - val_mae: 0.2196\n",
      "CPU times: user 2min 37s, sys: 6.07 s, total: 2min 43s\n",
      "Wall time: 56.6 s\n"
     ]
    }
   ],
   "source": [
    "%%time\n",
    "history_regr = model_regr.fit(x=X_train.values,\n",
    "                              y=y_train.values, **fit_args)"
   ]
  },
  {
   "cell_type": "markdown",
   "metadata": {},
   "source": [
    "We can then plot the training-progress as the Mean Absolute Error (MAE) which is supposed to be minimized. After 40 epochs through the training-set, the model has learned to map from signals to stock-returns for the training-set, with an average absolute error of about 6%, which would be very good if it generalized to unseen data. Unfortunately, the performance on the validation-set gets worse during optimization and ends with a MAE about 24%, so the model is clearly not learning the underlying relation between signals and stock-returns, but it has instead learned peculiarities and noise in the training-data."
   ]
  },
  {
   "cell_type": "code",
   "execution_count": 35,
   "metadata": {},
   "outputs": [
    {
     "data": {
      "text/plain": [
       "<matplotlib.axes._subplots.AxesSubplot at 0x7f7e7239a410>"
      ]
     },
     "execution_count": 35,
     "metadata": {},
     "output_type": "execute_result"
    },
    {
     "data": {
      "image/png": "[encoded data removed]",
      "text/plain": [
       "<Figure size 432x288 with 1 Axes>"
      ]
     },
     "metadata": {},
     "output_type": "display_data"
    }
   ],
   "source": [
    "# Convert training history to a DataFrame.\n",
    "df = pd.DataFrame(history_regr.history)\n",
    "\n",
    "# Rename the relevant columns.\n",
    "names = {'mae': 'Training MAE', 'val_mae': 'Validation MAE'}\n",
    "df = df[['mae', 'val_mae']].rename(columns=names)\n",
    "\n",
    "# Plot the results.\n",
    "df.plot()"
   ]
  },
  {
   "cell_type": "markdown",
   "metadata": {},
   "source": [
    "### Regression Results\n",
    "\n",
    "Let us now compute some performance measures for the Neural Network. First we use the fitted model to predict the stock-returns for the training- and test-sets:"
   ]
  },
  {
   "cell_type": "code",
   "execution_count": 36,
   "metadata": {},
   "outputs": [
    {
     "name": "stdout",
     "output_type": "stream",
     "text": [
      "CPU times: user 25.7 s, sys: 2.05 s, total: 27.8 s\n",
      "Wall time: 19 s\n"
     ]
    }
   ],
   "source": [
    "%%time\n",
    "y_train_pred = model_regr.predict(X_train.values)\n",
    "y_test_pred = model_regr.predict(X_test.values)"
   ]
  },
  {
   "cell_type": "markdown",
   "metadata": {},
   "source": [
    "We can then calculate the $R^2$ value (aka. the coefficient of determination) between the actual stock-returns and those predicted by the model. A value of 1 means a perfect prediction, while a value of 0 means the model basically predicted the average stock-return, and a negative value means the model's prediction was worse than just using the average stock-return.\n",
    "\n",
    "The $R^2$ value is about 0.5 for the training-set, which is OK but could be much higher if we trained it more, and if we used a bigger Neural Network with more parameters to optimize."
   ]
  },
  {
   "cell_type": "code",
   "execution_count": 37,
   "metadata": {},
   "outputs": [
    {
     "data": {
      "text/plain": [
       "0.524941387304662"
      ]
     },
     "execution_count": 37,
     "metadata": {},
     "output_type": "execute_result"
    }
   ],
   "source": [
    "r2_score(y_true=y_train, y_pred=y_train_pred)"
   ]
  },
  {
   "cell_type": "markdown",
   "metadata": {},
   "source": [
    "But the $R^2$ value is very negative for the test-set, which is so bad, that it would be much better to just use the average stock-return. This shows the model has not learned the underlying relation between the signals X and stock-returns y. The model has merely learned noise or peculiarities in the training-data, which do not generalize to the unseen data in the test-set:"
   ]
  },
  {
   "cell_type": "code",
   "execution_count": 38,
   "metadata": {},
   "outputs": [
    {
     "data": {
      "text/plain": [
       "-0.7603994109441137"
      ]
     },
     "execution_count": 38,
     "metadata": {},
     "output_type": "execute_result"
    }
   ],
   "source": [
    "r2_score(y_true=y_test, y_pred=y_test_pred)"
   ]
  },
  {
   "cell_type": "markdown",
   "metadata": {},
   "source": [
    "### Regression Examples\n",
    "\n",
    "We can also try and plot the model's predicted versus actual stock-returns for a stock in the training-set. As we can see, the model has learned this mapping reasonably well:"
   ]
  },
  {
   "cell_type": "code",
   "execution_count": 39,
   "metadata": {},
   "outputs": [
    {
     "data": {
      "image/png": "[encoded data removed]",
      "text/plain": [
       "<Figure size 432x288 with 1 Axes>"
      ]
     },
     "metadata": {},
     "output_type": "display_data"
    }
   ],
   "source": [
    "# Column-name for the models' predicted stock-returns.\n",
    "TOTAL_RETURN_PRED = 'Total Return Predicted'\n",
    "\n",
    "# Create a DataFrame with actual and predicted stock-returns.\n",
    "# This is for the training-set.\n",
    "df_y_train = pd.DataFrame(y_train)\n",
    "df_y_train[TOTAL_RETURN_PRED] = y_train_pred\n",
    "\n",
    "# Plot the actual and predicted stock-returns for the first stock.\n",
    "ticker = tickers_train[0]\n",
    "_ = df_y_train.loc[ticker].plot(title=ticker)"
   ]
  },
  {
   "cell_type": "markdown",
   "metadata": {},
   "source": [
    "Now let us try and plot the model's predicted versus actual stock-returns for the first stock in the test-set. As we can see, the model is mostly unable to predict the stock-returns, for this data that it has not seen during its training:"
   ]
  },
  {
   "cell_type": "code",
   "execution_count": 40,
   "metadata": {},
   "outputs": [
    {
     "data": {
      "image/png": "[encoded data removed]",
      "text/plain": [
       "<Figure size 432x288 with 1 Axes>"
      ]
     },
     "metadata": {},
     "output_type": "display_data"
    }
   ],
   "source": [
    "# Create a DataFrame with actual and predicted stock-returns.\n",
    "# This is for the test-set.\n",
    "df_y_test = pd.DataFrame(y_test)\n",
    "df_y_test[TOTAL_RETURN_PRED] = y_test_pred\n",
    "\n",
    "# Plot the actual and predicted stock-returns for the first stock.\n",
    "ticker = tickers_test[0]\n",
    "_ = df_y_test.loc[ticker].plot(title=ticker)"
   ]
  },
  {
   "cell_type": "markdown",
   "metadata": {},
   "source": [
    "## Neural Network: Classification\n",
    "\n",
    "Instead of mapping from signals X to a continuous variable y for the stock-return, we can try and map to discrete output-classes that indicate if the stock-return was a gain or loss. This is a so-called binary classification problem, and perhaps that is easier for the Neural Network.\n",
    "\n",
    "### Convert Output Data\n",
    "\n",
    "First we need to convert the stock-returns into 1 for gains and 0 for losses, and then split into training- and test-sets:"
   ]
  },
  {
   "cell_type": "code",
   "execution_count": 41,
   "metadata": {},
   "outputs": [
    {
     "name": "stdout",
     "output_type": "stream",
     "text": [
      "CPU times: user 60.5 ms, sys: 5.19 ms, total: 65.7 ms\n",
      "Wall time: 52.7 ms\n"
     ]
    }
   ],
   "source": [
    "%%time\n",
    "# Convert stock-returns to binary classes where loss=0 and gain=1\n",
    "# In the previous tutorial we just used the sign directly, but it\n",
    "# is easier in TensorFlow / Keras to use class-values of 0 and 1.\n",
    "df_cls = (np.sign(df_sig_rets[TOTAL_RETURN_1_3Y]) + 1) * 0.5\n",
    "\n",
    "# Split the classes into training- and test-sets.\n",
    "y_train_cls = df_cls.loc[tickers_train]\n",
    "y_test_cls = df_cls.loc[tickers_test]"
   ]
  },
  {
   "cell_type": "markdown",
   "metadata": {},
   "source": [
    "Because this is a binary classification problem (the result is either a gain or a loss), we could build a Neural Network to use `y_train_cls` directly. But instead we want to build a more general type of Neural Network which supports any number of output classes. For this we must convert the output to so-called one-hot encoded arrays, so a class of 0 (loss) becomes the array `[1,0]` and a class of 1 (gain) becomes the array `[0,1]`."
   ]
  },
  {
   "cell_type": "code",
   "execution_count": 42,
   "metadata": {},
   "outputs": [
    {
     "data": {
      "text/plain": [
       "array([[1., 0.],\n",
       "       [1., 0.],\n",
       "       [1., 0.],\n",
       "       ...,\n",
       "       [0., 1.],\n",
       "       [0., 1.],\n",
       "       [0., 1.]], dtype=float32)"
      ]
     },
     "execution_count": 42,
     "metadata": {},
     "output_type": "execute_result"
    }
   ],
   "source": [
    "# Convert classes to one-hot-encoded arrays.\n",
    "y_train_one_hot = to_categorical(y=y_train_cls.values,\n",
    "                                 num_classes=2)\n",
    "\n",
    "# Show the result.\n",
    "y_train_one_hot"
   ]
  },
  {
   "cell_type": "markdown",
   "metadata": {},
   "source": [
    "The training-set is also biased because it contains many more samples with gains compared to losses:"
   ]
  },
  {
   "cell_type": "code",
   "execution_count": 43,
   "metadata": {},
   "outputs": [
    {
     "data": {
      "text/plain": [
       "0.7059094508546159"
      ]
     },
     "execution_count": 43,
     "metadata": {},
     "output_type": "execute_result"
    }
   ],
   "source": [
    "# Fraction of the training-set that is classified as gains.\n",
    "gain_fraction = (y_train_cls == 1.0).sum() / len(y_train_cls)\n",
    "loss_fraction = 1.0 - gain_fraction\n",
    "\n",
    "# Show it.\n",
    "gain_fraction"
   ]
  },
  {
   "cell_type": "markdown",
   "metadata": {},
   "source": [
    "When we train the Neural Network further below, we need to provide new class-weights to counter this imbalance between the two classes:"
   ]
  },
  {
   "cell_type": "code",
   "execution_count": 44,
   "metadata": {},
   "outputs": [
    {
     "data": {
      "text/plain": [
       "array([1.70015664, 0.70830614])"
      ]
     },
     "execution_count": 44,
     "metadata": {},
     "output_type": "execute_result"
    }
   ],
   "source": [
    "# Calculate the class-weights.\n",
    "class_weight = compute_class_weight('balanced',\n",
    "                                    y=y_train_cls,\n",
    "                                    classes=[0.0, 1.0])\n",
    "\n",
    "# Show them.\n",
    "class_weight"
   ]
  },
  {
   "cell_type": "markdown",
   "metadata": {},
   "source": [
    "We can check that when we multiply these weights by the class-fractions for losses and gains, they both end up with the same weights:"
   ]
  },
  {
   "cell_type": "code",
   "execution_count": 45,
   "metadata": {},
   "outputs": [
    {
     "data": {
      "text/plain": [
       "array([0.5, 0.5])"
      ]
     },
     "execution_count": 45,
     "metadata": {},
     "output_type": "execute_result"
    }
   ],
   "source": [
    "class_weight * [loss_fraction, gain_fraction]"
   ]
  },
  {
   "cell_type": "markdown",
   "metadata": {},
   "source": [
    "### Build and Train Neural Network: Classification\n",
    "\n",
    "Now that we have prepared the classification data, we can proceed to build the Neural Network. We will use the same overall design as for the regression model above, with minor changes for the classification task."
   ]
  },
  {
   "cell_type": "code",
   "execution_count": 46,
   "metadata": {},
   "outputs": [],
   "source": [
    "# The activation function applied after each layer.\n",
    "# It is important to use a non-linear function, otherwise\n",
    "# the Neural Network cannot learn non-linear mappings.\n",
    "activation = 'relu'"
   ]
  },
  {
   "cell_type": "code",
   "execution_count": 47,
   "metadata": {},
   "outputs": [
    {
     "name": "stdout",
     "output_type": "stream",
     "text": [
      "Model: \"sequential_1\"\n",
      "_________________________________________________________________\n",
      "Layer (type)                 Output Shape              Param #   \n",
      "=================================================================\n",
      "dense_6 (Dense)              (None, 128)               4608      \n",
      "_________________________________________________________________\n",
      "dense_7 (Dense)              (None, 64)                8256      \n",
      "_________________________________________________________________\n",
      "dense_8 (Dense)              (None, 32)                2080      \n",
      "_________________________________________________________________\n",
      "dense_9 (Dense)              (None, 16)                528       \n",
      "_________________________________________________________________\n",
      "dense_10 (Dense)             (None, 8)                 136       \n",
      "_________________________________________________________________\n",
      "dense_11 (Dense)             (None, 2)                 18        \n",
      "=================================================================\n",
      "Total params: 15,626\n",
      "Trainable params: 15,626\n",
      "Non-trainable params: 0\n",
      "_________________________________________________________________\n"
     ]
    }
   ],
   "source": [
    "# Create a new Keras model.\n",
    "model_clf = keras.Sequential()\n",
    "\n",
    "# Add an input layer for the signals.\n",
    "# Note how we set the dimensionality of the input here.\n",
    "model_clf.add(InputLayer(input_shape=(num_signals,)))\n",
    "\n",
    "# Add several dense aka. fully-connected layers.\n",
    "# You can experiment with different designs.\n",
    "model_clf.add(Dense(128, activation=activation))\n",
    "model_clf.add(Dense(64, activation=activation))\n",
    "model_clf.add(Dense(32, activation=activation))\n",
    "model_clf.add(Dense(16, activation=activation))\n",
    "model_clf.add(Dense(8, activation=activation))\n",
    "\n",
    "# Add a layer for the output of the Neural Network.\n",
    "# This has 2 outputs, one for each possible class, and it uses\n",
    "# the softmax activation function for classification.\n",
    "model_clf.add(Dense(2, activation='softmax'))\n",
    "\n",
    "# Compile the model but don't train it yet.\n",
    "# Note that it uses a different loss-function and metric\n",
    "# than the regression-model above.\n",
    "model_clf.compile(loss='categorical_crossentropy',\n",
    "                  metrics=['accuracy'],\n",
    "                  optimizer=RMSprop(0.001))\n",
    "\n",
    "# Show the model.\n",
    "model_clf.summary()"
   ]
  },
  {
   "cell_type": "markdown",
   "metadata": {},
   "source": [
    "We can now train the model. This takes a minute or two on an ordinary computer:"
   ]
  },
  {
   "cell_type": "code",
   "execution_count": 48,
   "metadata": {
    "scrolled": true
   },
   "outputs": [
    {
     "name": "stdout",
     "output_type": "stream",
     "text": [
      "Train on 1106228 samples, validate on 276557 samples\n",
      "Epoch 1/40\n",
      "1106228/1106228 [==============================] - 2s 2us/sample - loss: 0.5278 - accuracy: 0.7395 - val_loss: 0.6294 - val_accuracy: 0.6871\n",
      "Epoch 2/40\n",
      "1106228/1106228 [==============================] - 1s 1us/sample - loss: 0.4484 - accuracy: 0.7879 - val_loss: 0.6756 - val_accuracy: 0.6999\n",
      "Epoch 3/40\n",
      "1106228/1106228 [==============================] - 1s 1us/sample - loss: 0.3987 - accuracy: 0.8188 - val_loss: 0.7482 - val_accuracy: 0.6805\n",
      "Epoch 4/40\n",
      "1106228/1106228 [==============================] - 1s 1us/sample - loss: 0.3593 - accuracy: 0.8425 - val_loss: 0.8921 - val_accuracy: 0.5642\n",
      "Epoch 5/40\n",
      "1106228/1106228 [==============================] - 1s 1us/sample - loss: 0.3286 - accuracy: 0.8598 - val_loss: 0.8786 - val_accuracy: 0.6842\n",
      "Epoch 6/40\n",
      "1106228/1106228 [==============================] - 1s 1us/sample - loss: 0.3023 - accuracy: 0.8736 - val_loss: 0.9147 - val_accuracy: 0.6455\n",
      "Epoch 7/40\n",
      "1106228/1106228 [==============================] - 2s 2us/sample - loss: 0.2807 - accuracy: 0.8858 - val_loss: 0.9773 - val_accuracy: 0.6639\n",
      "Epoch 8/40\n",
      "1106228/1106228 [==============================] - 1s 1us/sample - loss: 0.2627 - accuracy: 0.8950 - val_loss: 1.0628 - val_accuracy: 0.6241\n",
      "Epoch 9/40\n",
      "1106228/1106228 [==============================] - 1s 1us/sample - loss: 0.2469 - accuracy: 0.9028 - val_loss: 1.1087 - val_accuracy: 0.6434\n",
      "Epoch 10/40\n",
      "1106228/1106228 [==============================] - 1s 1us/sample - loss: 0.2336 - accuracy: 0.9096 - val_loss: 1.1865 - val_accuracy: 0.6428\n",
      "Epoch 11/40\n",
      "1106228/1106228 [==============================] - 1s 1us/sample - loss: 0.2220 - accuracy: 0.9153 - val_loss: 1.2712 - val_accuracy: 0.6284\n",
      "Epoch 12/40\n",
      "1106228/1106228 [==============================] - 2s 2us/sample - loss: 0.2123 - accuracy: 0.9200 - val_loss: 1.2398 - val_accuracy: 0.6553\n",
      "Epoch 13/40\n",
      "1106228/1106228 [==============================] - 1s 1us/sample - loss: 0.2032 - accuracy: 0.9239 - val_loss: 1.3148 - val_accuracy: 0.6519\n",
      "Epoch 14/40\n",
      "1106228/1106228 [==============================] - 1s 1us/sample - loss: 0.1949 - accuracy: 0.9276 - val_loss: 1.3817 - val_accuracy: 0.6294\n",
      "Epoch 15/40\n",
      "1106228/1106228 [==============================] - 1s 1us/sample - loss: 0.1869 - accuracy: 0.9306 - val_loss: 1.4692 - val_accuracy: 0.6001\n",
      "Epoch 16/40\n",
      "1106228/1106228 [==============================] - 1s 1us/sample - loss: 0.1799 - accuracy: 0.9338 - val_loss: 1.5697 - val_accuracy: 0.6011\n",
      "Epoch 17/40\n",
      "1106228/1106228 [==============================] - 1s 1us/sample - loss: 0.1753 - accuracy: 0.9357 - val_loss: 1.5755 - val_accuracy: 0.6423\n",
      "Epoch 18/40\n",
      "1106228/1106228 [==============================] - 1s 1us/sample - loss: 0.1690 - accuracy: 0.9381 - val_loss: 1.5348 - val_accuracy: 0.6426\n",
      "Epoch 19/40\n",
      "1106228/1106228 [==============================] - 1s 1us/sample - loss: 0.1637 - accuracy: 0.9401 - val_loss: 1.7509 - val_accuracy: 0.5943\n",
      "Epoch 20/40\n",
      "1106228/1106228 [==============================] - 1s 1us/sample - loss: 0.1598 - accuracy: 0.9417 - val_loss: 1.7861 - val_accuracy: 0.5919\n",
      "Epoch 21/40\n",
      "1106228/1106228 [==============================] - 1s 1us/sample - loss: 0.1560 - accuracy: 0.9432 - val_loss: 1.6273 - val_accuracy: 0.6254\n",
      "Epoch 22/40\n",
      "1106228/1106228 [==============================] - 1s 1us/sample - loss: 0.1509 - accuracy: 0.9451 - val_loss: 1.7303 - val_accuracy: 0.6117\n",
      "Epoch 23/40\n",
      "1106228/1106228 [==============================] - 1s 1us/sample - loss: 0.1473 - accuracy: 0.9463 - val_loss: 1.7212 - val_accuracy: 0.6106\n",
      "Epoch 24/40\n",
      "1106228/1106228 [==============================] - 1s 1us/sample - loss: 0.1433 - accuracy: 0.9480 - val_loss: 1.8604 - val_accuracy: 0.6153\n",
      "Epoch 25/40\n",
      "1106228/1106228 [==============================] - 1s 1us/sample - loss: 0.1418 - accuracy: 0.9484 - val_loss: 2.0022 - val_accuracy: 0.5762\n",
      "Epoch 26/40\n",
      "1106228/1106228 [==============================] - 1s 1us/sample - loss: 0.1386 - accuracy: 0.9495 - val_loss: 1.8521 - val_accuracy: 0.6338\n",
      "Epoch 27/40\n",
      "1106228/1106228 [==============================] - 1s 1us/sample - loss: 0.1356 - accuracy: 0.9507 - val_loss: 1.9988 - val_accuracy: 0.5864\n",
      "Epoch 28/40\n",
      "1106228/1106228 [==============================] - 1s 1us/sample - loss: 0.1342 - accuracy: 0.9510 - val_loss: 1.8267 - val_accuracy: 0.6308\n",
      "Epoch 29/40\n",
      "1106228/1106228 [==============================] - 1s 1us/sample - loss: 0.1301 - accuracy: 0.9527 - val_loss: 1.9733 - val_accuracy: 0.6240\n",
      "Epoch 30/40\n",
      "1106228/1106228 [==============================] - 1s 1us/sample - loss: 0.1289 - accuracy: 0.9526 - val_loss: 2.0830 - val_accuracy: 0.5974\n",
      "Epoch 31/40\n",
      "1106228/1106228 [==============================] - 1s 1us/sample - loss: 0.1272 - accuracy: 0.9537 - val_loss: 1.9995 - val_accuracy: 0.5930\n",
      "Epoch 32/40\n",
      "1106228/1106228 [==============================] - 1s 1us/sample - loss: 0.1242 - accuracy: 0.9545 - val_loss: 2.0394 - val_accuracy: 0.6176\n",
      "Epoch 33/40\n",
      "1106228/1106228 [==============================] - 1s 1us/sample - loss: 0.1237 - accuracy: 0.9547 - val_loss: 1.8961 - val_accuracy: 0.6249\n",
      "Epoch 34/40\n",
      "1106228/1106228 [==============================] - 1s 1us/sample - loss: 0.1209 - accuracy: 0.9559 - val_loss: 2.1048 - val_accuracy: 0.6050\n",
      "Epoch 35/40\n",
      "1106228/1106228 [==============================] - 1s 1us/sample - loss: 0.1194 - accuracy: 0.9562 - val_loss: 2.0917 - val_accuracy: 0.5953\n",
      "Epoch 36/40\n",
      "1106228/1106228 [==============================] - 1s 1us/sample - loss: 0.1185 - accuracy: 0.9564 - val_loss: 2.0471 - val_accuracy: 0.6203\n",
      "Epoch 37/40\n",
      "1106228/1106228 [==============================] - 1s 1us/sample - loss: 0.1166 - accuracy: 0.9573 - val_loss: 2.1784 - val_accuracy: 0.5945\n",
      "Epoch 38/40\n",
      "1106228/1106228 [==============================] - 1s 1us/sample - loss: 0.1156 - accuracy: 0.9574 - val_loss: 2.1762 - val_accuracy: 0.5885\n",
      "Epoch 39/40\n",
      "1106228/1106228 [==============================] - 2s 1us/sample - loss: 0.1136 - accuracy: 0.9580 - val_loss: 2.1953 - val_accuracy: 0.5912\n",
      "Epoch 40/40\n",
      "1106228/1106228 [==============================] - 1s 1us/sample - loss: 0.1129 - accuracy: 0.9583 - val_loss: 2.0874 - val_accuracy: 0.6179\n",
      "CPU times: user 2min 46s, sys: 6.01 s, total: 2min 52s\n",
      "Wall time: 56.4 s\n"
     ]
    }
   ],
   "source": [
    "%%time\n",
    "history_clf = model_clf.fit(x=X_train.values, y=y_train_one_hot,\n",
    "                            class_weight=class_weight, **fit_args)"
   ]
  },
  {
   "cell_type": "markdown",
   "metadata": {},
   "source": [
    "We can then plot the training-progress as the classification accuracy which is supposed to be maximized. After 40 epochs through the training-set, the model has learned to map from signals to stock gain/loss for the training-set, with an accuracy of about 96% (this is not for the entire training-set, but only for one or more batches of data).\n",
    "\n",
    "Unfortunately, the performance on the validation-set gets worse during optimization and ends with an accuracy of about 60%, so the model is clearly not learning the underlying relation between signals and stock gain/loss, but it has instead learned peculiarities and noise in the training-data."
   ]
  },
  {
   "cell_type": "code",
   "execution_count": 49,
   "metadata": {},
   "outputs": [
    {
     "data": {
      "text/plain": [
       "<matplotlib.axes._subplots.AxesSubplot at 0x7f7e729e1e90>"
      ]
     },
     "execution_count": 49,
     "metadata": {},
     "output_type": "execute_result"
    },
    {
     "data": {
      "image/png": "[encoded data removed]",
      "text/plain": [
       "<Figure size 432x288 with 1 Axes>"
      ]
     },
     "metadata": {},
     "output_type": "display_data"
    }
   ],
   "source": [
    "# Convert training history to a DataFrame.\n",
    "df = pd.DataFrame(history_clf.history)\n",
    "\n",
    "# Rename the relevant columns.\n",
    "names = {'accuracy': 'Training Accuracy',\n",
    "         'val_accuracy': 'Validation Accuracy'}\n",
    "df = df[['accuracy', 'val_accuracy']].rename(columns=names)\n",
    "\n",
    "# Plot the results.\n",
    "df.plot()"
   ]
  },
  {
   "cell_type": "markdown",
   "metadata": {},
   "source": [
    "### Classification Results\n",
    "\n",
    "We can then use the fitted model to predict the classes for the training- and test-sets:"
   ]
  },
  {
   "cell_type": "code",
   "execution_count": 50,
   "metadata": {},
   "outputs": [
    {
     "name": "stdout",
     "output_type": "stream",
     "text": [
      "CPU times: user 29.5 s, sys: 2.21 s, total: 31.7 s\n",
      "Wall time: 20.7 s\n"
     ]
    }
   ],
   "source": [
    "%%time\n",
    "y_train_pred_cls = model_clf.predict(X_train.values)\n",
    "y_test_pred_cls = model_clf.predict(X_test.values)"
   ]
  },
  {
   "cell_type": "markdown",
   "metadata": {},
   "source": [
    "The Neural Network has 2 outputs which is a likelihood score for each of the two classes:"
   ]
  },
  {
   "cell_type": "code",
   "execution_count": 51,
   "metadata": {},
   "outputs": [
    {
     "data": {
      "text/plain": [
       "array([[6.1400357e-04, 9.9938595e-01],\n",
       "       [4.7581622e-04, 9.9952424e-01],\n",
       "       [4.7581622e-04, 9.9952424e-01],\n",
       "       ...,\n",
       "       [5.0422796e-03, 9.9495775e-01],\n",
       "       [5.0111734e-03, 9.9498886e-01],\n",
       "       [5.0285496e-03, 9.9497139e-01]], dtype=float32)"
      ]
     },
     "execution_count": 51,
     "metadata": {},
     "output_type": "execute_result"
    }
   ],
   "source": [
    "y_test_pred_cls"
   ]
  },
  {
   "cell_type": "markdown",
   "metadata": {},
   "source": [
    "Let us convert this to a single integer class-number, by taking the so-called argmax, which is the index of the largest element in each row:"
   ]
  },
  {
   "cell_type": "code",
   "execution_count": 52,
   "metadata": {},
   "outputs": [
    {
     "data": {
      "text/plain": [
       "array([1, 1, 1, ..., 1, 1, 1])"
      ]
     },
     "execution_count": 52,
     "metadata": {},
     "output_type": "execute_result"
    }
   ],
   "source": [
    "# Convert one-hot-encoded arrays to integer class-numbers.\n",
    "y_train_pred_cls = y_train_pred_cls.argmax(axis=1)\n",
    "y_test_pred_cls = y_test_pred_cls.argmax(axis=1)\n",
    "\n",
    "# Show the result.\n",
    "y_test_pred_cls"
   ]
  },
  {
   "cell_type": "markdown",
   "metadata": {},
   "source": [
    "We can now calculate the classification accuracy for the entire training-set, which is almost 90%, so the model has learned to map financial signals to gain/loss classifications for 1-3 year investment periods:"
   ]
  },
  {
   "cell_type": "code",
   "execution_count": 53,
   "metadata": {},
   "outputs": [
    {
     "data": {
      "text/plain": [
       "0.8886992554880188"
      ]
     },
     "execution_count": 53,
     "metadata": {},
     "output_type": "execute_result"
    }
   ],
   "source": [
    "accuracy_score(y_true=y_train_cls, y_pred=y_train_pred_cls)"
   ]
  },
  {
   "cell_type": "markdown",
   "metadata": {},
   "source": [
    "Unfortunately this performance does not generalize to the test-set, which the model has not seen during training. Here the classification accuracy is much lower:"
   ]
  },
  {
   "cell_type": "code",
   "execution_count": 54,
   "metadata": {},
   "outputs": [
    {
     "data": {
      "text/plain": [
       "0.6275398448222739"
      ]
     },
     "execution_count": 54,
     "metadata": {},
     "output_type": "execute_result"
    }
   ],
   "source": [
    "accuracy_score(y_true=y_test_cls, y_pred=y_test_pred_cls)"
   ]
  },
  {
   "cell_type": "markdown",
   "metadata": {},
   "source": [
    "This is even worse than simply guessing that the stock-returns are always gains, which would give a classification accuracy of about 70%:"
   ]
  },
  {
   "cell_type": "code",
   "execution_count": 55,
   "metadata": {},
   "outputs": [
    {
     "data": {
      "text/plain": [
       "0.7102938293045012"
      ]
     },
     "execution_count": 55,
     "metadata": {},
     "output_type": "execute_result"
    }
   ],
   "source": [
    "# Fraction of the test-set that is classified as gains.\n",
    "(y_test_cls == 1.0).sum() / len(y_test_cls)"
   ]
  },
  {
   "cell_type": "markdown",
   "metadata": {},
   "source": [
    "### Confusion Matrix\n",
    "\n",
    "We can also plot a so-called Confusion Matrix, which shows how well the classes were predicted. First we need a small helper-function for making the plot:"
   ]
  },
  {
   "cell_type": "code",
   "execution_count": 56,
   "metadata": {},
   "outputs": [],
   "source": [
    "def plot_confusion_matrix(y_true, y_pred):\n",
    "    \"\"\"\n",
    "    Plot a classification confusion matrix.\n",
    "    \n",
    "    :param y_true: Array of true classes.\n",
    "    :param y_pred: Array of predicted classes.\n",
    "    \"\"\"\n",
    "    \n",
    "    # Class labels.\n",
    "    labels = [1.0, 0.0]\n",
    "    labels_text = ['Gain', 'Loss']\n",
    "\n",
    "    # Create confusion matrix.\n",
    "    mat = confusion_matrix(y_true=y_true, y_pred=y_pred,\n",
    "                           labels=labels)\n",
    "    \n",
    "    # Normalize so all matrix entries sum to 1.0\n",
    "    mat = mat / len(y_true)\n",
    "    \n",
    "    # Plot the matrix as a heatmap.\n",
    "    sns.heatmap(mat, robust=True,\n",
    "                xticklabels=labels_text,\n",
    "                yticklabels=labels_text)"
   ]
  },
  {
   "cell_type": "markdown",
   "metadata": {},
   "source": [
    "For the training-set, we again see that the model has learned to accurately classify gains and losses. Note how the colours are different, because the training-set contains many more gains than losses."
   ]
  },
  {
   "cell_type": "code",
   "execution_count": 57,
   "metadata": {},
   "outputs": [
    {
     "data": {
      "image/png": "[encoded data removed]",
      "text/plain": [
       "<Figure size 432x288 with 2 Axes>"
      ]
     },
     "metadata": {},
     "output_type": "display_data"
    }
   ],
   "source": [
    "plot_confusion_matrix(y_true=y_train_cls, y_pred=y_train_pred_cls)"
   ]
  },
  {
   "cell_type": "markdown",
   "metadata": {},
   "source": [
    "The confusion matrix for the test-set, shows that many classes were correctly predicted as gains, and there were a lot of errors in the rest of the predictions:"
   ]
  },
  {
   "cell_type": "code",
   "execution_count": 58,
   "metadata": {},
   "outputs": [
    {
     "data": {
      "image/png": "[encoded data removed]",
      "text/plain": [
       "<Figure size 432x288 with 2 Axes>"
      ]
     },
     "metadata": {},
     "output_type": "display_data"
    }
   ],
   "source": [
    "plot_confusion_matrix(y_true=y_test_cls, y_pred=y_test_pred_cls)"
   ]
  },
  {
   "cell_type": "markdown",
   "metadata": {},
   "source": [
    "### Classification Examples\n",
    "\n",
    "We can also try and plot the model's predicted versus actual gain/loss classification for a stock in the training-set. As we can see, the model has learned this mapping quite well:"
   ]
  },
  {
   "cell_type": "code",
   "execution_count": 59,
   "metadata": {},
   "outputs": [
    {
     "data": {
      "image/png": "[encoded data removed]",
      "text/plain": [
       "<Figure size 432x288 with 1 Axes>"
      ]
     },
     "metadata": {},
     "output_type": "display_data"
    }
   ],
   "source": [
    "# Create a DataFrame with actual and predicted classifications.\n",
    "# This is for the training-set.\n",
    "df_y_train_cls = pd.DataFrame(y_train_cls)\n",
    "df_y_train_cls[TOTAL_RETURN_PRED] = y_train_pred_cls\n",
    "\n",
    "# Plot the actual and predicted stock-returns for the first stock.\n",
    "ticker = tickers_train[0]\n",
    "_ = df_y_train_cls.loc[ticker].plot(title=ticker)"
   ]
  },
  {
   "cell_type": "markdown",
   "metadata": {},
   "source": [
    "Now let us try and plot the model's predicted versus actual gain/loss classifications for the first stock in the test-set. As we can see, the model is quite bad at predicting this for data that it has not seen during its training:"
   ]
  },
  {
   "cell_type": "code",
   "execution_count": 60,
   "metadata": {},
   "outputs": [
    {
     "data": {
      "image/png": "[encoded data removed]",
      "text/plain": [
       "<Figure size 432x288 with 1 Axes>"
      ]
     },
     "metadata": {},
     "output_type": "display_data"
    }
   ],
   "source": [
    "# Create a DataFrame with actual and predicted classifications.\n",
    "# This is for the test-set.\n",
    "df_y_test_cls = pd.DataFrame(y_test_cls)\n",
    "df_y_test_cls[TOTAL_RETURN_PRED] = y_test_pred_cls\n",
    "\n",
    "# Plot the actual and predicted stock-returns for the first stock.\n",
    "ticker = tickers_test[0]\n",
    "_ = df_y_test_cls.loc[ticker].plot(title=ticker)"
   ]
  },
  {
   "cell_type": "markdown",
   "metadata": {},
   "source": [
    "## Discussion\n",
    "\n",
    "We used a Neural Network to learn the relation between signals and future stock-returns. This worked reasonably well on the training-data, but it did not generalize to the test-data, where the Neural Network performed worse than just guessing. In fact, the result was even worse than the previous tutorial which used a Machine Learning (ML) model called a Random Forest.\n",
    "\n",
    "The problem might be the design of the Neural Network, that is, the number and size of the layers, their activation functions, etc. You can try and use so-called Hyper-Parameter Optimization such as the [Keras Tuner](https://keras-team.github.io/keras-tuner/), to try and find a better design for the Neural Network.\n",
    "\n",
    "But we have now seen two very different ML models having the same problem with this dataset, so perhaps it means that these financial signals simply cannot be used to predict future stock-returns for 1-3 year investment periods.\n",
    "\n",
    "\n",
    "### Machine Learning vs. Good Science\n",
    "\n",
    "In the previous tutorial, we had a brief discussion about Machine Learning versus Good Science. We made an important point that is worth repeating here.\n",
    "\n",
    "In general, these experiments show that Machine Learning cannot replace good science. Even if the ML model had performed well on the test-data, it would not have provided an explanation for the underlying relation between signals and stock-returns, so we would not know whether it was truly something that would work in the future. To explain this we need proper scientific reasoning.\n",
    "\n",
    "A good example of scientific reasoning is the discovery and formulation of the Law of Gravity. A simple experiment would be to drop various items from different heights and take lots of measurements of how fast the items fall to the ground.\n",
    "\n",
    "You can then make a noisy scatter-plot that shows the relation between item-size, item-weight, drop-height, and drop-speed. Statistical analysis would be able to give you a rough idea whether there is some relation in the data and if it is statistically significant, so the observed data is probably not just due to random chance. \n",
    "\n",
    "Machine Learning takes this one step further, in that it might be able to create a mathematical or computational model for the non-linear relation in the data, so you could use the ML model to predict the drop-speed if you input the other data. But the ML model would not be able to explain *why* this relation exists in the data. For this we need a proper theoretical framework such as Classical Mechanics in the case of the Law of Gravity.\n",
    "\n",
    "\n",
    "### Predicting Long-Term Stock Returns\n",
    "\n",
    "When it comes to predicting long-term stock-returns, there are actually only 3 factors that matter: The future dividends, sales-growth, and change in the P/Sales valuation ratio. (You could instead use earnings-growth or book-value growth, and the P/E or P/Book valuation ratios.) If we can predict the future dividend, sales-growth and P/Sales ratio, then we can predict the future stock-return.\n",
    "\n",
    "When making scatter-plots of historical P/Sales ratios versus long-term stock-returns, we often see a particular downwards-sloping curve, and it turns out there is a certain formula for this curve, which is derived from the mathematical definition of Annualized Return, see [here](https://github.com/Hvass-Labs/FinanceOps/blob/master/01C_Theory_of_Long-Term_Stock_Forecasting.ipynb). The formula takes as input the average dividend yield, sales-growth and P/Sales ratios that you predict for the future, and produces a curve that can be used to predict future stock-returns from these 3 factors and the P/Sales ratio today. The accuracy of the prediction depends on how well you have predicted these 3 factors.\n",
    "\n",
    "Machine Learning cannot uncover and explain such relations, whether it is the Law of Gravity, or the formula for long-term stock-returns. Human reasoning is still needed for this."
   ]
  },
  {
   "cell_type": "markdown",
   "metadata": {},
   "source": [
    "## License (MIT)\n",
    "\n",
    "This is published under the\n",
    "[MIT License](https://github.com/simfin/simfin-tutorials/blob/master/LICENSE.txt)\n",
    "which allows very broad use for both academic and commercial purposes.\n",
    "\n",
    "You are very welcome to modify and use this source-code in your own project. Please keep a link to the [original repository](https://github.com/simfin/simfin-tutorials).\n"
   ]
  }
 ],
 "metadata": {
  "kernelspec": {
   "display_name": "Python 3",
   "language": "python",
   "name": "python3"
  },
  "language_info": {
   "codemirror_mode": {
    "name": "ipython",
    "version": 3
   },
   "file_extension": ".py",
   "mimetype": "text/x-python",
   "name": "python",
   "nbconvert_exporter": "python",
   "pygments_lexer": "ipython3",
   "version": "3.7.8"
  }
 },
 "nbformat": 4,
 "nbformat_minor": 2
}
