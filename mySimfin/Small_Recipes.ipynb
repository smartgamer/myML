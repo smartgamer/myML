{
 "cells": [
  {
   "cell_type": "markdown",
   "metadata": {},
   "source": [
    "# SimFin - Small Recipes Cookbook\n",
    "\n",
    "[Original repository on GitHub](https://github.com/simfin/simfin-tutorials)\n",
    "\n",
    "This is a collection of small recipes and examples for the [simfin](https://github.com/SimFin/simfin) Python package and [database](https://simfin.com/). You are assumed to be familiar with the basic [tutorials](https://github.com/simfin/simfin-tutorials) before reading this."
   ]
  },
  {
   "cell_type": "markdown",
   "metadata": {},
   "source": [
    "## Imports"
   ]
  },
  {
   "cell_type": "code",
   "execution_count": 1,
   "metadata": {},
   "outputs": [],
   "source": [
    "# Import the main functionality from the SimFin Python API.\n",
    "import simfin as sf\n",
    "\n",
    "# Import names used for easy access to SimFin's data-columns.\n",
    "from simfin.names import *"
   ]
  },
  {
   "cell_type": "markdown",
   "metadata": {},
   "source": [
    "## Config"
   ]
  },
  {
   "cell_type": "code",
   "execution_count": 2,
   "metadata": {},
   "outputs": [],
   "source": [
    "# SimFin data-directory.\n",
    "sf.set_data_dir('~/simfin_data/')\n",
    "\n",
    "# SimFin load API key or use free data.\n",
    "sf.load_api_key(path='~/simfin_api_key.txt', default_key='free')"
   ]
  },
  {
   "cell_type": "code",
   "execution_count": 3,
   "metadata": {},
   "outputs": [],
   "source": [
    "%matplotlib inline"
   ]
  },
  {
   "cell_type": "markdown",
   "metadata": {},
   "source": [
    "## Load Datasets\n",
    "\n",
    "In these examples, we will use the following datasets:"
   ]
  },
  {
   "cell_type": "code",
   "execution_count": 4,
   "metadata": {},
   "outputs": [
    {
     "name": "stdout",
     "output_type": "stream",
     "text": [
      "Dataset \"us-income-ttm\" on disk (0 days old).\n",
      "- Loading from disk ... Done!\n",
      "Dataset \"us-cashflow-ttm\" on disk (0 days old).\n",
      "- Loading from disk ... Done!\n",
      "CPU times: user 786 ms, sys: 63.2 ms, total: 849 ms\n",
      "Wall time: 847 ms\n"
     ]
    }
   ],
   "source": [
    "%%time\n",
    "\n",
    "# Data for USA.\n",
    "market = 'us'\n",
    "\n",
    "# Load TTM Income Statements.\n",
    "df_income_ttm = sf.load_income(variant='ttm', market=market)\n",
    "\n",
    "# Load TTM Cash-Flow Statements.\n",
    "df_cashflow_ttm = sf.load_cashflow(variant='ttm', market=market)"
   ]
  },
  {
   "cell_type": "code",
   "execution_count": 5,
   "metadata": {},
   "outputs": [],
   "source": [
    "# Use TTM datasets by default.\n",
    "df_income = df_income_ttm\n",
    "df_cashflow = df_cashflow_ttm"
   ]
  },
  {
   "cell_type": "markdown",
   "metadata": {},
   "source": [
    "## EBITDA\n",
    "\n",
    "EBITDA (Earnings Before Interest, Taxes, Depreciation and Amortization) commonly has two different definitions, this is the first:\n",
    "\n",
    "$$\n",
    "EBITDA_1 = Net\\ Income + Interest + Taxes + Depreciation + Amortization\n",
    "$$\n",
    "\n",
    "The following shows how to calculate this EBITDA formula using simfin data from two datasets: Income Statements and Cash-Flow Statements.\n",
    "\n",
    "Note that Interest Expense and Income Tax are negated in order to add them back to the Net Income, because those data-columns have negative values in the Income Statement.\n",
    "\n",
    "Also note that we use `fillna(0)` in case some values are NaN (Not-a-Number), which would give an overall result of NaN."
   ]
  },
  {
   "cell_type": "code",
   "execution_count": 6,
   "metadata": {},
   "outputs": [],
   "source": [
    "df_ebitda1 = df_income[NET_INCOME].fillna(0) \\\n",
    "           - df_income[INTEREST_EXP_NET].fillna(0) \\\n",
    "           - df_income[INCOME_TAX].fillna(0) \\\n",
    "           + df_cashflow[DEPR_AMOR].fillna(0)"
   ]
  },
  {
   "cell_type": "markdown",
   "metadata": {},
   "source": [
    "This is the other definition of EBITDA:\n",
    "\n",
    "$$\n",
    "EBITDA_2 = Operating\\ Income + Depreciation + Amortization\n",
    "$$\n",
    "\n",
    "The results of using formula 1 and 2 are not always identical, because the Operating Income is not always identical to Net Income + Interest + Taxes, as explained [here](https://www.investopedia.com/ask/answers/012015/what-difference-between-ebit-and-operating-income.asp) and shown in the statistics below.\n",
    "\n",
    "This is how to calculate EBITDA using the second formula with simfin data:"
   ]
  },
  {
   "cell_type": "code",
   "execution_count": 7,
   "metadata": {},
   "outputs": [],
   "source": [
    "df_ebitda2 = df_income[OPERATING_INCOME].fillna(0) \\\n",
    "           + df_cashflow[DEPR_AMOR].fillna(0)"
   ]
  },
  {
   "cell_type": "markdown",
   "metadata": {},
   "source": [
    "We can print the results of the two EBITDA calculations for ticker MSFT (Microsoft), which are clearly not identical:"
   ]
  },
  {
   "cell_type": "code",
   "execution_count": 8,
   "metadata": {},
   "outputs": [
    {
     "data": {
      "text/plain": [
       "Report Date\n",
       "2004-03-31    1.101900e+10\n",
       "2004-06-30    1.338200e+10\n",
       "2004-09-30    1.310900e+10\n",
       "2004-12-31    1.577400e+10\n",
       "2005-03-31    1.735300e+10\n",
       "dtype: float64"
      ]
     },
     "execution_count": 8,
     "metadata": {},
     "output_type": "execute_result"
    }
   ],
   "source": [
    "df_ebitda1.loc['MSFT'].dropna().head()"
   ]
  },
  {
   "cell_type": "code",
   "execution_count": 9,
   "metadata": {},
   "outputs": [
    {
     "data": {
      "text/plain": [
       "Report Date\n",
       "2004-03-31    7.754000e+09\n",
       "2004-06-30    1.022000e+10\n",
       "2004-09-30    1.042100e+10\n",
       "2004-12-31    1.350300e+10\n",
       "2005-03-31    1.558700e+10\n",
       "dtype: float64"
      ]
     },
     "execution_count": 9,
     "metadata": {},
     "output_type": "execute_result"
    }
   ],
   "source": [
    "df_ebitda2.loc['MSFT'].head()"
   ]
  },
  {
   "cell_type": "markdown",
   "metadata": {},
   "source": [
    "It is only for a small fraction of the financial reports that these two EBITDA formulas give identical results:"
   ]
  },
  {
   "cell_type": "code",
   "execution_count": 10,
   "metadata": {},
   "outputs": [
    {
     "data": {
      "text/plain": [
       "0.06335720012941524"
      ]
     },
     "execution_count": 10,
     "metadata": {},
     "output_type": "execute_result"
    }
   ],
   "source": [
    "(df_ebitda1 == df_ebitda2).sum() / len(df_ebitda1)"
   ]
  },
  {
   "cell_type": "markdown",
   "metadata": {},
   "source": [
    "We can also plot a histogram showing the ratio between the two EBITDA formulas:"
   ]
  },
  {
   "cell_type": "code",
   "execution_count": 11,
   "metadata": {
    "scrolled": true
   },
   "outputs": [
    {
     "data": {
      "text/plain": [
       "<matplotlib.axes._subplots.AxesSubplot at 0x7f11d4c8bfd0>"
      ]
     },
     "execution_count": 11,
     "metadata": {},
     "output_type": "execute_result"
    },
    {
     "data": {
      "image/png": "[encoded data removed]",
      "text/plain": [
       "<Figure size 432x288 with 1 Axes>"
      ]
     },
     "metadata": {
      "needs_background": "light"
     },
     "output_type": "display_data"
    }
   ],
   "source": [
    "# Calculate ratio between the two EBITDA formulas.\n",
    "df_ratio = (df_ebitda1 / df_ebitda2)\n",
    "\n",
    "# There are some extreme outliers, so this boolean mask tells\n",
    "# us which rows have an EBITDA ratio between 0 and 2.\n",
    "mask = df_ratio.between(left=0, right=2)\n",
    "\n",
    "# Plot histogram with the ratios between the two EBITDA formulas.\n",
    "df_ratio[mask].plot(kind='hist', bins=100, grid=True)"
   ]
  },
  {
   "cell_type": "markdown",
   "metadata": {},
   "source": [
    "### EBITDA - SimFin Function\n",
    "\n",
    "The simfin package provides a function `sf.ebitda` for calculating the EBITDA where you can switch betwen the two EBITDA formulas. If you pass the argument `formula=NET_INCOME` then it uses the first formula for the Net Income. If you pass the argument `formula=OPERATING_INCOME` or `formula=OP_INCOME` then it uses the second formula for the Operating Income."
   ]
  },
  {
   "cell_type": "code",
   "execution_count": 12,
   "metadata": {},
   "outputs": [],
   "source": [
    "df_ebitda1 = sf.ebitda(df_income=df_income,\n",
    "                       df_cashflow=df_cashflow,\n",
    "                       formula=NET_INCOME)"
   ]
  },
  {
   "cell_type": "code",
   "execution_count": 13,
   "metadata": {},
   "outputs": [],
   "source": [
    "df_ebitda2 = sf.ebitda(df_income=df_income,\n",
    "                       df_cashflow=df_cashflow,\n",
    "                       formula=OP_INCOME)"
   ]
  },
  {
   "cell_type": "markdown",
   "metadata": {},
   "source": [
    "We can show the results for ticker MSFT and once again see that they are clearly different for the two formulas:"
   ]
  },
  {
   "cell_type": "code",
   "execution_count": 14,
   "metadata": {},
   "outputs": [
    {
     "data": {
      "text/plain": [
       "Report Date\n",
       "2004-03-31    1.101900e+10\n",
       "2004-06-30    1.338200e+10\n",
       "2004-09-30    1.310900e+10\n",
       "2004-12-31    1.577400e+10\n",
       "2005-03-31    1.735300e+10\n",
       "Name: EBITDA, dtype: float64"
      ]
     },
     "execution_count": 14,
     "metadata": {},
     "output_type": "execute_result"
    }
   ],
   "source": [
    "df_ebitda1.loc['MSFT'].head()"
   ]
  },
  {
   "cell_type": "code",
   "execution_count": 15,
   "metadata": {},
   "outputs": [
    {
     "data": {
      "text/plain": [
       "Report Date\n",
       "2004-03-31    7.754000e+09\n",
       "2004-06-30    1.022000e+10\n",
       "2004-09-30    1.042100e+10\n",
       "2004-12-31    1.350300e+10\n",
       "2005-03-31    1.558700e+10\n",
       "Name: EBITDA, dtype: float64"
      ]
     },
     "execution_count": 15,
     "metadata": {},
     "output_type": "execute_result"
    }
   ],
   "source": [
    "df_ebitda2.loc['MSFT'].head()"
   ]
  },
  {
   "cell_type": "markdown",
   "metadata": {},
   "source": [
    "## License (MIT)\n",
    "\n",
    "This is published under the\n",
    "[MIT License](https://github.com/simfin/simfin-tutorials/blob/master/LICENSE.txt)\n",
    "which allows very broad use for both academic and commercial purposes.\n",
    "\n",
    "You are very welcome to modify and use this source-code in your own project. Please keep a link to the [original repository](https://github.com/simfin/simfin-tutorials).\n"
   ]
  }
 ],
 "metadata": {
  "kernelspec": {
   "display_name": "Python 3",
   "language": "python",
   "name": "python3"
  },
  "language_info": {
   "codemirror_mode": {
    "name": "ipython",
    "version": 3
   },
   "file_extension": ".py",
   "mimetype": "text/x-python",
   "name": "python",
   "nbconvert_exporter": "python",
   "pygments_lexer": "ipython3",
   "version": "3.7.8"
  }
 },
 "nbformat": 4,
 "nbformat_minor": 2
}
